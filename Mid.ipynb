{
 "cells": [
  {
   "cell_type": "markdown",
   "metadata": {},
   "source": [
    "# Problem 1"
   ]
  },
  {
   "cell_type": "code",
   "execution_count": 1,
   "metadata": {},
   "outputs": [
    {
     "data": {
      "text/html": [
       "<style>\n",
       ".list-inline {list-style: none; margin:0; padding: 0}\n",
       ".list-inline>li {display: inline-block}\n",
       ".list-inline>li:not(:last-child)::after {content: \"\\00b7\"; padding: 0 .5ex}\n",
       "</style>\n",
       "<ol class=list-inline><li>2</li><li>2</li><li>3</li><li>3</li><li>4</li><li>4</li><li>5</li><li>5</li><li>6</li><li>6</li></ol>\n"
      ],
      "text/latex": [
       "\\begin{enumerate*}\n",
       "\\item 2\n",
       "\\item 2\n",
       "\\item 3\n",
       "\\item 3\n",
       "\\item 4\n",
       "\\item 4\n",
       "\\item 5\n",
       "\\item 5\n",
       "\\item 6\n",
       "\\item 6\n",
       "\\end{enumerate*}\n"
      ],
      "text/markdown": [
       "1. 2\n",
       "2. 2\n",
       "3. 3\n",
       "4. 3\n",
       "5. 4\n",
       "6. 4\n",
       "7. 5\n",
       "8. 5\n",
       "9. 6\n",
       "10. 6\n",
       "\n",
       "\n"
      ],
      "text/plain": [
       " [1] 2 2 3 3 4 4 5 5 6 6"
      ]
     },
     "metadata": {},
     "output_type": "display_data"
    }
   ],
   "source": [
    "# 1)\n",
    "# ?rep: rep(x, times, length.out = NA, each)\n",
    "\n",
    "rep(2:6, each = 2)"
   ]
  },
  {
   "cell_type": "code",
   "execution_count": 2,
   "metadata": {},
   "outputs": [
    {
     "data": {
      "text/html": [
       "<style>\n",
       ".list-inline {list-style: none; margin:0; padding: 0}\n",
       ".list-inline>li {display: inline-block}\n",
       ".list-inline>li:not(:last-child)::after {content: \"\\00b7\"; padding: 0 .5ex}\n",
       "</style>\n",
       "<ol class=list-inline><li>3</li><li>6</li><li>9</li><li>12</li><li>15</li></ol>\n"
      ],
      "text/latex": [
       "\\begin{enumerate*}\n",
       "\\item 3\n",
       "\\item 6\n",
       "\\item 9\n",
       "\\item 12\n",
       "\\item 15\n",
       "\\end{enumerate*}\n"
      ],
      "text/markdown": [
       "1. 3\n",
       "2. 6\n",
       "3. 9\n",
       "4. 12\n",
       "5. 15\n",
       "\n",
       "\n"
      ],
      "text/plain": [
       "[1]  3  6  9 12 15"
      ]
     },
     "metadata": {},
     "output_type": "display_data"
    }
   ],
   "source": [
    "# 2)\n",
    "# ?seq: seq(from, to, by, along.with)\n",
    "\n",
    "seq(3, 16, by=3)"
   ]
  },
  {
   "cell_type": "code",
   "execution_count": 3,
   "metadata": {},
   "outputs": [
    {
     "data": {
      "text/html": [
       "<style>\n",
       ".list-inline {list-style: none; margin:0; padding: 0}\n",
       ".list-inline>li {display: inline-block}\n",
       ".list-inline>li:not(:last-child)::after {content: \"\\00b7\"; padding: 0 .5ex}\n",
       "</style>\n",
       "<ol class=list-inline><li>1</li><li>2</li><li>3</li><li>4</li><li>5</li><li>6</li><li>7</li><li>8</li><li>9</li><li>10</li></ol>\n"
      ],
      "text/latex": [
       "\\begin{enumerate*}\n",
       "\\item 1\n",
       "\\item 2\n",
       "\\item 3\n",
       "\\item 4\n",
       "\\item 5\n",
       "\\item 6\n",
       "\\item 7\n",
       "\\item 8\n",
       "\\item 9\n",
       "\\item 10\n",
       "\\end{enumerate*}\n"
      ],
      "text/markdown": [
       "1. 1\n",
       "2. 2\n",
       "3. 3\n",
       "4. 4\n",
       "5. 5\n",
       "6. 6\n",
       "7. 7\n",
       "8. 8\n",
       "9. 9\n",
       "10. 10\n",
       "\n",
       "\n"
      ],
      "text/plain": [
       " [1]  1  2  3  4  5  6  7  8  9 10"
      ]
     },
     "metadata": {},
     "output_type": "display_data"
    }
   ],
   "source": [
    "# 3)\n",
    "# order(..., na.last, decreasing, method = c(\"auto\", \"shell\", \"radix\"))\n",
    "\n",
    "order(10:1, decreasing = T)"
   ]
  },
  {
   "cell_type": "markdown",
   "metadata": {},
   "source": [
    "# Problem 2"
   ]
  },
  {
   "cell_type": "code",
   "execution_count": 4,
   "metadata": {},
   "outputs": [
    {
     "data": {
      "text/html": [
       "<table>\n",
       "<caption>A data.frame: 10 × 3</caption>\n",
       "<thead>\n",
       "\t<tr><th scope=col>sex</th><th scope=col>graduate</th><th scope=col>score</th></tr>\n",
       "\t<tr><th scope=col>&lt;dbl&gt;</th><th scope=col>&lt;dbl&gt;</th><th scope=col>&lt;int&gt;</th></tr>\n",
       "</thead>\n",
       "<tbody>\n",
       "\t<tr><td>1</td><td>1</td><td> 9</td></tr>\n",
       "\t<tr><td>1</td><td>0</td><td> 8</td></tr>\n",
       "\t<tr><td>1</td><td>1</td><td> 7</td></tr>\n",
       "\t<tr><td>1</td><td>0</td><td> 6</td></tr>\n",
       "\t<tr><td>1</td><td>1</td><td> 5</td></tr>\n",
       "\t<tr><td>1</td><td>0</td><td> 4</td></tr>\n",
       "\t<tr><td>2</td><td>0</td><td> 3</td></tr>\n",
       "\t<tr><td>2</td><td>0</td><td> 2</td></tr>\n",
       "\t<tr><td>2</td><td>0</td><td> 1</td></tr>\n",
       "\t<tr><td>2</td><td>1</td><td>NA</td></tr>\n",
       "</tbody>\n",
       "</table>\n"
      ],
      "text/latex": [
       "A data.frame: 10 × 3\n",
       "\\begin{tabular}{lll}\n",
       " sex & graduate & score\\\\\n",
       " <dbl> & <dbl> & <int>\\\\\n",
       "\\hline\n",
       "\t 1 & 1 &  9\\\\\n",
       "\t 1 & 0 &  8\\\\\n",
       "\t 1 & 1 &  7\\\\\n",
       "\t 1 & 0 &  6\\\\\n",
       "\t 1 & 1 &  5\\\\\n",
       "\t 1 & 0 &  4\\\\\n",
       "\t 2 & 0 &  3\\\\\n",
       "\t 2 & 0 &  2\\\\\n",
       "\t 2 & 0 &  1\\\\\n",
       "\t 2 & 1 & NA\\\\\n",
       "\\end{tabular}\n"
      ],
      "text/markdown": [
       "\n",
       "A data.frame: 10 × 3\n",
       "\n",
       "| sex &lt;dbl&gt; | graduate &lt;dbl&gt; | score &lt;int&gt; |\n",
       "|---|---|---|\n",
       "| 1 | 1 |  9 |\n",
       "| 1 | 0 |  8 |\n",
       "| 1 | 1 |  7 |\n",
       "| 1 | 0 |  6 |\n",
       "| 1 | 1 |  5 |\n",
       "| 1 | 0 |  4 |\n",
       "| 2 | 0 |  3 |\n",
       "| 2 | 0 |  2 |\n",
       "| 2 | 0 |  1 |\n",
       "| 2 | 1 | NA |\n",
       "\n"
      ],
      "text/plain": [
       "   sex graduate score\n",
       "1  1   1         9   \n",
       "2  1   0         8   \n",
       "3  1   1         7   \n",
       "4  1   0         6   \n",
       "5  1   1         5   \n",
       "6  1   0         4   \n",
       "7  2   0         3   \n",
       "8  2   0         2   \n",
       "9  2   0         1   \n",
       "10 2   1        NA   "
      ]
     },
     "metadata": {},
     "output_type": "display_data"
    }
   ],
   "source": [
    "sex = c(1,1,1,1,1,1,2,2,2,2); \n",
    "graduate = c(1,0,1,0,1,0,0,0,0,1); \n",
    "score=c(9:1, NA);\n",
    "\n",
    "zz = data.frame(sex, graduate, score);\n",
    "zz"
   ]
  },
  {
   "cell_type": "code",
   "execution_count": 5,
   "metadata": {
    "scrolled": false
   },
   "outputs": [
    {
     "data": {
      "text/plain": [
       "\n",
       "0 1 \n",
       "6 4 "
      ]
     },
     "metadata": {},
     "output_type": "display_data"
    }
   ],
   "source": [
    "# 1) \n",
    "# table uses the cross-classifying factors to build a contingency table (frequency table)\n",
    "\n",
    "table(zz[,\"graduate\"])"
   ]
  },
  {
   "cell_type": "code",
   "execution_count": 6,
   "metadata": {
    "scrolled": true
   },
   "outputs": [
    {
     "data": {
      "text/html": [
       "<style>\n",
       ".dl-inline {width: auto; margin:0; padding: 0}\n",
       ".dl-inline>dt, .dl-inline>dd {float: none; width: auto; display: inline-block}\n",
       ".dl-inline>dt::after {content: \":\\0020\"; padding-right: .5ex}\n",
       ".dl-inline>dt:not(:first-of-type) {padding-left: .5ex}\n",
       "</style><dl class=dl-inline><dt>sex</dt><dd>1</dd><dt>graduate</dt><dd>0</dd><dt>score</dt><dd>&lt;NA&gt;</dd></dl>\n"
      ],
      "text/latex": [
       "\\begin{description*}\n",
       "\\item[sex] 1\n",
       "\\item[graduate] 0\n",
       "\\item[score] <NA>\n",
       "\\end{description*}\n"
      ],
      "text/markdown": [
       "sex\n",
       ":   1graduate\n",
       ":   0score\n",
       ":   &lt;NA&gt;\n",
       "\n"
      ],
      "text/plain": [
       "     sex graduate    score \n",
       "       1        0       NA "
      ]
     },
     "metadata": {},
     "output_type": "display_data"
    }
   ],
   "source": [
    "# 2)\n",
    "# apply(X, MARGIN (for a matrix 1 indicates rows, 2 indicates columns, c(1, 2)), FUN, ...) \n",
    "\n",
    "apply(zz[-1,],2,min)"
   ]
  },
  {
   "cell_type": "code",
   "execution_count": 7,
   "metadata": {},
   "outputs": [
    {
     "data": {
      "text/html": [
       "<table>\n",
       "<caption>A data.frame: 4 × 3</caption>\n",
       "<thead>\n",
       "\t<tr><th></th><th scope=col>sex</th><th scope=col>graduate</th><th scope=col>score</th></tr>\n",
       "\t<tr><th></th><th scope=col>&lt;dbl&gt;</th><th scope=col>&lt;dbl&gt;</th><th scope=col>&lt;int&gt;</th></tr>\n",
       "</thead>\n",
       "<tbody>\n",
       "\t<tr><th scope=row>1</th><td> 1</td><td> 1</td><td> 9</td></tr>\n",
       "\t<tr><th scope=row>2</th><td> 1</td><td> 0</td><td> 8</td></tr>\n",
       "\t<tr><th scope=row>3</th><td> 1</td><td> 1</td><td> 7</td></tr>\n",
       "\t<tr><th scope=row>NA</th><td>NA</td><td>NA</td><td>NA</td></tr>\n",
       "</tbody>\n",
       "</table>\n"
      ],
      "text/latex": [
       "A data.frame: 4 × 3\n",
       "\\begin{tabular}{r|lll}\n",
       "  & sex & graduate & score\\\\\n",
       "  & <dbl> & <dbl> & <int>\\\\\n",
       "\\hline\n",
       "\t1 &  1 &  1 &  9\\\\\n",
       "\t2 &  1 &  0 &  8\\\\\n",
       "\t3 &  1 &  1 &  7\\\\\n",
       "\tNA & NA & NA & NA\\\\\n",
       "\\end{tabular}\n"
      ],
      "text/markdown": [
       "\n",
       "A data.frame: 4 × 3\n",
       "\n",
       "| <!--/--> | sex &lt;dbl&gt; | graduate &lt;dbl&gt; | score &lt;int&gt; |\n",
       "|---|---|---|---|\n",
       "| 1 |  1 |  1 |  9 |\n",
       "| 2 |  1 |  0 |  8 |\n",
       "| 3 |  1 |  1 |  7 |\n",
       "| NA | NA | NA | NA |\n",
       "\n"
      ],
      "text/plain": [
       "   sex graduate score\n",
       "1   1   1        9   \n",
       "2   1   0        8   \n",
       "3   1   1        7   \n",
       "NA NA  NA       NA   "
      ]
     },
     "metadata": {},
     "output_type": "display_data"
    }
   ],
   "source": [
    "# 3)\n",
    "\n",
    "zz[zz[,3]>6,]"
   ]
  },
  {
   "cell_type": "code",
   "execution_count": 8,
   "metadata": {},
   "outputs": [
    {
     "data": {
      "text/html": [
       "9"
      ],
      "text/latex": [
       "9"
      ],
      "text/markdown": [
       "9"
      ],
      "text/plain": [
       "[1] 9"
      ]
     },
     "metadata": {},
     "output_type": "display_data"
    }
   ],
   "source": [
    "# 4)\n",
    "# Determines the location, i.e., index of the (first) minimum or maximum of a numeric (or logical) vector.\n",
    "\n",
    "which.min(zz$score) # 9th index is NA so 9 is returned"
   ]
  },
  {
   "cell_type": "code",
   "execution_count": 9,
   "metadata": {},
   "outputs": [
    {
     "data": {
      "text/html": [
       "<table>\n",
       "<caption>A data.frame: 10 × 3</caption>\n",
       "<thead>\n",
       "\t<tr><th></th><th scope=col>sex</th><th scope=col>graduate</th><th scope=col>score</th></tr>\n",
       "\t<tr><th></th><th scope=col>&lt;dbl&gt;</th><th scope=col>&lt;dbl&gt;</th><th scope=col>&lt;int&gt;</th></tr>\n",
       "</thead>\n",
       "<tbody>\n",
       "\t<tr><th scope=row>6</th><td>1</td><td>0</td><td> 4</td></tr>\n",
       "\t<tr><th scope=row>5</th><td>1</td><td>1</td><td> 5</td></tr>\n",
       "\t<tr><th scope=row>4</th><td>1</td><td>0</td><td> 6</td></tr>\n",
       "\t<tr><th scope=row>3</th><td>1</td><td>1</td><td> 7</td></tr>\n",
       "\t<tr><th scope=row>2</th><td>1</td><td>0</td><td> 8</td></tr>\n",
       "\t<tr><th scope=row>1</th><td>1</td><td>1</td><td> 9</td></tr>\n",
       "\t<tr><th scope=row>9</th><td>2</td><td>0</td><td> 1</td></tr>\n",
       "\t<tr><th scope=row>8</th><td>2</td><td>0</td><td> 2</td></tr>\n",
       "\t<tr><th scope=row>7</th><td>2</td><td>0</td><td> 3</td></tr>\n",
       "\t<tr><th scope=row>10</th><td>2</td><td>1</td><td>NA</td></tr>\n",
       "</tbody>\n",
       "</table>\n"
      ],
      "text/latex": [
       "A data.frame: 10 × 3\n",
       "\\begin{tabular}{r|lll}\n",
       "  & sex & graduate & score\\\\\n",
       "  & <dbl> & <dbl> & <int>\\\\\n",
       "\\hline\n",
       "\t6 & 1 & 0 &  4\\\\\n",
       "\t5 & 1 & 1 &  5\\\\\n",
       "\t4 & 1 & 0 &  6\\\\\n",
       "\t3 & 1 & 1 &  7\\\\\n",
       "\t2 & 1 & 0 &  8\\\\\n",
       "\t1 & 1 & 1 &  9\\\\\n",
       "\t9 & 2 & 0 &  1\\\\\n",
       "\t8 & 2 & 0 &  2\\\\\n",
       "\t7 & 2 & 0 &  3\\\\\n",
       "\t10 & 2 & 1 & NA\\\\\n",
       "\\end{tabular}\n"
      ],
      "text/markdown": [
       "\n",
       "A data.frame: 10 × 3\n",
       "\n",
       "| <!--/--> | sex &lt;dbl&gt; | graduate &lt;dbl&gt; | score &lt;int&gt; |\n",
       "|---|---|---|---|\n",
       "| 6 | 1 | 0 |  4 |\n",
       "| 5 | 1 | 1 |  5 |\n",
       "| 4 | 1 | 0 |  6 |\n",
       "| 3 | 1 | 1 |  7 |\n",
       "| 2 | 1 | 0 |  8 |\n",
       "| 1 | 1 | 1 |  9 |\n",
       "| 9 | 2 | 0 |  1 |\n",
       "| 8 | 2 | 0 |  2 |\n",
       "| 7 | 2 | 0 |  3 |\n",
       "| 10 | 2 | 1 | NA |\n",
       "\n"
      ],
      "text/plain": [
       "   sex graduate score\n",
       "6  1   0         4   \n",
       "5  1   1         5   \n",
       "4  1   0         6   \n",
       "3  1   1         7   \n",
       "2  1   0         8   \n",
       "1  1   1         9   \n",
       "9  2   0         1   \n",
       "8  2   0         2   \n",
       "7  2   0         3   \n",
       "10 2   1        NA   "
      ]
     },
     "metadata": {},
     "output_type": "display_data"
    }
   ],
   "source": [
    "# 5)\n",
    "\n",
    "zz[order(zz[\"sex\"], zz[\"score\"]), ]"
   ]
  },
  {
   "cell_type": "code",
   "execution_count": 10,
   "metadata": {},
   "outputs": [
    {
     "data": {
      "text/html": [
       "<table>\n",
       "<caption>A data.frame: 4 × 3</caption>\n",
       "<thead>\n",
       "\t<tr><th></th><th scope=col>sex</th><th scope=col>graduate</th><th scope=col>score</th></tr>\n",
       "\t<tr><th></th><th scope=col>&lt;dbl&gt;</th><th scope=col>&lt;dbl&gt;</th><th scope=col>&lt;int&gt;</th></tr>\n",
       "</thead>\n",
       "<tbody>\n",
       "\t<tr><th scope=row>1</th><td>1</td><td>1</td><td> 9</td></tr>\n",
       "\t<tr><th scope=row>3</th><td>1</td><td>1</td><td> 7</td></tr>\n",
       "\t<tr><th scope=row>5</th><td>1</td><td>1</td><td> 5</td></tr>\n",
       "\t<tr><th scope=row>10</th><td>2</td><td>1</td><td>NA</td></tr>\n",
       "</tbody>\n",
       "</table>\n"
      ],
      "text/latex": [
       "A data.frame: 4 × 3\n",
       "\\begin{tabular}{r|lll}\n",
       "  & sex & graduate & score\\\\\n",
       "  & <dbl> & <dbl> & <int>\\\\\n",
       "\\hline\n",
       "\t1 & 1 & 1 &  9\\\\\n",
       "\t3 & 1 & 1 &  7\\\\\n",
       "\t5 & 1 & 1 &  5\\\\\n",
       "\t10 & 2 & 1 & NA\\\\\n",
       "\\end{tabular}\n"
      ],
      "text/markdown": [
       "\n",
       "A data.frame: 4 × 3\n",
       "\n",
       "| <!--/--> | sex &lt;dbl&gt; | graduate &lt;dbl&gt; | score &lt;int&gt; |\n",
       "|---|---|---|---|\n",
       "| 1 | 1 | 1 |  9 |\n",
       "| 3 | 1 | 1 |  7 |\n",
       "| 5 | 1 | 1 |  5 |\n",
       "| 10 | 2 | 1 | NA |\n",
       "\n"
      ],
      "text/plain": [
       "   sex graduate score\n",
       "1  1   1         9   \n",
       "3  1   1         7   \n",
       "5  1   1         5   \n",
       "10 2   1        NA   "
      ]
     },
     "metadata": {},
     "output_type": "display_data"
    }
   ],
   "source": [
    "subset(zz, zz[\"graduate\"] == 1)"
   ]
  },
  {
   "cell_type": "markdown",
   "metadata": {},
   "source": [
    "| Arguments             | Objective                                         | Input                      | Output              |\n",
    "|-----------------------|---------------------------------------------------|----------------------------|---------------------|\n",
    "| apply(X, MARGIN, FUN) | Apply a function to the rows or columns or both   | Data frame or matrix       | vector, list, array |\n",
    "| lapply(X, FUN)        | Apply a function to all the elements of the input | List, vector or data frame | list                |\n",
    "| sapply(X FUN)         | Apply a function to all the elements of the input | List, vector or data frame | vector or matrix    |\n",
    "| tapply(X, INDEX, FUN = NULL) |computes a measure (mean, median, min, max, etc..) or a function for each factor variable in a vector   | Data frame or matrix or subset       | vector, list, array |"
   ]
  },
  {
   "cell_type": "code",
   "execution_count": 11,
   "metadata": {
    "scrolled": true
   },
   "outputs": [
    {
     "data": {
      "text/html": [
       "<style>\n",
       ".dl-inline {width: auto; margin:0; padding: 0}\n",
       ".dl-inline>dt, .dl-inline>dd {float: none; width: auto; display: inline-block}\n",
       ".dl-inline>dt::after {content: \":\\0020\"; padding-right: .5ex}\n",
       ".dl-inline>dt:not(:first-of-type) {padding-left: .5ex}\n",
       "</style><dl class=dl-inline><dt>1</dt><dd>6.5</dd><dt>2</dt><dd>2</dd></dl>\n"
      ],
      "text/latex": [
       "\\begin{description*}\n",
       "\\item[1] 6.5\n",
       "\\item[2] 2\n",
       "\\end{description*}\n"
      ],
      "text/markdown": [
       "1\n",
       ":   6.52\n",
       ":   2\n",
       "\n"
      ],
      "text/plain": [
       "  1   2 \n",
       "6.5 2.0 "
      ]
     },
     "metadata": {},
     "output_type": "display_data"
    }
   ],
   "source": [
    "# 7)\n",
    "\n",
    "tapply(zz$score, zz$sex, mean, na.rm=T)"
   ]
  },
  {
   "cell_type": "code",
   "execution_count": 12,
   "metadata": {},
   "outputs": [
    {
     "data": {
      "text/html": [
       "<style>\n",
       ".dl-inline {width: auto; margin:0; padding: 0}\n",
       ".dl-inline>dt, .dl-inline>dd {float: none; width: auto; display: inline-block}\n",
       ".dl-inline>dt::after {content: \":\\0020\"; padding-right: .5ex}\n",
       ".dl-inline>dt:not(:first-of-type) {padding-left: .5ex}\n",
       "</style><dl class=dl-inline><dt>1</dt><dd>11</dd><dt>2</dt><dd>9</dd><dt>3</dt><dd>9</dd><dt>4</dt><dd>7</dd><dt>5</dt><dd>7</dd><dt>6</dt><dd>5</dd><dt>7</dt><dd>5</dd><dt>9</dt><dd>3</dd><dt>10</dt><dd>&lt;NA&gt;</dd></dl>\n"
      ],
      "text/latex": [
       "\\begin{description*}\n",
       "\\item[1] 11\n",
       "\\item[2] 9\n",
       "\\item[3] 9\n",
       "\\item[4] 7\n",
       "\\item[5] 7\n",
       "\\item[6] 5\n",
       "\\item[7] 5\n",
       "\\item[9] 3\n",
       "\\item[10] <NA>\n",
       "\\end{description*}\n"
      ],
      "text/markdown": [
       "1\n",
       ":   112\n",
       ":   93\n",
       ":   94\n",
       ":   75\n",
       ":   76\n",
       ":   57\n",
       ":   59\n",
       ":   310\n",
       ":   &lt;NA&gt;\n",
       "\n"
      ],
      "text/plain": [
       " 1  2  3  4  5  6  7  9 10 \n",
       "11  9  9  7  7  5  5  3 NA "
      ]
     },
     "metadata": {},
     "output_type": "display_data"
    }
   ],
   "source": [
    "# 8)\n",
    "\n",
    "apply(zz[-8, ], 1, function(x){ sum(x) })"
   ]
  },
  {
   "cell_type": "markdown",
   "metadata": {},
   "source": [
    "# Problem 3"
   ]
  },
  {
   "cell_type": "code",
   "execution_count": 13,
   "metadata": {},
   "outputs": [
    {
     "data": {
      "text/html": [
       "<dl>\n",
       "\t<dt>$sex</dt>\n",
       "\t\t<dd><style>\n",
       ".list-inline {list-style: none; margin:0; padding: 0}\n",
       ".list-inline>li {display: inline-block}\n",
       ".list-inline>li:not(:last-child)::after {content: \"\\00b7\"; padding: 0 .5ex}\n",
       "</style>\n",
       "<ol class=list-inline><li>1</li><li>1</li><li>1</li><li>1</li><li>2</li><li>2</li><li>2</li><li>2</li><li>2</li><li>2</li></ol>\n",
       "</dd>\n",
       "\t<dt>$smoking</dt>\n",
       "\t\t<dd><style>\n",
       ".list-inline {list-style: none; margin:0; padding: 0}\n",
       ".list-inline>li {display: inline-block}\n",
       ".list-inline>li:not(:last-child)::after {content: \"\\00b7\"; padding: 0 .5ex}\n",
       "</style>\n",
       "<ol class=list-inline><li>1</li><li>0</li><li>1</li><li>0</li><li>1</li><li>0</li><li>0</li><li>0</li><li>1</li><li>1</li></ol>\n",
       "</dd>\n",
       "\t<dt>$age</dt>\n",
       "\t\t<dd><style>\n",
       ".list-inline {list-style: none; margin:0; padding: 0}\n",
       ".list-inline>li {display: inline-block}\n",
       ".list-inline>li:not(:last-child)::after {content: \"\\00b7\"; padding: 0 .5ex}\n",
       "</style>\n",
       "<ol class=list-inline><li>21</li><li>22</li><li>23</li><li>24</li><li>25</li><li>26</li><li>27</li><li>28</li><li>29</li><li>30</li></ol>\n",
       "</dd>\n",
       "</dl>\n"
      ],
      "text/latex": [
       "\\begin{description}\n",
       "\\item[\\$sex] \\begin{enumerate*}\n",
       "\\item 1\n",
       "\\item 1\n",
       "\\item 1\n",
       "\\item 1\n",
       "\\item 2\n",
       "\\item 2\n",
       "\\item 2\n",
       "\\item 2\n",
       "\\item 2\n",
       "\\item 2\n",
       "\\end{enumerate*}\n",
       "\n",
       "\\item[\\$smoking] \\begin{enumerate*}\n",
       "\\item 1\n",
       "\\item 0\n",
       "\\item 1\n",
       "\\item 0\n",
       "\\item 1\n",
       "\\item 0\n",
       "\\item 0\n",
       "\\item 0\n",
       "\\item 1\n",
       "\\item 1\n",
       "\\end{enumerate*}\n",
       "\n",
       "\\item[\\$age] \\begin{enumerate*}\n",
       "\\item 21\n",
       "\\item 22\n",
       "\\item 23\n",
       "\\item 24\n",
       "\\item 25\n",
       "\\item 26\n",
       "\\item 27\n",
       "\\item 28\n",
       "\\item 29\n",
       "\\item 30\n",
       "\\end{enumerate*}\n",
       "\n",
       "\\end{description}\n"
      ],
      "text/markdown": [
       "$sex\n",
       ":   1. 1\n",
       "2. 1\n",
       "3. 1\n",
       "4. 1\n",
       "5. 2\n",
       "6. 2\n",
       "7. 2\n",
       "8. 2\n",
       "9. 2\n",
       "10. 2\n",
       "\n",
       "\n",
       "\n",
       "$smoking\n",
       ":   1. 1\n",
       "2. 0\n",
       "3. 1\n",
       "4. 0\n",
       "5. 1\n",
       "6. 0\n",
       "7. 0\n",
       "8. 0\n",
       "9. 1\n",
       "10. 1\n",
       "\n",
       "\n",
       "\n",
       "$age\n",
       ":   1. 21\n",
       "2. 22\n",
       "3. 23\n",
       "4. 24\n",
       "5. 25\n",
       "6. 26\n",
       "7. 27\n",
       "8. 28\n",
       "9. 29\n",
       "10. 30\n",
       "\n",
       "\n",
       "\n",
       "\n",
       "\n"
      ],
      "text/plain": [
       "$sex\n",
       " [1] 1 1 1 1 2 2 2 2 2 2\n",
       "\n",
       "$smoking\n",
       " [1] 1 0 1 0 1 0 0 0 1 1\n",
       "\n",
       "$age\n",
       " [1] 21 22 23 24 25 26 27 28 29 30\n"
      ]
     },
     "metadata": {},
     "output_type": "display_data"
    }
   ],
   "source": [
    "mylist=list(sex = c(1,1,1,1,2,2,2,2,2,2), smoking = c(1,0,1,0,1,0,0,0,1,1), age=c(21:30));\n",
    "mylist"
   ]
  },
  {
   "cell_type": "code",
   "execution_count": 14,
   "metadata": {},
   "outputs": [
    {
     "data": {
      "text/html": [
       "3"
      ],
      "text/latex": [
       "3"
      ],
      "text/markdown": [
       "3"
      ],
      "text/plain": [
       "[1] 3"
      ]
     },
     "metadata": {},
     "output_type": "display_data"
    }
   ],
   "source": [
    "# 1)\n",
    "\n",
    "length(mylist)"
   ]
  },
  {
   "cell_type": "code",
   "execution_count": 15,
   "metadata": {},
   "outputs": [
    {
     "data": {
      "text/html": [
       "<dl>\n",
       "\t<dt>$sex</dt>\n",
       "\t\t<dd><style>\n",
       ".list-inline {list-style: none; margin:0; padding: 0}\n",
       ".list-inline>li {display: inline-block}\n",
       ".list-inline>li:not(:last-child)::after {content: \"\\00b7\"; padding: 0 .5ex}\n",
       "</style>\n",
       "<ol class=list-inline><li>2</li><li>2</li><li>2</li><li>2</li><li>4</li><li>4</li><li>4</li><li>4</li><li>4</li><li>4</li></ol>\n",
       "</dd>\n",
       "\t<dt>$smoking</dt>\n",
       "\t\t<dd><style>\n",
       ".list-inline {list-style: none; margin:0; padding: 0}\n",
       ".list-inline>li {display: inline-block}\n",
       ".list-inline>li:not(:last-child)::after {content: \"\\00b7\"; padding: 0 .5ex}\n",
       "</style>\n",
       "<ol class=list-inline><li>2</li><li>0</li><li>2</li><li>0</li><li>2</li><li>0</li><li>0</li><li>0</li><li>2</li><li>2</li></ol>\n",
       "</dd>\n",
       "\t<dt>$age</dt>\n",
       "\t\t<dd><style>\n",
       ".list-inline {list-style: none; margin:0; padding: 0}\n",
       ".list-inline>li {display: inline-block}\n",
       ".list-inline>li:not(:last-child)::after {content: \"\\00b7\"; padding: 0 .5ex}\n",
       "</style>\n",
       "<ol class=list-inline><li>42</li><li>44</li><li>46</li><li>48</li><li>50</li><li>52</li><li>54</li><li>56</li><li>58</li><li>60</li></ol>\n",
       "</dd>\n",
       "</dl>\n"
      ],
      "text/latex": [
       "\\begin{description}\n",
       "\\item[\\$sex] \\begin{enumerate*}\n",
       "\\item 2\n",
       "\\item 2\n",
       "\\item 2\n",
       "\\item 2\n",
       "\\item 4\n",
       "\\item 4\n",
       "\\item 4\n",
       "\\item 4\n",
       "\\item 4\n",
       "\\item 4\n",
       "\\end{enumerate*}\n",
       "\n",
       "\\item[\\$smoking] \\begin{enumerate*}\n",
       "\\item 2\n",
       "\\item 0\n",
       "\\item 2\n",
       "\\item 0\n",
       "\\item 2\n",
       "\\item 0\n",
       "\\item 0\n",
       "\\item 0\n",
       "\\item 2\n",
       "\\item 2\n",
       "\\end{enumerate*}\n",
       "\n",
       "\\item[\\$age] \\begin{enumerate*}\n",
       "\\item 42\n",
       "\\item 44\n",
       "\\item 46\n",
       "\\item 48\n",
       "\\item 50\n",
       "\\item 52\n",
       "\\item 54\n",
       "\\item 56\n",
       "\\item 58\n",
       "\\item 60\n",
       "\\end{enumerate*}\n",
       "\n",
       "\\end{description}\n"
      ],
      "text/markdown": [
       "$sex\n",
       ":   1. 2\n",
       "2. 2\n",
       "3. 2\n",
       "4. 2\n",
       "5. 4\n",
       "6. 4\n",
       "7. 4\n",
       "8. 4\n",
       "9. 4\n",
       "10. 4\n",
       "\n",
       "\n",
       "\n",
       "$smoking\n",
       ":   1. 2\n",
       "2. 0\n",
       "3. 2\n",
       "4. 0\n",
       "5. 2\n",
       "6. 0\n",
       "7. 0\n",
       "8. 0\n",
       "9. 2\n",
       "10. 2\n",
       "\n",
       "\n",
       "\n",
       "$age\n",
       ":   1. 42\n",
       "2. 44\n",
       "3. 46\n",
       "4. 48\n",
       "5. 50\n",
       "6. 52\n",
       "7. 54\n",
       "8. 56\n",
       "9. 58\n",
       "10. 60\n",
       "\n",
       "\n",
       "\n",
       "\n",
       "\n"
      ],
      "text/plain": [
       "$sex\n",
       " [1] 2 2 2 2 4 4 4 4 4 4\n",
       "\n",
       "$smoking\n",
       " [1] 2 0 2 0 2 0 0 0 2 2\n",
       "\n",
       "$age\n",
       " [1] 42 44 46 48 50 52 54 56 58 60\n"
      ]
     },
     "metadata": {},
     "output_type": "display_data"
    }
   ],
   "source": [
    "# 2)\n",
    "\n",
    "lapply(mylist, function(kk){ kk*2 })"
   ]
  },
  {
   "cell_type": "code",
   "execution_count": 16,
   "metadata": {},
   "outputs": [
    {
     "data": {
      "text/html": [
       "<style>\n",
       ".dl-inline {width: auto; margin:0; padding: 0}\n",
       ".dl-inline>dt, .dl-inline>dd {float: none; width: auto; display: inline-block}\n",
       ".dl-inline>dt::after {content: \":\\0020\"; padding-right: .5ex}\n",
       ".dl-inline>dt:not(:first-of-type) {padding-left: .5ex}\n",
       "</style><dl class=dl-inline><dt>sex</dt><dd>1</dd><dt>smoking</dt><dd>0</dd><dt>age</dt><dd>21</dd></dl>\n"
      ],
      "text/latex": [
       "\\begin{description*}\n",
       "\\item[sex] 1\n",
       "\\item[smoking] 0\n",
       "\\item[age] 21\n",
       "\\end{description*}\n"
      ],
      "text/markdown": [
       "sex\n",
       ":   1smoking\n",
       ":   0age\n",
       ":   21\n",
       "\n"
      ],
      "text/plain": [
       "    sex smoking     age \n",
       "      1       0      21 "
      ]
     },
     "metadata": {},
     "output_type": "display_data"
    }
   ],
   "source": [
    "# 3)\n",
    "\n",
    "sapply(mylist, min)"
   ]
  },
  {
   "cell_type": "code",
   "execution_count": 17,
   "metadata": {},
   "outputs": [
    {
     "data": {
      "text/html": [
       "<style>\n",
       ".list-inline {list-style: none; margin:0; padding: 0}\n",
       ".list-inline>li {display: inline-block}\n",
       ".list-inline>li:not(:last-child)::after {content: \"\\00b7\"; padding: 0 .5ex}\n",
       "</style>\n",
       "<ol class=list-inline><li>0</li><li>1</li><li>0</li><li>1</li><li>1</li><li>8</li><li>8</li><li>8</li><li>1</li><li>1</li></ol>\n"
      ],
      "text/latex": [
       "\\begin{enumerate*}\n",
       "\\item 0\n",
       "\\item 1\n",
       "\\item 0\n",
       "\\item 1\n",
       "\\item 1\n",
       "\\item 8\n",
       "\\item 8\n",
       "\\item 8\n",
       "\\item 1\n",
       "\\item 1\n",
       "\\end{enumerate*}\n"
      ],
      "text/markdown": [
       "1. 0\n",
       "2. 1\n",
       "3. 0\n",
       "4. 1\n",
       "5. 1\n",
       "6. 8\n",
       "7. 8\n",
       "8. 8\n",
       "9. 1\n",
       "10. 1\n",
       "\n",
       "\n"
      ],
      "text/plain": [
       " [1] 0 1 0 1 1 8 8 8 1 1"
      ]
     },
     "metadata": {},
     "output_type": "display_data"
    }
   ],
   "source": [
    "# 4)\n",
    "\n",
    "(mylist$sex - mylist$smoking)^3"
   ]
  },
  {
   "cell_type": "markdown",
   "metadata": {},
   "source": [
    "# Problem 4"
   ]
  },
  {
   "cell_type": "code",
   "execution_count": 18,
   "metadata": {},
   "outputs": [
    {
     "data": {
      "text/html": [
       "<table>\n",
       "<caption>A matrix: 2 × 5 of type dbl</caption>\n",
       "<tbody>\n",
       "\t<tr><td>1</td><td>2</td><td>NA</td><td>3</td><td>4</td></tr>\n",
       "\t<tr><td>5</td><td>6</td><td> 7</td><td>8</td><td>9</td></tr>\n",
       "</tbody>\n",
       "</table>\n"
      ],
      "text/latex": [
       "A matrix: 2 × 5 of type dbl\n",
       "\\begin{tabular}{lllll}\n",
       "\t 1 & 2 & NA & 3 & 4\\\\\n",
       "\t 5 & 6 &  7 & 8 & 9\\\\\n",
       "\\end{tabular}\n"
      ],
      "text/markdown": [
       "\n",
       "A matrix: 2 × 5 of type dbl\n",
       "\n",
       "| 1 | 2 | NA | 3 | 4 |\n",
       "| 5 | 6 |  7 | 8 | 9 |\n",
       "\n"
      ],
      "text/plain": [
       "     [,1] [,2] [,3] [,4] [,5]\n",
       "[1,] 1    2    NA   3    4   \n",
       "[2,] 5    6     7   8    9   "
      ]
     },
     "metadata": {},
     "output_type": "display_data"
    },
    {
     "data": {
      "text/html": [
       "<style>\n",
       ".list-inline {list-style: none; margin:0; padding: 0}\n",
       ".list-inline>li {display: inline-block}\n",
       ".list-inline>li:not(:last-child)::after {content: \"\\00b7\"; padding: 0 .5ex}\n",
       "</style>\n",
       "<ol class=list-inline><li>6</li><li>8</li><li>7</li><li>11</li><li>13</li></ol>\n"
      ],
      "text/latex": [
       "\\begin{enumerate*}\n",
       "\\item 6\n",
       "\\item 8\n",
       "\\item 7\n",
       "\\item 11\n",
       "\\item 13\n",
       "\\end{enumerate*}\n"
      ],
      "text/markdown": [
       "1. 6\n",
       "2. 8\n",
       "3. 7\n",
       "4. 11\n",
       "5. 13\n",
       "\n",
       "\n"
      ],
      "text/plain": [
       "[1]  6  8  7 11 13"
      ]
     },
     "metadata": {},
     "output_type": "display_data"
    },
    {
     "data": {
      "text/html": [
       "<style>\n",
       ".list-inline {list-style: none; margin:0; padding: 0}\n",
       ".list-inline>li {display: inline-block}\n",
       ".list-inline>li:not(:last-child)::after {content: \"\\00b7\"; padding: 0 .5ex}\n",
       "</style>\n",
       "<ol class=list-inline><li>2.5</li><li>7</li></ol>\n"
      ],
      "text/latex": [
       "\\begin{enumerate*}\n",
       "\\item 2.5\n",
       "\\item 7\n",
       "\\end{enumerate*}\n"
      ],
      "text/markdown": [
       "1. 2.5\n",
       "2. 7\n",
       "\n",
       "\n"
      ],
      "text/plain": [
       "[1] 2.5 7.0"
      ]
     },
     "metadata": {},
     "output_type": "display_data"
    }
   ],
   "source": [
    "zz = matrix(c(c(1,2,NA), c(3,4,5), 6:9), nrow=2, ncol=5, byrow = TRUE)\n",
    "zz\n",
    "\n",
    "apply(zz, 2, sum, na.rm=TRUE)\n",
    "apply(zz, 1, mean, na.rm=TRUE)"
   ]
  },
  {
   "cell_type": "markdown",
   "metadata": {},
   "source": [
    "# Problem 5"
   ]
  },
  {
   "cell_type": "code",
   "execution_count": 19,
   "metadata": {},
   "outputs": [
    {
     "data": {
      "text/html": [
       "<table>\n",
       "<caption>A data.frame: 7 × 11</caption>\n",
       "<thead>\n",
       "\t<tr><th></th><th scope=col>mpg</th><th scope=col>cyl</th><th scope=col>disp</th><th scope=col>hp</th><th scope=col>drat</th><th scope=col>wt</th><th scope=col>qsec</th><th scope=col>vs</th><th scope=col>am</th><th scope=col>gear</th><th scope=col>carb</th></tr>\n",
       "\t<tr><th></th><th scope=col>&lt;dbl&gt;</th><th scope=col>&lt;dbl&gt;</th><th scope=col>&lt;dbl&gt;</th><th scope=col>&lt;dbl&gt;</th><th scope=col>&lt;dbl&gt;</th><th scope=col>&lt;dbl&gt;</th><th scope=col>&lt;dbl&gt;</th><th scope=col>&lt;dbl&gt;</th><th scope=col>&lt;dbl&gt;</th><th scope=col>&lt;dbl&gt;</th><th scope=col>&lt;dbl&gt;</th></tr>\n",
       "</thead>\n",
       "<tbody>\n",
       "\t<tr><th scope=row>Hornet 4 Drive</th><td>21.4</td><td>6</td><td>258.0</td><td>110</td><td>3.08</td><td>3.215</td><td>19.44</td><td>1</td><td>0</td><td>3</td><td>1</td></tr>\n",
       "\t<tr><th scope=row>Hornet Sportabout</th><td>18.7</td><td>8</td><td>360.0</td><td>175</td><td>3.15</td><td>3.440</td><td>17.02</td><td>0</td><td>0</td><td>3</td><td>2</td></tr>\n",
       "\t<tr><th scope=row>Valiant</th><td>18.1</td><td>6</td><td>225.0</td><td>105</td><td>2.76</td><td>3.460</td><td>20.22</td><td>1</td><td>0</td><td>3</td><td>1</td></tr>\n",
       "\t<tr><th scope=row>Duster 360</th><td>14.3</td><td>8</td><td>360.0</td><td>245</td><td>3.21</td><td>3.570</td><td>15.84</td><td>0</td><td>0</td><td>3</td><td>4</td></tr>\n",
       "\t<tr><th scope=row>Merc 240D</th><td>24.4</td><td>4</td><td>146.7</td><td> 62</td><td>3.69</td><td>3.190</td><td>20.00</td><td>1</td><td>0</td><td>4</td><td>2</td></tr>\n",
       "\t<tr><th scope=row>Merc 230</th><td>22.8</td><td>4</td><td>140.8</td><td> 95</td><td>3.92</td><td>3.150</td><td>22.90</td><td>1</td><td>0</td><td>4</td><td>2</td></tr>\n",
       "\t<tr><th scope=row>Merc 280</th><td>19.2</td><td>6</td><td>167.6</td><td>123</td><td>3.92</td><td>3.440</td><td>18.30</td><td>1</td><td>0</td><td>4</td><td>4</td></tr>\n",
       "</tbody>\n",
       "</table>\n"
      ],
      "text/latex": [
       "A data.frame: 7 × 11\n",
       "\\begin{tabular}{r|lllllllllll}\n",
       "  & mpg & cyl & disp & hp & drat & wt & qsec & vs & am & gear & carb\\\\\n",
       "  & <dbl> & <dbl> & <dbl> & <dbl> & <dbl> & <dbl> & <dbl> & <dbl> & <dbl> & <dbl> & <dbl>\\\\\n",
       "\\hline\n",
       "\tHornet 4 Drive & 21.4 & 6 & 258.0 & 110 & 3.08 & 3.215 & 19.44 & 1 & 0 & 3 & 1\\\\\n",
       "\tHornet Sportabout & 18.7 & 8 & 360.0 & 175 & 3.15 & 3.440 & 17.02 & 0 & 0 & 3 & 2\\\\\n",
       "\tValiant & 18.1 & 6 & 225.0 & 105 & 2.76 & 3.460 & 20.22 & 1 & 0 & 3 & 1\\\\\n",
       "\tDuster 360 & 14.3 & 8 & 360.0 & 245 & 3.21 & 3.570 & 15.84 & 0 & 0 & 3 & 4\\\\\n",
       "\tMerc 240D & 24.4 & 4 & 146.7 &  62 & 3.69 & 3.190 & 20.00 & 1 & 0 & 4 & 2\\\\\n",
       "\tMerc 230 & 22.8 & 4 & 140.8 &  95 & 3.92 & 3.150 & 22.90 & 1 & 0 & 4 & 2\\\\\n",
       "\tMerc 280 & 19.2 & 6 & 167.6 & 123 & 3.92 & 3.440 & 18.30 & 1 & 0 & 4 & 4\\\\\n",
       "\\end{tabular}\n"
      ],
      "text/markdown": [
       "\n",
       "A data.frame: 7 × 11\n",
       "\n",
       "| <!--/--> | mpg &lt;dbl&gt; | cyl &lt;dbl&gt; | disp &lt;dbl&gt; | hp &lt;dbl&gt; | drat &lt;dbl&gt; | wt &lt;dbl&gt; | qsec &lt;dbl&gt; | vs &lt;dbl&gt; | am &lt;dbl&gt; | gear &lt;dbl&gt; | carb &lt;dbl&gt; |\n",
       "|---|---|---|---|---|---|---|---|---|---|---|---|\n",
       "| Hornet 4 Drive | 21.4 | 6 | 258.0 | 110 | 3.08 | 3.215 | 19.44 | 1 | 0 | 3 | 1 |\n",
       "| Hornet Sportabout | 18.7 | 8 | 360.0 | 175 | 3.15 | 3.440 | 17.02 | 0 | 0 | 3 | 2 |\n",
       "| Valiant | 18.1 | 6 | 225.0 | 105 | 2.76 | 3.460 | 20.22 | 1 | 0 | 3 | 1 |\n",
       "| Duster 360 | 14.3 | 8 | 360.0 | 245 | 3.21 | 3.570 | 15.84 | 0 | 0 | 3 | 4 |\n",
       "| Merc 240D | 24.4 | 4 | 146.7 |  62 | 3.69 | 3.190 | 20.00 | 1 | 0 | 4 | 2 |\n",
       "| Merc 230 | 22.8 | 4 | 140.8 |  95 | 3.92 | 3.150 | 22.90 | 1 | 0 | 4 | 2 |\n",
       "| Merc 280 | 19.2 | 6 | 167.6 | 123 | 3.92 | 3.440 | 18.30 | 1 | 0 | 4 | 4 |\n",
       "\n"
      ],
      "text/plain": [
       "                  mpg  cyl disp  hp  drat wt    qsec  vs am gear carb\n",
       "Hornet 4 Drive    21.4 6   258.0 110 3.08 3.215 19.44 1  0  3    1   \n",
       "Hornet Sportabout 18.7 8   360.0 175 3.15 3.440 17.02 0  0  3    2   \n",
       "Valiant           18.1 6   225.0 105 2.76 3.460 20.22 1  0  3    1   \n",
       "Duster 360        14.3 8   360.0 245 3.21 3.570 15.84 0  0  3    4   \n",
       "Merc 240D         24.4 4   146.7  62 3.69 3.190 20.00 1  0  4    2   \n",
       "Merc 230          22.8 4   140.8  95 3.92 3.150 22.90 1  0  4    2   \n",
       "Merc 280          19.2 6   167.6 123 3.92 3.440 18.30 1  0  4    4   "
      ]
     },
     "metadata": {},
     "output_type": "display_data"
    }
   ],
   "source": [
    "data(mtcars)\n",
    "mtcars = mtcars[4:10,]\n",
    "mtcars\n",
    "\n",
    "temp = mtcars[, c('vs', 'gear')]"
   ]
  },
  {
   "cell_type": "code",
   "execution_count": 20,
   "metadata": {},
   "outputs": [
    {
     "name": "stderr",
     "output_type": "stream",
     "text": [
      "No id variables; using all as measure variables\n"
     ]
    },
    {
     "data": {
      "text/html": [
       "<table>\n",
       "<caption>A data.frame: 14 × 2</caption>\n",
       "<thead>\n",
       "\t<tr><th scope=col>variable</th><th scope=col>value</th></tr>\n",
       "\t<tr><th scope=col>&lt;fct&gt;</th><th scope=col>&lt;dbl&gt;</th></tr>\n",
       "</thead>\n",
       "<tbody>\n",
       "\t<tr><td>vs  </td><td>1</td></tr>\n",
       "\t<tr><td>vs  </td><td>0</td></tr>\n",
       "\t<tr><td>vs  </td><td>1</td></tr>\n",
       "\t<tr><td>vs  </td><td>0</td></tr>\n",
       "\t<tr><td>vs  </td><td>1</td></tr>\n",
       "\t<tr><td>vs  </td><td>1</td></tr>\n",
       "\t<tr><td>vs  </td><td>1</td></tr>\n",
       "\t<tr><td>gear</td><td>3</td></tr>\n",
       "\t<tr><td>gear</td><td>3</td></tr>\n",
       "\t<tr><td>gear</td><td>3</td></tr>\n",
       "\t<tr><td>gear</td><td>3</td></tr>\n",
       "\t<tr><td>gear</td><td>4</td></tr>\n",
       "\t<tr><td>gear</td><td>4</td></tr>\n",
       "\t<tr><td>gear</td><td>4</td></tr>\n",
       "</tbody>\n",
       "</table>\n"
      ],
      "text/latex": [
       "A data.frame: 14 × 2\n",
       "\\begin{tabular}{ll}\n",
       " variable & value\\\\\n",
       " <fct> & <dbl>\\\\\n",
       "\\hline\n",
       "\t vs   & 1\\\\\n",
       "\t vs   & 0\\\\\n",
       "\t vs   & 1\\\\\n",
       "\t vs   & 0\\\\\n",
       "\t vs   & 1\\\\\n",
       "\t vs   & 1\\\\\n",
       "\t vs   & 1\\\\\n",
       "\t gear & 3\\\\\n",
       "\t gear & 3\\\\\n",
       "\t gear & 3\\\\\n",
       "\t gear & 3\\\\\n",
       "\t gear & 4\\\\\n",
       "\t gear & 4\\\\\n",
       "\t gear & 4\\\\\n",
       "\\end{tabular}\n"
      ],
      "text/markdown": [
       "\n",
       "A data.frame: 14 × 2\n",
       "\n",
       "| variable &lt;fct&gt; | value &lt;dbl&gt; |\n",
       "|---|---|\n",
       "| vs   | 1 |\n",
       "| vs   | 0 |\n",
       "| vs   | 1 |\n",
       "| vs   | 0 |\n",
       "| vs   | 1 |\n",
       "| vs   | 1 |\n",
       "| vs   | 1 |\n",
       "| gear | 3 |\n",
       "| gear | 3 |\n",
       "| gear | 3 |\n",
       "| gear | 3 |\n",
       "| gear | 4 |\n",
       "| gear | 4 |\n",
       "| gear | 4 |\n",
       "\n"
      ],
      "text/plain": [
       "   variable value\n",
       "1  vs       1    \n",
       "2  vs       0    \n",
       "3  vs       1    \n",
       "4  vs       0    \n",
       "5  vs       1    \n",
       "6  vs       1    \n",
       "7  vs       1    \n",
       "8  gear     3    \n",
       "9  gear     3    \n",
       "10 gear     3    \n",
       "11 gear     3    \n",
       "12 gear     4    \n",
       "13 gear     4    \n",
       "14 gear     4    "
      ]
     },
     "metadata": {},
     "output_type": "display_data"
    }
   ],
   "source": [
    "# a)\n",
    "\n",
    "library(reshape2)\n",
    "\n",
    "m_temp = melt(temp)\n",
    "m_temp"
   ]
  },
  {
   "cell_type": "code",
   "execution_count": 34,
   "metadata": {
    "scrolled": false
   },
   "outputs": [
    {
     "name": "stderr",
     "output_type": "stream",
     "text": [
      "No id variables; using all as measure variables\n"
     ]
    },
    {
     "name": "stdout",
     "output_type": "stream",
     "text": [
      "\u001b[90m# A tibble: 2 x 3\u001b[39m\n",
      "  variable    m1    m2\n",
      "  \u001b[3m\u001b[90m<fct>\u001b[39m\u001b[23m    \u001b[3m\u001b[90m<dbl>\u001b[39m\u001b[23m \u001b[3m\u001b[90m<int>\u001b[39m\u001b[23m\n",
      "\u001b[90m1\u001b[39m vs           5     7\n",
      "\u001b[90m2\u001b[39m gear        24     7\n"
     ]
    }
   ],
   "source": [
    "library(dplyr)\n",
    "\n",
    "m_temp = melt(temp)\n",
    "grp = group_by(m_temp, variable)\n",
    "print(summarise(grp, m1=sum(value), m2=n()))"
   ]
  },
  {
   "cell_type": "markdown",
   "metadata": {},
   "source": [
    "# Problem 6"
   ]
  },
  {
   "cell_type": "code",
   "execution_count": 36,
   "metadata": {},
   "outputs": [
    {
     "data": {
      "text/html": [
       "&lt;NA&gt;"
      ],
      "text/latex": [
       "<NA>"
      ],
      "text/markdown": [
       "&lt;NA&gt;"
      ],
      "text/plain": [
       "[1] NA"
      ]
     },
     "metadata": {},
     "output_type": "display_data"
    },
    {
     "data": {
      "text/html": [
       "3.02765035409749"
      ],
      "text/latex": [
       "3.02765035409749"
      ],
      "text/markdown": [
       "3.02765035409749"
      ],
      "text/plain": [
       "[1] 3.02765"
      ]
     },
     "metadata": {},
     "output_type": "display_data"
    },
    {
     "data": {
      "text/html": [
       "0"
      ],
      "text/latex": [
       "0"
      ],
      "text/markdown": [
       "0"
      ],
      "text/plain": [
       "[1] 0"
      ]
     },
     "metadata": {},
     "output_type": "display_data"
    }
   ],
   "source": [
    "# a)\n",
    "\n",
    "sd <- function(x) {\n",
    "    n = length(x)\n",
    "    m = mean(x)\n",
    "    if(n == 1) {\n",
    "        return(NA)\n",
    "    } else {\n",
    "        sum <- 0\n",
    "        for(i in 1:n){\n",
    "            sum <- sum + ((x[i] - m)^2)\n",
    "        }\n",
    "        sum <- sqrt((1/(n-1))* sum)\n",
    "        return(sum)\n",
    "    }\n",
    "}\n",
    "sd(1)\n",
    "sd(1:10)\n",
    "sd(c(1,1,1,1,1,1))"
   ]
  },
  {
   "cell_type": "code",
   "execution_count": 92,
   "metadata": {},
   "outputs": [
    {
     "data": {
      "text/html": [
       "<style>\n",
       ".list-inline {list-style: none; margin:0; padding: 0}\n",
       ".list-inline>li {display: inline-block}\n",
       ".list-inline>li:not(:last-child)::after {content: \"\\00b7\"; padding: 0 .5ex}\n",
       "</style>\n",
       "<ol class=list-inline><li>1</li><li>2</li><li>3</li><li>4</li><li>5</li><li>6</li><li>7</li><li>10</li></ol>\n"
      ],
      "text/latex": [
       "\\begin{enumerate*}\n",
       "\\item 1\n",
       "\\item 2\n",
       "\\item 3\n",
       "\\item 4\n",
       "\\item 5\n",
       "\\item 6\n",
       "\\item 7\n",
       "\\item 10\n",
       "\\end{enumerate*}\n"
      ],
      "text/markdown": [
       "1. 1\n",
       "2. 2\n",
       "3. 3\n",
       "4. 4\n",
       "5. 5\n",
       "6. 6\n",
       "7. 7\n",
       "8. 10\n",
       "\n",
       "\n"
      ],
      "text/plain": [
       "[1]  1  2  3  4  5  6  7 10"
      ]
     },
     "metadata": {},
     "output_type": "display_data"
    }
   ],
   "source": [
    "# b)\n",
    "\n",
    "Merge <- function(s1, s2) { \n",
    "    i <- 1\n",
    "    j <- 1\n",
    "    k <- 1\n",
    "    out <- c()\n",
    "    \n",
    "    while(j <= length(s1) & k <= length(s2)) {\n",
    "        if(s1[j] <= s2[k]) {\n",
    "            out[i] <- s1[j]\n",
    "            j <- j + 1\n",
    "            i <- i + 1\n",
    "        } else {\n",
    "            out[i] <- s2[k]\n",
    "            k <- k + 1\n",
    "            i <- i + 1\n",
    "        }\n",
    "    }\n",
    "    while(j <= length(s1)){\n",
    "        out[i] <- s1[j]\n",
    "        j <- j + 1\n",
    "        i <- i + 1\n",
    "    }\n",
    "    while(k <= length(s2)){\n",
    "        out[i] <- s2[k]\n",
    "        k <- k + 1\n",
    "        i <- i + 1\n",
    "    }\n",
    "    return(out)\n",
    "}\n",
    "\n",
    "S1 = c(1,3,5,7)\n",
    "S2 = c(2,4,6,10)\n",
    "Merge(S1, S2)\n"
   ]
  },
  {
   "cell_type": "code",
   "execution_count": 96,
   "metadata": {
    "scrolled": true
   },
   "outputs": [
    {
     "name": "stdout",
     "output_type": "stream",
     "text": [
      "[1] 1\n",
      "[1] 1\n",
      "[1] 3.542248e+20\n"
     ]
    }
   ],
   "source": [
    "fib <- function(n) {\n",
    "  if (n == 0) {\n",
    "    return(0)\n",
    "  } else if (n == 1) {\n",
    "    return(1)\n",
    "  } else if (n > 1) {\n",
    "    current <- 0\n",
    "    old <- 1\n",
    "    for (i in seq (0, n)) {\n",
    "      out <- current\n",
    "      current <- current + old\n",
    "      old <- out\n",
    "    }\n",
    "  }\n",
    "  return(out)\n",
    "}\n",
    "\n",
    "print(fib(1))\n",
    "print(fib(2))\n",
    "print(fib(100))"
   ]
  },
  {
   "cell_type": "code",
   "execution_count": 105,
   "metadata": {},
   "outputs": [],
   "source": [
    "fib <- function(n) {\n",
    "    tot <- 0\n",
    "    while(tot <= n) {\n",
    "        current <- 0\n",
    "        old <- 1\n",
    "        x <- 0\n",
    "        for (i in seq (0, x)) {\n",
    "          out <- current\n",
    "          current <- current + old\n",
    "          old <- out\n",
    "        }\n",
    "        x = x + 1\n",
    "        tot = tot + out\n",
    "    }\n",
    "    return(tot)\n",
    "}\n",
    "\n",
    "print(fib(1))\n",
    "print(fib(2))\n",
    "print(fib(100))"
   ]
  }
 ],
 "metadata": {
  "kernelspec": {
   "display_name": "R",
   "language": "R",
   "name": "ir"
  },
  "language_info": {
   "codemirror_mode": "r",
   "file_extension": ".r",
   "mimetype": "text/x-r-source",
   "name": "R",
   "pygments_lexer": "r",
   "version": "3.6.2"
  }
 },
 "nbformat": 4,
 "nbformat_minor": 2
}
