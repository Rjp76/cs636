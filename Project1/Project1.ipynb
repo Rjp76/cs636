{
 "cells": [
  {
   "cell_type": "code",
   "execution_count": 3,
   "metadata": {},
   "outputs": [],
   "source": [
    "#Required Libraries\n",
    "# install.packages('bitops')\n",
    "# install.packages('RCurl')\n",
    "# install.packages('XML')\n",
    "# install.packages('stringr')\n",
    "# install.packages('httr')\n",
    "\n",
    "\n",
    "library(bitops)\n",
    "library(RCurl)\n",
    "library(XML)\n",
    "library(stringr)\n",
    "library(httr)"
   ]
  },
  {
   "cell_type": "code",
   "execution_count": 4,
   "metadata": {},
   "outputs": [],
   "source": [
    "#Url of the main page\n",
    "site = \"https://bmcmedgenet.biomedcentral.com/articles\"\n",
    "pagination_link = \"searchType=journalSearch&sort=PubDate&page=\""
   ]
  },
  {
   "cell_type": "code",
   "execution_count": 5,
   "metadata": {},
   "outputs": [],
   "source": [
    "#Parse the main page\n",
    "main.page = readLines(site)"
   ]
  },
  {
   "cell_type": "code",
   "execution_count": 6,
   "metadata": {},
   "outputs": [],
   "source": [
    "#Few regex patterns needed\n",
    "link_pattern = \"<a itemprop=\\\"url\\\" data-test=\\\"title-link\\\" href=\\\"/articles/(.*?)\\\">\"\n",
    "pub_date_pattern = \"itemprop=\\\"datePublished\\\">(.*?)<\""
   ]
  },
  {
   "cell_type": "code",
   "execution_count": 7,
   "metadata": {},
   "outputs": [],
   "source": [
    "to_date <- function(str){\n",
    "    return(as.Date(str_replace_all(str,'\\\\s','-'),format=\"%d-%b-%Y\"))\n",
    "}"
   ]
  },
  {
   "cell_type": "code",
   "execution_count": 8,
   "metadata": {},
   "outputs": [],
   "source": [
    "get_links <- function(link, year){\n",
    "    pageLinks = c()\n",
    "    articlePaths = c()\n",
    "    date = to_date(paste('01 January ',year, sep=\"\"))\n",
    "\n",
    "    page = readLines(link)\n",
    "    articlePaths = str_match(page, link_pattern)\n",
    "    articlePaths <- articlePaths[,2][ !is.na( articlePaths[,2] ) ]\n",
    "    \n",
    "    article_pub_dates = str_match(page, pub_date_pattern)\n",
    "    article_pub_dates <- article_pub_dates[,2][ !is.na( article_pub_dates[,2] ) ]\n",
    "\n",
    "    for (path in 1:length(articlePaths)){\n",
    "        article_date = to_date(article_pub_dates[path])\n",
    "        \n",
    "        if( article_date >= date) {\n",
    "            pageLinks[path] = paste(site,'/',articlePaths[path],sep=\"\")\n",
    "        }\n",
    "        \n",
    "    }\n",
    "    return(pageLinks)\n",
    "   \n",
    "}"
   ]
  },
  {
   "cell_type": "code",
   "execution_count": 89,
   "metadata": {
    "scrolled": true
   },
   "outputs": [],
   "source": [
    "options(warn=-1)\n",
    "lastPage = 43\n",
    "allLinks = list()\n",
    "\n",
    "for(i in 1:lastPage){\n",
    "    sitePage = paste(site,'?',pagination_link,i, sep=\"\")\n",
    "    allLinks[i] = list(get_links(sitePage, '2019'))\n",
    "}\n",
    "allLinks = unlist(allLinks)"
   ]
  },
  {
   "cell_type": "code",
   "execution_count": 159,
   "metadata": {
    "scrolled": true
   },
   "outputs": [],
   "source": [
    "colnames = c('title', 'authors', 'affiliations', 'corr_author', 'corr_author_link', \n",
    "                  'pub_date', 'pub_abstract', 'key_words', 'full_paper')\n",
    "out = data.frame(matrix(ncol=length(colnames),nrow=0, dimnames=list(NULL, colnames)))\n",
    "\n",
    "for(link in 1:length(allLinks)){\n",
    "    \n",
    "    pageData = readLines(allLinks[link])\n",
    "\n",
    "    pattern_title = \"dc.title\\\" content=\\\"(.*?)\\\"\"\n",
    "    temp_title = str_match(pageData, pattern_title)\n",
    "    title = temp_title[,2][ !is.na( temp_title[,2] ) ]\n",
    "#     title\n",
    "\n",
    "    pattern_author = \"citation_author\\\" content=\\\"(.*?)\\\"\"\n",
    "    temp_author = str_match(pageData, pattern_author)\n",
    "    authors = temp_author[,2][ !is.na( temp_author[,2] ) ]\n",
    "#     authors\n",
    "\n",
    "    pattern_affiliations = \"c-article-author-affiliation__address u-h3\\\">(.*?)</span>\"\n",
    "    temp_affiliations = grep(pattern_affiliations, pageData)\n",
    "    affiliations = str_match_all(pageData[temp_affiliations] , pattern_affiliations)[[1]][,2]\n",
    "#     affiliations\n",
    "\n",
    "    pattern_corr_author = \"email/correspondent/c1/new\\\">(.*?)<\"\n",
    "    temp_corr_author = str_match(pageData, pattern_corr_author)\n",
    "    corr_author = temp_corr_author[,2][ !is.na( temp_corr_author[,2] ) ]\n",
    "#     corr_author\n",
    "\n",
    "    pattern_corr_author_link = \"<a id=\\\"corresp-c1\\\" rel=\\\"nofollow\\\" href=\\\"/articles/(.*?)/email\"\n",
    "    temp_corr_author_link = str_match(pageData, pattern_corr_author_link)\n",
    "    corr_author_link = temp_corr_author_link[,2][ !is.na( temp_corr_author_link[,2] ) ]\n",
    "    corr_author_link = paste(site,\"/\",corr_author_link,\"/email/correspondent/c1/new\", sep=\"\")\n",
    "#     corr_author_link\n",
    "\n",
    "    pattern_pub_date = \"dc.date\\\" content=\\\"(.*?)\\\"\"\n",
    "    temp_pub_date = str_match(pageData, pattern_pub_date)\n",
    "    pub_date = temp_pub_date[,2][ !is.na( temp_pub_date[,2] ) ]\n",
    "#     pub_date\n",
    "\n",
    "    pattern_abstract = \"citation_abstract\\\" content=\\\"(.*?)\\\"\"\n",
    "    temp_abstract = str_match(pageData, pattern_abstract)\n",
    "    pub_abstract = temp_abstract[,2][ !is.na( temp_abstract[,2] ) ]\n",
    "#     pub_abstract\n",
    "\n",
    "    pattern_key_words = \"<span itemprop=\\\"about\\\">(.*?)<\"\n",
    "    temp_key_words = grep(pattern_key_words, pageData)\n",
    "    if(length(temp_key_words) != 0){\n",
    "        key_words = str_match_all(pageData[temp_key_words] , pattern_key_words)[[1]][,2]\n",
    "    } else {\n",
    "        key_words = 'None'\n",
    "    }\n",
    "\n",
    "#     key_words\n",
    "\n",
    "    pattern_full_paper = \"<p>(.*)<\"\n",
    "    temp_full_paper = grep(pattern_full_paper, pageData)\n",
    "    full_paper = c()\n",
    "    count = 1\n",
    "    for (line in temp_full_paper){\n",
    "        full_paper[count] = str_match_all(pageData[line] , pattern_full_paper)[[1]][,2]\n",
    "        count = count + 1\n",
    "    }\n",
    "#     full_paper\n",
    "\n",
    "\n",
    "    out[link,]$title = title\n",
    "    out[link,]$authors = paste(authors,collapse=\", \")\n",
    "    out[link,]$affiliations = paste(affiliations,collapse=\", \")\n",
    "    out[link,]$corr_author = paste(corr_author,collapse=\",\")\n",
    "    out[link,]$corr_author_link = paste(corr_author_link,collapse=\", \")\n",
    "    out[link,]$pub_date = paste(pub_date,collapse=\" \")\n",
    "    out[link,]$pub_abstract = paste(pub_abstract,collapse=\" \")\n",
    "    out[link,]$key_words = paste(key_words,collapse=\", \")\n",
    "    out[link,]$full_paper = paste(full_paper,collapse=\" \")\n",
    "\n",
    "\n",
    "}"
   ]
  },
  {
   "cell_type": "code",
   "execution_count": 163,
   "metadata": {},
   "outputs": [],
   "source": [
    "write.csv(out,\"output.csv\", row.names = FALSE)"
   ]
  }
 ],
 "metadata": {
  "kernelspec": {
   "display_name": "R",
   "language": "R",
   "name": "ir"
  },
  "language_info": {
   "codemirror_mode": "r",
   "file_extension": ".r",
   "mimetype": "text/x-r-source",
   "name": "R",
   "pygments_lexer": "r",
   "version": "3.6.3"
  }
 },
 "nbformat": 4,
 "nbformat_minor": 4
}
