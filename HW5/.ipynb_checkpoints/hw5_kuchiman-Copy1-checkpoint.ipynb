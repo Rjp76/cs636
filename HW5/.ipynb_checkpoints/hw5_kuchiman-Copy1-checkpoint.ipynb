{
 "cells": [
  {
   "cell_type": "code",
   "execution_count": 108,
   "metadata": {},
   "outputs": [],
   "source": [
    "# install.packages('ROCR')\n",
    "# install.packages('e1071')"
   ]
  },
  {
   "cell_type": "code",
   "execution_count": 109,
   "metadata": {
    "scrolled": true
   },
   "outputs": [],
   "source": [
    "library(dplyr)\n",
    "library(glmnet)\n",
    "library(ROCR)\n",
    "library(e1071)\n",
    "library(data.table)\n",
    "library(caret)\n",
    "library(neuralnet)\n",
    "library(randomForest)\n",
    "library(pROC)"
   ]
  },
  {
   "cell_type": "code",
   "execution_count": 110,
   "metadata": {},
   "outputs": [],
   "source": [
    "split_number = 0.5\n",
    "folds = 5\n",
    "\n",
    "# Load data\n",
    "train = fread('train_v2.csv')\n",
    "transactions = fread('transactions_v2.csv')\n",
    "setkey(train,\"msno\")\n",
    "setkey(transactions,\"msno\")\n",
    "\n",
    "# Join Data by \"msno\"\n",
    "merged_data = merge(train, transactions, by=\"msno\")"
   ]
  },
  {
   "cell_type": "code",
   "execution_count": 111,
   "metadata": {},
   "outputs": [],
   "source": [
    "merged_data = merged_data[sample(.N,1000)]"
   ]
  },
  {
   "cell_type": "code",
   "execution_count": 112,
   "metadata": {},
   "outputs": [],
   "source": [
    "# Get indicies\n",
    "y = merged_data[, 1]\n",
    "y = y[[1]]"
   ]
  },
  {
   "cell_type": "code",
   "execution_count": 113,
   "metadata": {},
   "outputs": [],
   "source": [
    "# Extract random sample of indices for test data\n",
    "set.seed(42)\n",
    "test_inds = createDataPartition(y = 1:length(y), p = split_number, list = F)\n",
    "\n",
    "# Split data into test/train using indices\n",
    "X_train = as.data.frame(merged_data[-test_inds, ])\n",
    "X_test = as.data.frame(merged_data[test_inds, ])"
   ]
  },
  {
   "cell_type": "code",
   "execution_count": 114,
   "metadata": {
    "scrolled": false
   },
   "outputs": [
    {
     "name": "stderr",
     "output_type": "stream",
     "text": [
      "Warning message in randomForest.default(m, y, ...):\n",
      "\"The response has five or fewer unique values.  Are you sure you want to do regression?\""
     ]
    }
   ],
   "source": [
    "# Fitting to the model\n",
    "model <- randomForest(is_churn~payment_method_id+payment_plan_days+plan_list_price+actual_amount_paid+is_auto_renew+is_cancel, \n",
    "             data = X_train)"
   ]
  },
  {
   "cell_type": "code",
   "execution_count": 120,
   "metadata": {},
   "outputs": [
    {
     "name": "stdout",
     "output_type": "stream",
     "text": [
      "The classification error is 0.064 \n",
      "Area under the curve: 0.8895\n"
     ]
    },
    {
     "data": {
      "image/png": "[encoded data removed]",
      "text/plain": [
       "Plot with title \"Random Forest ROC for X_train\""
      ]
     },
     "metadata": {},
     "output_type": "display_data"
    }
   ],
   "source": [
    "# Predicting probabilities\n",
    "prob=predict(model,X_train,type=\"response\")\n",
    "\n",
    "# Gathering predictions and calculating prediction error\n",
    "preds = round(prob)\n",
    "pred_error = mean(preds != X_train$is_churn)\n",
    "cat('The classification error is', pred_error,'\\n')\n",
    "\n",
    "# Calculating ROC\n",
    "X_train$prob <- prob\n",
    "g <- roc(is_churn ~ prob, data = X_train, levels = c(0, 1), direction = \"<\")\n",
    "\n",
    "# Plotting ROC and calculating AUC\n",
    "plot(g, main='Random Forest ROC for X_train')\n",
    "print(auc(g))"
   ]
  },
  {
   "cell_type": "code",
   "execution_count": 121,
   "metadata": {},
   "outputs": [
    {
     "name": "stdout",
     "output_type": "stream",
     "text": [
      "The classification error is 0.084 \n",
      "Area under the curve: 0.7738\n"
     ]
    },
    {
     "data": {
      "image/png": "[encoded data removed]",
      "text/plain": [
       "Plot with title \"Random Forest ROC for X_Test\""
      ]
     },
     "metadata": {},
     "output_type": "display_data"
    }
   ],
   "source": [
    "# Predicting probabilities\n",
    "prob=predict(model,X_test,type=\"response\")\n",
    "\n",
    "# Gathering predictions and calculating prediction error\n",
    "preds = round(prob)\n",
    "pred_error = mean(preds != X_test$is_churn)\n",
    "cat('The classification error is', pred_error,'\\n')\n",
    "\n",
    "# Calculating ROC\n",
    "X_test$prob <- prob\n",
    "g <- roc(is_churn ~ prob, data = X_test, levels = c(0, 1), direction = \"<\")\n",
    "\n",
    "# Plotting ROC and calculating AUC\n",
    "plot(g, main='Random Forest ROC for X_Test')\n",
    "print(auc(g))"
   ]
  },
  {
   "cell_type": "code",
   "execution_count": 117,
   "metadata": {},
   "outputs": [],
   "source": [
    "##(3) NN\n",
    "model.nn <- neuralnet(is_churn~payment_method_id+payment_plan_days+plan_list_price+actual_amount_paid+is_auto_renew+is_cancel, \n",
    "                      data = X_train, hidden=5)"
   ]
  },
  {
   "cell_type": "code",
   "execution_count": 123,
   "metadata": {},
   "outputs": [
    {
     "name": "stdout",
     "output_type": "stream",
     "text": [
      "The classification error is 0.064 \n"
     ]
    },
    {
     "name": "stderr",
     "output_type": "stream",
     "text": [
      "Warning message in roc.default(response, predictors[, 1], ...):\n",
      "\"Deprecated use a matrix as predictor. Unexpected results may be produced, please pass a numeric vector.\""
     ]
    },
    {
     "name": "stdout",
     "output_type": "stream",
     "text": [
      "Area under the curve: 0.8434\n"
     ]
    },
    {
     "data": {
      "image/png": "[encoded data removed]",
      "text/plain": [
       "Plot with title \"Nueral Network ROC for X_train\""
      ]
     },
     "metadata": {},
     "output_type": "display_data"
    }
   ],
   "source": [
    "# Predicting probabilities\n",
    "prob=predict(model.nn,X_train,type=\"response\")\n",
    "\n",
    "# Gathering predictions and calculating prediction error\n",
    "preds = round(prob)\n",
    "pred_error = mean(preds != X_train$is_churn)\n",
    "cat('The classification error is', pred_error,'\\n')\n",
    "\n",
    "# Calculating ROC\n",
    "X_train$prob <- prob\n",
    "g <- roc(is_churn ~ prob, data = X_train, levels = c(0, 1), direction = \"<\")\n",
    "\n",
    "# Plotting ROC and calculating AUC\n",
    "plot(g, main='Nueral Network ROC for X_train')\n",
    "print(auc(g))"
   ]
  },
  {
   "cell_type": "code",
   "execution_count": 122,
   "metadata": {},
   "outputs": [
    {
     "name": "stdout",
     "output_type": "stream",
     "text": [
      "The classification error is 0.074 \n"
     ]
    },
    {
     "name": "stderr",
     "output_type": "stream",
     "text": [
      "Warning message in roc.default(response, predictors[, 1], ...):\n",
      "\"Deprecated use a matrix as predictor. Unexpected results may be produced, please pass a numeric vector.\""
     ]
    },
    {
     "name": "stdout",
     "output_type": "stream",
     "text": [
      "Area under the curve: 0.8063\n"
     ]
    },
    {
     "data": {
      "image/png": "[encoded data removed]",
      "text/plain": [
       "Plot with title \"Nueral Network ROC for X_Test\""
      ]
     },
     "metadata": {},
     "output_type": "display_data"
    }
   ],
   "source": [
    "# Predicting probabilities\n",
    "prob=predict(model.nn,X_test,type=\"response\")\n",
    "\n",
    "# Gathering predictions and calculating prediction error\n",
    "preds = round(prob)\n",
    "pred_error = mean(preds != X_test$is_churn)\n",
    "cat('The classification error is', pred_error,'\\n')\n",
    "\n",
    "# Calculating ROC\n",
    "X_test$prob <- prob\n",
    "g <- roc(is_churn ~ prob, data = X_test, levels = c(0, 1), direction = \"<\")\n",
    "\n",
    "# Plotting ROC and calculating AUC\n",
    "plot(g, main='Nueral Network ROC for X_Test')\n",
    "print(auc(g))"
   ]
  }
 ],
 "metadata": {
  "kernelspec": {
   "display_name": "R",
   "language": "R",
   "name": "ir"
  },
  "language_info": {
   "codemirror_mode": "r",
   "file_extension": ".r",
   "mimetype": "text/x-r-source",
   "name": "R",
   "pygments_lexer": "r",
   "version": "3.6.1"
  }
 },
 "nbformat": 4,
 "nbformat_minor": 4
}
