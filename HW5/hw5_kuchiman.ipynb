{
 "cells": [
  {
   "cell_type": "code",
   "execution_count": 7,
   "metadata": {},
   "outputs": [],
   "source": [
    "# install.packages('ROCR')\n",
    "# install.packages('e1071')"
   ]
  },
  {
   "cell_type": "code",
   "execution_count": 48,
   "metadata": {
    "scrolled": true
   },
   "outputs": [],
   "source": [
    "library(dplyr)\n",
    "library(glmnet)\n",
    "library(ROCR)\n",
    "library(e1071)\n",
    "library(data.table)\n",
    "library(caret)\n",
    "library(neuralnet)\n",
    "library(randomForest)"
   ]
  },
  {
   "cell_type": "code",
   "execution_count": 2,
   "metadata": {},
   "outputs": [],
   "source": [
    "split_number = 0.5\n",
    "folds = 5\n",
    "\n",
    "# Load data\n",
    "train = fread('train_v2.csv')\n",
    "transactions = fread('transactions_v2.csv')\n",
    "setkey(train,\"msno\")\n",
    "setkey(transactions,\"msno\")\n",
    "\n",
    "# Join Data by \"msno\"\n",
    "merged_data = merge(train, transactions, by=\"msno\")"
   ]
  },
  {
   "cell_type": "code",
   "execution_count": 3,
   "metadata": {},
   "outputs": [],
   "source": [
    "# Get indicies\n",
    "y = merged_data[, 1]\n",
    "y = y[[1]]"
   ]
  },
  {
   "cell_type": "code",
   "execution_count": 40,
   "metadata": {},
   "outputs": [],
   "source": [
    "x <- select(merged_data, -1, -2)\n",
    "y <- merged_data$is_churn"
   ]
  },
  {
   "cell_type": "code",
   "execution_count": 41,
   "metadata": {},
   "outputs": [],
   "source": [
    "train.inx <- 1:70000\n",
    "\n",
    "train.x<- as.matrix(x[train.inx,])\n",
    "train.y<- as.factor(y[train.inx])\n",
    "\n",
    "test.x<- as.matrix(x[-train.inx,])\n",
    "test.y<- as.factor(y[-train.inx])"
   ]
  },
  {
   "cell_type": "code",
   "execution_count": 42,
   "metadata": {
    "scrolled": true
   },
   "outputs": [],
   "source": [
    "##(1) logistic regression with L1 regularization (lasso)\n",
    "glmnet.fit <- cv.glmnet(x = train.x, y = train.y, family = \"binomial\", type.measure = \"auc\", nfolds = 5)"
   ]
  },
  {
   "cell_type": "code",
   "execution_count": 43,
   "metadata": {},
   "outputs": [
    {
     "data": {
      "text/html": [
       "<strong>png:</strong> 2"
      ],
      "text/latex": [
       "\\textbf{png:} 2"
      ],
      "text/markdown": [
       "**png:** 2"
      ],
      "text/plain": [
       "png \n",
       "  2 "
      ]
     },
     "metadata": {},
     "output_type": "display_data"
    },
    {
     "data": {
      "text/html": [
       "0.868749361247431"
      ],
      "text/latex": [
       "0.868749361247431"
      ],
      "text/markdown": [
       "0.868749361247431"
      ],
      "text/plain": [
       "[1] 0.8687494"
      ]
     },
     "metadata": {},
     "output_type": "display_data"
    },
    {
     "data": {
      "text/html": [
       "0.868253289597022"
      ],
      "text/latex": [
       "0.868253289597022"
      ],
      "text/markdown": [
       "0.868253289597022"
      ],
      "text/plain": [
       "[1] 0.8682533"
      ]
     },
     "metadata": {},
     "output_type": "display_data"
    },
    {
     "data": {
      "image/png": "[encoded data removed]",
      "text/plain": [
       "plot without title"
      ]
     },
     "metadata": {},
     "output_type": "display_data"
    }
   ],
   "source": [
    "plot(glmnet.fit)\n",
    "pdf(file=\"Kaggle5CVplot.pdf\")\n",
    "plot(glmnet.fit)\n",
    "dev.off()\n",
    "\n",
    "train.yhat <- predict(glmnet.fit,type = \"response\", newx = train.x)\n",
    "train.auc <- performance(prediction(train.yhat[,1], train.y), \"auc\")@y.values[[1]]\n",
    "\n",
    "#test on test data\n",
    "test.yhat <- predict(glmnet.fit,type=\"response\", newx = test.x)\n",
    "test.auc <- performance(prediction(test.yhat[,1], test.y),\"auc\")@y.values[[1]]\n",
    "\n",
    "train.auc\n",
    "test.auc"
   ]
  },
  {
   "cell_type": "code",
   "execution_count": 44,
   "metadata": {},
   "outputs": [
    {
     "data": {
      "text/html": [
       "<strong>png:</strong> 2"
      ],
      "text/latex": [
       "\\textbf{png:} 2"
      ],
      "text/markdown": [
       "**png:** 2"
      ],
      "text/plain": [
       "png \n",
       "  2 "
      ]
     },
     "metadata": {},
     "output_type": "display_data"
    },
    {
     "data": {
      "image/png": "[encoded data removed]",
      "text/plain": [
       "plot without title"
      ]
     },
     "metadata": {},
     "output_type": "display_data"
    }
   ],
   "source": [
    "test.pred <- prediction(test.yhat[,1], test.y)\n",
    "test.perf <- performance(test.pred, \"tpr\", \"fpr\")\n",
    "plot(test.perf)\n",
    "\n",
    "pdf(file = \"KaggleTestROCcurv.pdf\")\n",
    "plot(test.perf)\n",
    "dev.off()"
   ]
  },
  {
   "cell_type": "code",
   "execution_count": 45,
   "metadata": {},
   "outputs": [
    {
     "data": {
      "text/html": [
       "0.885026535791475"
      ],
      "text/latex": [
       "0.885026535791475"
      ],
      "text/markdown": [
       "0.885026535791475"
      ],
      "text/plain": [
       "[1] 0.8850265"
      ]
     },
     "metadata": {},
     "output_type": "display_data"
    },
    {
     "data": {
      "text/html": [
       "0.884798807044377"
      ],
      "text/latex": [
       "0.884798807044377"
      ],
      "text/markdown": [
       "0.884798807044377"
      ],
      "text/plain": [
       "[1] 0.8847988"
      ]
     },
     "metadata": {},
     "output_type": "display_data"
    }
   ],
   "source": [
    "##(2) SVM\n",
    "model.SVM <- svm(train.x, train.y) \n",
    "\n",
    "# train AUC\n",
    "train.pred.SVM <- predict(model.SVM, train.x, decision.values = T)\n",
    "svm.train.auc <- performance(prediction(-attr(train.pred.SVM, \"decision.values\"),train.y),\"auc\")@y.values[[1]]\n",
    "\n",
    "# test AUC\n",
    "pred.SVM <- predict(model.SVM, test.x, decision.values = T)\n",
    "svm.test.auc <- performance(prediction(-attr(pred.SVM, \"decision.values\"),test.y),\"auc\")@y.values[[1]]\n",
    "\n",
    "svm.train.auc\n",
    "svm.test.auc"
   ]
  },
  {
   "cell_type": "code",
   "execution_count": 56,
   "metadata": {},
   "outputs": [],
   "source": [
    "##(3) RF\n",
    "model.rf <- randomForest(train.x, train.y)"
   ]
  },
  {
   "cell_type": "code",
   "execution_count": 58,
   "metadata": {},
   "outputs": [
    {
     "data": {
      "text/html": [
       "<strong>png:</strong> 2"
      ],
      "text/latex": [
       "\\textbf{png:} 2"
      ],
      "text/markdown": [
       "**png:** 2"
      ],
      "text/plain": [
       "png \n",
       "  2 "
      ]
     },
     "metadata": {},
     "output_type": "display_data"
    },
    {
     "data": {
      "image/png": "[encoded data removed]",
      "text/plain": [
       "Plot with title \"model.rf\""
      ]
     },
     "metadata": {},
     "output_type": "display_data"
    }
   ],
   "source": [
    "plot(model.rf)\n",
    "pdf(file=\"RF.pdf\")\n",
    "plot(model.rf)\n",
    "dev.off()"
   ]
  },
  {
   "cell_type": "code",
   "execution_count": null,
   "metadata": {},
   "outputs": [],
   "source": [
    "##(3) NN\n",
    "model.nn <- neuralnet(train.x, train.y, hidden=5, act.fct = \"logistic\",\n",
    "                      linear.output = TRUE, stepmax=10^5, threshold = 0.01)\n",
    "\n",
    "# train AUC\n",
    "train.pred.nn <- predict(model.nn, train.x, decision.values = T)\n",
    "nn.train.auc <- performance(prediction(-attr(train.pred.nn, \"decision.values\"),train.y),\"auc\")@y.values[[1]]\n",
    "\n",
    "# test AUC\n",
    "pred.nn <- predict(model.nn, test.x, decision.values = T)\n",
    "nn.test.auc <- performance(prediction(-attr(pred.nn, \"decision.values\"),test.y),\"auc\")@y.values[[1]]\n",
    "\n",
    "nn.train.auc\n",
    "nn.test.auc"
   ]
  }
 ],
 "metadata": {
  "kernelspec": {
   "display_name": "R",
   "language": "R",
   "name": "ir"
  },
  "language_info": {
   "codemirror_mode": "r",
   "file_extension": ".r",
   "mimetype": "text/x-r-source",
   "name": "R",
   "pygments_lexer": "r",
   "version": "3.6.1"
  }
 },
 "nbformat": 4,
 "nbformat_minor": 4
}
