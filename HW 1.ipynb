{
 "cells": [
  {
   "cell_type": "markdown",
   "metadata": {},
   "source": [
    "# 1.20\n",
    "The built-in data set islands contains the size of the world’s land masses that exceed 10,000 square miles. Use sort() with the argument decreasing=TRUE to find the seven largest land masses."
   ]
  },
  {
   "cell_type": "code",
   "execution_count": 230,
   "metadata": {
    "scrolled": true
   },
   "outputs": [
    {
     "name": "stdout",
     "output_type": "stream",
     "text": [
      "         Asia        Africa North America South America    Antarctica \n",
      "        16988         11506          9390          6795          5500 \n",
      "       Europe     Australia \n",
      "         3745          2968 \n"
     ]
    }
   ],
   "source": [
    "a <- sort(islands, decreasing = TRUE)[1:7]\n",
    "print(a)"
   ]
  },
  {
   "cell_type": "markdown",
   "metadata": {},
   "source": [
    "# 1.21 \n",
    "Load the data set primes (UsingR).   "
   ]
  },
  {
   "cell_type": "code",
   "execution_count": 6,
   "metadata": {
    "scrolled": false
   },
   "outputs": [
    {
     "name": "stderr",
     "output_type": "stream",
     "text": [
      "Warning message:\n",
      "\"package 'UsingR' is in use and will not be installed\"\n"
     ]
    }
   ],
   "source": [
    "install.packages(\"UsingR\")"
   ]
  },
  {
   "cell_type": "markdown",
   "metadata": {},
   "source": [
    "This is the set of prime numbers in [1,2003]. How many are there?"
   ]
  },
  {
   "cell_type": "code",
   "execution_count": 8,
   "metadata": {},
   "outputs": [
    {
     "data": {
      "text/html": [
       "304"
      ],
      "text/latex": [
       "304"
      ],
      "text/markdown": [
       "304"
      ],
      "text/plain": [
       "[1] 304"
      ]
     },
     "metadata": {},
     "output_type": "display_data"
    }
   ],
   "source": [
    "library(UsingR)\n",
    "PrimeData <- primes\n",
    "length(PrimeData)"
   ]
  },
  {
   "cell_type": "markdown",
   "metadata": {},
   "source": [
    "How many in the range [1,100]?"
   ]
  },
  {
   "cell_type": "code",
   "execution_count": 9,
   "metadata": {},
   "outputs": [
    {
     "data": {
      "text/html": [
       "25"
      ],
      "text/latex": [
       "25"
      ],
      "text/markdown": [
       "25"
      ],
      "text/plain": [
       "[1] 25"
      ]
     },
     "metadata": {},
     "output_type": "display_data"
    }
   ],
   "source": [
    "length(PrimeData[PrimeData <= 100])"
   ]
  },
  {
   "cell_type": "markdown",
   "metadata": {},
   "source": [
    "[100,1000]?"
   ]
  },
  {
   "cell_type": "code",
   "execution_count": 10,
   "metadata": {},
   "outputs": [
    {
     "data": {
      "text/html": [
       "143"
      ],
      "text/latex": [
       "143"
      ],
      "text/markdown": [
       "143"
      ],
      "text/plain": [
       "[1] 143"
      ]
     },
     "metadata": {},
     "output_type": "display_data"
    }
   ],
   "source": [
    "length(PrimeData[PrimeData >= 100 & PrimeData <= 1000])"
   ]
  },
  {
   "cell_type": "markdown",
   "metadata": {},
   "source": [
    "# 1.22 \n",
    "Load the data set primes (UsingR). We wish to find all the twin primes. These are numbers p and p+2, where both are prime.\n",
    "1. Explain what primes[−1] returns."
   ]
  },
  {
   "cell_type": "code",
   "execution_count": 12,
   "metadata": {},
   "outputs": [
    {
     "data": {
      "text/html": [
       "<style>\n",
       ".list-inline {list-style: none; margin:0; padding: 0}\n",
       ".list-inline>li {display: inline-block}\n",
       ".list-inline>li:not(:last-child)::after {content: \"\\00b7\"; padding: 0 .5ex}\n",
       "</style>\n",
       "<ol class=list-inline><li>3</li><li>5</li><li>7</li><li>11</li><li>13</li><li>17</li></ol>\n"
      ],
      "text/latex": [
       "\\begin{enumerate*}\n",
       "\\item 3\n",
       "\\item 5\n",
       "\\item 7\n",
       "\\item 11\n",
       "\\item 13\n",
       "\\item 17\n",
       "\\end{enumerate*}\n"
      ],
      "text/markdown": [
       "1. 3\n",
       "2. 5\n",
       "3. 7\n",
       "4. 11\n",
       "5. 13\n",
       "6. 17\n",
       "\n",
       "\n"
      ],
      "text/plain": [
       "[1]  3  5  7 11 13 17"
      ]
     },
     "metadata": {},
     "output_type": "display_data"
    }
   ],
   "source": [
    "# PrimeData[-1] returns all the values of PrimeData without the first element. \n",
    "head(PrimeData[-1])"
   ]
  },
  {
   "cell_type": "markdown",
   "metadata": {},
   "source": [
    "2. If you set n=length (primes), explain what primes[−n] returns."
   ]
  },
  {
   "cell_type": "code",
   "execution_count": 229,
   "metadata": {},
   "outputs": [
    {
     "name": "stdout",
     "output_type": "stream",
     "text": [
      "  [1]    2    3    5    7   11   13   17   19   23   29   31   37   41   43   47\n",
      " [16]   53   59   61   67   71   73   79   83   89   97  101  103  107  109  113\n",
      " [31]  127  131  137  139  149  151  157  163  167  173  179  181  191  193  197\n",
      " [46]  199  211  223  227  229  233  239  241  251  257  263  269  271  277  281\n",
      " [61]  283  293  307  311  313  317  331  337  347  349  353  359  367  373  379\n",
      " [76]  383  389  397  401  409  419  421  431  433  439  443  449  457  461  463\n",
      " [91]  467  479  487  491  499  503  509  521  523  541  547  557  563  569  571\n",
      "[106]  577  587  593  599  601  607  613  617  619  631  641  643  647  653  659\n",
      "[121]  661  673  677  683  691  701  709  719  727  733  739  743  751  757  761\n",
      "[136]  769  773  787  797  809  811  821  823  827  829  839  853  857  859  863\n",
      "[151]  877  881  883  887  907  911  919  929  937  941  947  953  967  971  977\n",
      "[166]  983  991  997 1009 1013 1019 1021 1031 1033 1039 1049 1051 1061 1063 1069\n",
      "[181] 1087 1091 1093 1097 1103 1109 1117 1123 1129 1151 1153 1163 1171 1181 1187\n",
      "[196] 1193 1201 1213 1217 1223 1229 1231 1237 1249 1259 1277 1279 1283 1289 1291\n",
      "[211] 1297 1301 1303 1307 1319 1321 1327 1361 1367 1373 1381 1399 1409 1423 1427\n",
      "[226] 1429 1433 1439 1447 1451 1453 1459 1471 1481 1483 1487 1489 1493 1499 1511\n",
      "[241] 1523 1531 1543 1549 1553 1559 1567 1571 1579 1583 1597 1601 1607 1609 1613\n",
      "[256] 1619 1621 1627 1637 1657 1663 1667 1669 1693 1697 1699 1709 1721 1723 1733\n",
      "[271] 1741 1747 1753 1759 1777 1783 1787 1789 1801 1811 1823 1831 1847 1861 1867\n",
      "[286] 1871 1873 1877 1879 1889 1901 1907 1913 1931 1933 1949 1951 1973 1979 1987\n",
      "[301] 1993 1997 1999\n"
     ]
    }
   ],
   "source": [
    "# The PrimeData[-n] returns all the values of PrimeData without the last element. \n",
    "\n",
    "n <- length(primes)\n",
    "print(primes[-n])"
   ]
  },
  {
   "cell_type": "markdown",
   "metadata": {},
   "source": [
    "3. Why might primes [−1]—primes [−n] give clues as to what the twin primes are?"
   ]
  },
  {
   "cell_type": "code",
   "execution_count": 35,
   "metadata": {},
   "outputs": [
    {
     "name": "stdout",
     "output_type": "stream",
     "text": [
      "  [1]  1  2  2  4  2  4  2  4  6  2  6  4  2  4  6  6  2  6  4  2  6  4  6  8  4\n",
      " [26]  2  4  2  4 14  4  6  2 10  2  6  6  4  6  6  2 10  2  4  2 12 12  4  2  4\n",
      " [51]  6  2 10  6  6  6  2  6  4  2 10 14  4  2  4 14  6 10  2  4  6  8  6  6  4\n",
      " [76]  6  8  4  8 10  2 10  2  6  4  6  8  4  2  4 12  8  4  8  4  6 12  2 18  6\n",
      "[101] 10  6  6  2  6 10  6  6  2  6  6  4  2 12 10  2  4  6  6  2 12  4  6  8 10\n",
      "[126]  8 10  8  6  6  4  8  6  4  8  4 14 10 12  2 10  2  4  2 10 14  4  2  4 14\n",
      "[151]  4  2  4 20  4  8 10  8  4  6  6 14  4  6  6  8  6 12  4  6  2 10  2  6 10\n",
      "[176]  2 10  2  6 18  4  2  4  6  6  8  6  6 22  2 10  8 10  6  6  8 12  4  6  6\n",
      "[201]  2  6 12 10 18  2  4  6  2  6  4  2  4 12  2  6 34  6  6  8 18 10 14  4  2\n",
      "[226]  4  6  8  4  2  6 12 10  2  4  2  4  6 12 12  8 12  6  4  6  8  4  8  4 14\n",
      "[251]  4  6  2  4  6  2  6 10 20  6  4  2 24  4  2 10 12  2 10  8  6  6  6 18  6\n",
      "[276]  4  2 12 10 12  8 16 14  6  4  2  4  2 10 12  6  6 18  2 16  2 22  6  8  6\n",
      "[301]  4  2  4\n"
     ]
    }
   ],
   "source": [
    "# The result is the subtraction of the two datasets and results in the distance between respective primes elements.\n",
    "# Since the distances can sometimes be equal, the resuslt of two differences can be the same resulting in twin primes where\n",
    "# differences equals 2.\n",
    "\n",
    "print(primes[-1] - primes[−n])"
   ]
  },
  {
   "cell_type": "markdown",
   "metadata": {},
   "source": [
    "How many twin primes are there in the data set?"
   ]
  },
  {
   "cell_type": "code",
   "execution_count": 36,
   "metadata": {},
   "outputs": [
    {
     "name": "stdout",
     "output_type": "stream",
     "text": [
      "[1] 61\n"
     ]
    }
   ],
   "source": [
    "# Finding the count of twin primes by summing the count of 2's in the resulting subtraction of primes\n",
    "print(sum(primes[-1] - primes[−n]==2))"
   ]
  },
  {
   "cell_type": "markdown",
   "metadata": {},
   "source": [
    "# 1.23 \n",
    "For the data set treering, which contains tree-ring widths in dimension-less units, use an R function to answer the following:\n",
    "1. How many observations are there?"
   ]
  },
  {
   "cell_type": "code",
   "execution_count": 38,
   "metadata": {},
   "outputs": [
    {
     "data": {
      "text/html": [
       "7980"
      ],
      "text/latex": [
       "7980"
      ],
      "text/markdown": [
       "7980"
      ],
      "text/plain": [
       "[1] 7980"
      ]
     },
     "metadata": {},
     "output_type": "display_data"
    }
   ],
   "source": [
    "data <- treering\n",
    "length(data)"
   ]
  },
  {
   "cell_type": "markdown",
   "metadata": {},
   "source": [
    "2. Find the smallest observation."
   ]
  },
  {
   "cell_type": "code",
   "execution_count": 40,
   "metadata": {},
   "outputs": [
    {
     "data": {
      "text/html": [
       "0"
      ],
      "text/latex": [
       "0"
      ],
      "text/markdown": [
       "0"
      ],
      "text/plain": [
       "[1] 0"
      ]
     },
     "metadata": {},
     "output_type": "display_data"
    }
   ],
   "source": [
    "min(data)"
   ]
  },
  {
   "cell_type": "markdown",
   "metadata": {},
   "source": [
    "3. Find the largest observation."
   ]
  },
  {
   "cell_type": "code",
   "execution_count": 43,
   "metadata": {},
   "outputs": [
    {
     "data": {
      "text/html": [
       "1.908"
      ],
      "text/latex": [
       "1.908"
      ],
      "text/markdown": [
       "1.908"
      ],
      "text/plain": [
       "[1] 1.908"
      ]
     },
     "metadata": {},
     "output_type": "display_data"
    }
   ],
   "source": [
    "max(data)"
   ]
  },
  {
   "cell_type": "markdown",
   "metadata": {},
   "source": [
    "4. How many are bigger than 1.5?"
   ]
  },
  {
   "cell_type": "code",
   "execution_count": 46,
   "metadata": {},
   "outputs": [
    {
     "data": {
      "text/html": [
       "219"
      ],
      "text/latex": [
       "219"
      ],
      "text/markdown": [
       "219"
      ],
      "text/plain": [
       "[1] 219"
      ]
     },
     "metadata": {},
     "output_type": "display_data"
    }
   ],
   "source": [
    "length(data[data > 1.5])"
   ]
  },
  {
   "cell_type": "markdown",
   "metadata": {},
   "source": [
    "# 1.24 \n",
    "The data set mandms (UsingR) contains the targeted color distribution in a bag of M&Ms as percentages for varies types of packaging. Answer these questions.\n",
    "1. Which packaging is missing one of the six colors?"
   ]
  },
  {
   "cell_type": "code",
   "execution_count": 92,
   "metadata": {},
   "outputs": [
    {
     "name": "stdout",
     "output_type": "stream",
     "text": [
      "                  blue   brown   green  orange     red  yellow\n",
      "milk chocolate 10.0000 30.0000 10.0000 10.0000 20.0000 20.0000\n",
      "Peanut         20.0000 20.0000 10.0000 10.0000 20.0000 20.0000\n",
      "Peanut Butter  20.0000 20.0000 20.0000  0.0000 20.0000 20.0000\n",
      "Almond         16.6667 16.6667 16.6667 16.6667 16.6667 16.6667\n",
      "kid minis      16.6667 16.6667 16.6667 16.6667 16.6667 16.6667\n"
     ]
    },
    {
     "data": {
      "text/html": [
       "'Peanut Butter'"
      ],
      "text/latex": [
       "'Peanut Butter'"
      ],
      "text/markdown": [
       "'Peanut Butter'"
      ],
      "text/plain": [
       "[1] \"Peanut Butter\""
      ]
     },
     "metadata": {},
     "output_type": "display_data"
    }
   ],
   "source": [
    "data <- mandms\n",
    "print(data)\n",
    "x  <- names(which(rowSums(data==0)==1))\n",
    "x"
   ]
  },
  {
   "cell_type": "markdown",
   "metadata": {},
   "source": [
    "2. Which types of packaging have an equal distribution of colors?"
   ]
  },
  {
   "cell_type": "code",
   "execution_count": 102,
   "metadata": {},
   "outputs": [
    {
     "name": "stdout",
     "output_type": "stream",
     "text": [
      "                    blue     brown     green     orange      red   yellow\n",
      "milk chocolate -6.666667 13.333333 -6.666667  -6.666667 3.333333 3.333333\n",
      "Peanut          3.333333  3.333333 -6.666667  -6.666667 3.333333 3.333333\n",
      "Peanut Butter   3.333333  3.333333  3.333333 -16.666667 3.333333 3.333333\n",
      "Almond          0.000000  0.000000  0.000000   0.000000 0.000000 0.000000\n",
      "kid minis       0.000000  0.000000  0.000000   0.000000 0.000000 0.000000\n"
     ]
    },
    {
     "data": {
      "text/html": [
       "<style>\n",
       ".list-inline {list-style: none; margin:0; padding: 0}\n",
       ".list-inline>li {display: inline-block}\n",
       ".list-inline>li:not(:last-child)::after {content: \"\\00b7\"; padding: 0 .5ex}\n",
       "</style>\n",
       "<ol class=list-inline><li>'Almond'</li><li>'kid minis'</li></ol>\n"
      ],
      "text/latex": [
       "\\begin{enumerate*}\n",
       "\\item 'Almond'\n",
       "\\item 'kid minis'\n",
       "\\end{enumerate*}\n"
      ],
      "text/markdown": [
       "1. 'Almond'\n",
       "2. 'kid minis'\n",
       "\n",
       "\n"
      ],
      "text/plain": [
       "[1] \"Almond\"    \"kid minis\""
      ]
     },
     "metadata": {},
     "output_type": "display_data"
    }
   ],
   "source": [
    "mean <- apply(data,1,mean)\n",
    "print(data - mean)\n",
    "names(which(rowSums(data - mean)==0))"
   ]
  },
  {
   "cell_type": "markdown",
   "metadata": {},
   "source": [
    "3. Which packaging has a single color that is more likely than all the others? "
   ]
  },
  {
   "cell_type": "code",
   "execution_count": 112,
   "metadata": {},
   "outputs": [
    {
     "data": {
      "text/html": [
       "'milk chocolate'"
      ],
      "text/latex": [
       "'milk chocolate'"
      ],
      "text/markdown": [
       "'milk chocolate'"
      ],
      "text/plain": [
       "[1] \"milk chocolate\""
      ]
     },
     "metadata": {},
     "output_type": "display_data"
    }
   ],
   "source": [
    "maxColor <- max(data)\n",
    "names(which(rowSums(data == maxColor)==1))"
   ]
  },
  {
   "cell_type": "markdown",
   "metadata": {},
   "source": [
    "What color is this?"
   ]
  },
  {
   "cell_type": "code",
   "execution_count": 113,
   "metadata": {},
   "outputs": [
    {
     "data": {
      "text/html": [
       "'brown'"
      ],
      "text/latex": [
       "'brown'"
      ],
      "text/markdown": [
       "'brown'"
      ],
      "text/plain": [
       "[1] \"brown\""
      ]
     },
     "metadata": {},
     "output_type": "display_data"
    }
   ],
   "source": [
    "names(which(colSums(data == maxColor)==1))"
   ]
  },
  {
   "cell_type": "markdown",
   "metadata": {},
   "source": [
    "# 1.25 \n",
    "The t imes variable in the data set nym. 2002 (UsingR) contains the time to finish for several participants in the 2002 New York City Marathon. Answer these questions.\n",
    "1. How many times are stored in the data set?"
   ]
  },
  {
   "cell_type": "code",
   "execution_count": 123,
   "metadata": {},
   "outputs": [
    {
     "data": {
      "text/html": [
       "1000"
      ],
      "text/latex": [
       "1000"
      ],
      "text/markdown": [
       "1000"
      ],
      "text/plain": [
       "[1] 1000"
      ]
     },
     "metadata": {},
     "output_type": "display_data"
    }
   ],
   "source": [
    "data <- nym.2002\n",
    "times <- data$time\n",
    "length(times)"
   ]
  },
  {
   "cell_type": "markdown",
   "metadata": {},
   "source": [
    "2. What was the fastest time in minutes? Convert this into hours and minutes using R."
   ]
  },
  {
   "cell_type": "code",
   "execution_count": 172,
   "metadata": {},
   "outputs": [],
   "source": [
    "convert_sec_to_time <- function(time) {\n",
    "    whole = floor(time)\n",
    "    fraction = round((time - whole) * 60)\n",
    "    sprintf(\"%1$d:%2$d\", whole, fraction)\n",
    "}"
   ]
  },
  {
   "cell_type": "code",
   "execution_count": 179,
   "metadata": {},
   "outputs": [
    {
     "data": {
      "text/html": [
       "147.333333333333"
      ],
      "text/latex": [
       "147.333333333333"
      ],
      "text/markdown": [
       "147.333333333333"
      ],
      "text/plain": [
       "[1] 147.3333"
      ]
     },
     "metadata": {},
     "output_type": "display_data"
    }
   ],
   "source": [
    "fastTime <- min(times)\n",
    "fastTime"
   ]
  },
  {
   "cell_type": "code",
   "execution_count": 180,
   "metadata": {},
   "outputs": [
    {
     "data": {
      "text/html": [
       "'2:27'"
      ],
      "text/latex": [
       "'2:27'"
      ],
      "text/markdown": [
       "'2:27'"
      ],
      "text/plain": [
       "[1] \"2:27\""
      ]
     },
     "metadata": {},
     "output_type": "display_data"
    }
   ],
   "source": [
    "minFastTime <- fastTime / 60\n",
    "convert_sec_to_time(minFastTime)"
   ]
  },
  {
   "cell_type": "markdown",
   "metadata": {},
   "source": [
    "3. What was the slowest time in minutes? Convert this into hours and minutes using R."
   ]
  },
  {
   "cell_type": "code",
   "execution_count": 181,
   "metadata": {},
   "outputs": [
    {
     "data": {
      "text/html": [
       "566.783333333333"
      ],
      "text/latex": [
       "566.783333333333"
      ],
      "text/markdown": [
       "566.783333333333"
      ],
      "text/plain": [
       "[1] 566.7833"
      ]
     },
     "metadata": {},
     "output_type": "display_data"
    }
   ],
   "source": [
    "slowTime <- max(times)\n",
    "slowTime"
   ]
  },
  {
   "cell_type": "code",
   "execution_count": 183,
   "metadata": {},
   "outputs": [
    {
     "data": {
      "text/html": [
       "'9:27'"
      ],
      "text/latex": [
       "'9:27'"
      ],
      "text/markdown": [
       "'9:27'"
      ],
      "text/plain": [
       "[1] \"9:27\""
      ]
     },
     "metadata": {},
     "output_type": "display_data"
    }
   ],
   "source": [
    "minSlowTime <- slowTime / 60\n",
    "convert_sec_to_time(minSlowTime)"
   ]
  },
  {
   "cell_type": "markdown",
   "metadata": {},
   "source": [
    "# 1.26 \n",
    "For the data set rivers, which is the longest river? "
   ]
  },
  {
   "cell_type": "code",
   "execution_count": 185,
   "metadata": {},
   "outputs": [
    {
     "data": {
      "text/html": [
       "3710"
      ],
      "text/latex": [
       "3710"
      ],
      "text/markdown": [
       "3710"
      ],
      "text/plain": [
       "[1] 3710"
      ]
     },
     "metadata": {},
     "output_type": "display_data"
    }
   ],
   "source": [
    "data <- rivers\n",
    "max(data)"
   ]
  },
  {
   "cell_type": "markdown",
   "metadata": {},
   "source": [
    "The shortest?"
   ]
  },
  {
   "cell_type": "code",
   "execution_count": 187,
   "metadata": {},
   "outputs": [
    {
     "data": {
      "text/html": [
       "135"
      ],
      "text/latex": [
       "135"
      ],
      "text/markdown": [
       "135"
      ],
      "text/plain": [
       "[1] 135"
      ]
     },
     "metadata": {},
     "output_type": "display_data"
    }
   ],
   "source": [
    "min(data)"
   ]
  },
  {
   "cell_type": "markdown",
   "metadata": {},
   "source": [
    "# 1.27 \n",
    "The data set uspop contains decade-by-decade population figures for the United States from 1790 to 1970.\n",
    "1. Use names() and seq() to add the year names to the data vector."
   ]
  },
  {
   "cell_type": "code",
   "execution_count": 192,
   "metadata": {},
   "outputs": [
    {
     "name": "stdout",
     "output_type": "stream",
     "text": [
      "Time Series:\n",
      "Start = 1790 \n",
      "End = 1970 \n",
      "Frequency = 0.1 \n",
      "  1790   1800   1810   1820   1830   1840   1850   1860   1870   1880   1890 \n",
      "  3.93   5.31   7.24   9.64  12.90  17.10  23.20  31.40  39.80  50.20  62.90 \n",
      "  1900   1910   1920   1930   1940   1950   1960   1970 \n",
      " 76.00  92.00 105.70 122.80 131.70 151.30 179.30 203.20 \n"
     ]
    }
   ],
   "source": [
    "data <- uspop\n",
    "names(data) <- seq(1790,1970,10)\n",
    "print(data)"
   ]
  },
  {
   "cell_type": "markdown",
   "metadata": {},
   "source": [
    "2. Use diff() to find the inter-decade differences."
   ]
  },
  {
   "cell_type": "code",
   "execution_count": 212,
   "metadata": {},
   "outputs": [
    {
     "name": "stdout",
     "output_type": "stream",
     "text": [
      "Time Series:\n",
      "Start = 1800 \n",
      "End = 1970 \n",
      "Frequency = 0.1 \n",
      " [1]  1.38  1.93  2.40  3.26  4.20  6.10  8.20  8.40 10.40 12.70 13.10 16.00\n",
      "[13] 13.70 17.10  8.90 19.60 28.00 23.90\n"
     ]
    }
   ],
   "source": [
    "intDec <- diff(data)\n",
    "print(intDec)"
   ]
  },
  {
   "cell_type": "markdown",
   "metadata": {},
   "source": [
    " Which decade had the greatest increase?"
   ]
  },
  {
   "cell_type": "code",
   "execution_count": 228,
   "metadata": {},
   "outputs": [
    {
     "data": {
      "text/html": [
       "<strong>1950:</strong> 151.3"
      ],
      "text/latex": [
       "\\textbf{1950:} 151.3"
      ],
      "text/markdown": [
       "**1950:** 151.3"
      ],
      "text/plain": [
       " 1950 \n",
       "151.3 "
      ]
     },
     "metadata": {},
     "output_type": "display_data"
    },
    {
     "data": {
      "text/html": [
       "<strong>1940:</strong> 131.7"
      ],
      "text/latex": [
       "\\textbf{1940:} 131.7"
      ],
      "text/markdown": [
       "**1940:** 131.7"
      ],
      "text/plain": [
       " 1940 \n",
       "131.7 "
      ]
     },
     "metadata": {},
     "output_type": "display_data"
    }
   ],
   "source": [
    "x <- data[(which.max(intDec))]\n",
    "y <- data[which.max(diff(intDec))+1]\n",
    "x\n",
    "y"
   ]
  },
  {
   "cell_type": "markdown",
   "metadata": {},
   "source": [
    "3. Explain why you could reasonably expect that the difference will always increase with each decade. Is this the case with the data?"
   ]
  },
  {
   "cell_type": "markdown",
   "metadata": {},
   "source": [
    "It can be expected that the difference will always be increasing, as shown in the data from 1790 to 1970 because of increaing global econamy, and technological advancements aimed at prolonging the global population over time."
   ]
  }
 ],
 "metadata": {
  "kernelspec": {
   "display_name": "R",
   "language": "R",
   "name": "ir"
  },
  "language_info": {
   "codemirror_mode": "r",
   "file_extension": ".r",
   "mimetype": "text/x-r-source",
   "name": "R",
   "pygments_lexer": "r",
   "version": "3.6.0"
  }
 },
 "nbformat": 4,
 "nbformat_minor": 2
}
