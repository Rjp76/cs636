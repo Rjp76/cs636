{
 "cells": [
  {
   "cell_type": "code",
   "execution_count": 1,
   "metadata": {
    "scrolled": true
   },
   "outputs": [],
   "source": [
    "# install.packages('pROC')\n",
    "# install.packages('xgboost')"
   ]
  },
  {
   "cell_type": "code",
   "execution_count": 22,
   "metadata": {},
   "outputs": [],
   "source": [
    "library(data.table)\n",
    "library(caret)\n",
    "library(pROC)\n",
    "library(plyr)\n",
    "library(boot)\n",
    "library(tidyverse)\n",
    "library(xgboost)"
   ]
  },
  {
   "cell_type": "code",
   "execution_count": 35,
   "metadata": {},
   "outputs": [],
   "source": [
    "batch_size = 500000\n",
    "split = 0.7"
   ]
  },
  {
   "cell_type": "code",
   "execution_count": 57,
   "metadata": {},
   "outputs": [],
   "source": [
    "add_batch_and_factor <- function(data){\n",
    "    \n",
    "    data$batch = ceiling((data$time * 10000) / batch_size)\n",
    "    \n",
    "    data <- transform(\n",
    "        data,\n",
    "        time=as.numeric(time),\n",
    "        signal=as.numeric(signal),\n",
    "        open_channels=as.numeric(open_channels),\n",
    "        batch=as.factor(batch)\n",
    "    )\n",
    "\n",
    "    return(data)\n",
    "}"
   ]
  },
  {
   "cell_type": "code",
   "execution_count": 58,
   "metadata": {},
   "outputs": [],
   "source": [
    "data = read.csv('train_clean.csv')"
   ]
  },
  {
   "cell_type": "code",
   "execution_count": 80,
   "metadata": {},
   "outputs": [
    {
     "ename": "ERROR",
     "evalue": "Error in `$<-.data.frame`(`*tmp*`, \"batch\", value = numeric(0)): replacement has 0 rows, data has 5000000\n",
     "output_type": "error",
     "traceback": [
      "Error in `$<-.data.frame`(`*tmp*`, \"batch\", value = numeric(0)): replacement has 0 rows, data has 5000000\nTraceback:\n",
      "1. add_batch_and_factor(data)",
      "2. `$<-`(`*tmp*`, \"batch\", value = numeric(0))   # at line 3 of file <text>",
      "3. `$<-.data.frame`(`*tmp*`, \"batch\", value = numeric(0))   # at line 3 of file <text>",
      "4. stop(sprintf(ngettext(N, \"replacement has %d row, data has %d\", \n .     \"replacement has %d rows, data has %d\"), N, nrows), domain = NA)"
     ]
    }
   ],
   "source": [
    "data = add_batch_and_factor(data)\n",
    "data = data[data$batch == 1]\n",
    "sapply(data, class)"
   ]
  },
  {
   "cell_type": "code",
   "execution_count": 74,
   "metadata": {
    "scrolled": false
   },
   "outputs": [
    {
     "data": {
      "text/html": [
       "<table>\n",
       "<tbody>\n",
       "\t<tr><th scope=row>2025526</th></tr>\n",
       "\t<tr><th scope=row>904433</th></tr>\n",
       "\t<tr><th scope=row>3351142</th></tr>\n",
       "\t<tr><th scope=row>4128343</th></tr>\n",
       "\t<tr><th scope=row>4000294</th></tr>\n",
       "</tbody>\n",
       "</table>\n"
      ],
      "text/latex": [
       "\\begin{tabular}{r|}\n",
       "\t2025526\\\\\n",
       "\t904433\\\\\n",
       "\t3351142\\\\\n",
       "\t4128343\\\\\n",
       "\t4000294\\\\\n",
       "\\end{tabular}\n"
      ],
      "text/markdown": [
       "\n",
       "| 2025526 |\n",
       "| 904433 |\n",
       "| 3351142 |\n",
       "| 4128343 |\n",
       "| 4000294 |\n",
       "\n"
      ],
      "text/plain": [
       "       \n",
       "2025526\n",
       "904433 \n",
       "3351142\n",
       "4128343\n",
       "4000294"
      ]
     },
     "metadata": {},
     "output_type": "display_data"
    }
   ],
   "source": [
    "data[sample(nrow(data), 5), ]"
   ]
  },
  {
   "cell_type": "code",
   "execution_count": 75,
   "metadata": {},
   "outputs": [
    {
     "data": {
      "text/plain": [
       "NULL"
      ]
     },
     "metadata": {},
     "output_type": "display_data"
    }
   ],
   "source": [
    "label_levels = unique(data$open_channels)\n",
    "label_levels"
   ]
  },
  {
   "cell_type": "code",
   "execution_count": 62,
   "metadata": {},
   "outputs": [],
   "source": [
    "train_data_features = data[c('time', 'signal')]\n",
    "train_data_labels = data['open_channels']"
   ]
  },
  {
   "cell_type": "code",
   "execution_count": 63,
   "metadata": {},
   "outputs": [],
   "source": [
    "train_data_features_matrix = data.matrix(train_data_features)\n",
    "train_data_labels_matrix =  data.matrix(train_data_labels)"
   ]
  },
  {
   "cell_type": "code",
   "execution_count": 64,
   "metadata": {
    "scrolled": true
   },
   "outputs": [],
   "source": [
    "numberOfTrainingSamples <- round(length(data) * split)\n",
    "\n",
    "# training data\n",
    "train_data <- train_data_features_matrix[1:numberOfTrainingSamples,]\n",
    "train_labels <- train_data_labels_matrix[1:numberOfTrainingSamples]\n",
    "\n",
    "# testing data\n",
    "test_data <- train_data_features_matrix[-(1:numberOfTrainingSamples),]\n",
    "test_labels <- train_data_labels_matrix[-(1:numberOfTrainingSamples)]"
   ]
  },
  {
   "cell_type": "code",
   "execution_count": 65,
   "metadata": {},
   "outputs": [],
   "source": [
    "xgb.train <- xgb.DMatrix(data = train_data, label = train_labels)\n",
    "xgb.test <- xgb.DMatrix(data = test_data, label = test_labels)"
   ]
  },
  {
   "cell_type": "code",
   "execution_count": 66,
   "metadata": {},
   "outputs": [],
   "source": [
    "params = list(\n",
    "  booster=\"gbtree\",\n",
    "  eta=0.001,\n",
    "  max_depth=5,\n",
    "  gamma=3,\n",
    "  subsample=0.75,\n",
    "  colsample_bytree=1,\n",
    "  objective=\"multi:softprob\",\n",
    "  eval_metric=\"mlogloss\",\n",
    "  num_class=length(label_levels)\n",
    ")"
   ]
  },
  {
   "cell_type": "code",
   "execution_count": 67,
   "metadata": {},
   "outputs": [],
   "source": [
    "xgb.fit=xgb.train(\n",
    "    params=params,\n",
    "    data=xgb.train,\n",
    "    nrounds=10000,\n",
    "    nthreads=1,\n",
    "    early_stopping_rounds=10,\n",
    "    watchlist=list(val1=xgb.train,val2=xgb.test),\n",
    "    verbose=0\n",
    ")"
   ]
  },
  {
   "cell_type": "code",
   "execution_count": 68,
   "metadata": {
    "scrolled": false
   },
   "outputs": [
    {
     "data": {
      "text/plain": [
       "##### xgb.Booster\n",
       "raw: 119.9 Kb \n",
       "call:\n",
       "  xgb.train(params = params, data = xgb.train, nrounds = 10000, \n",
       "    watchlist = list(val1 = xgb.train, val2 = xgb.test), verbose = 0, \n",
       "    early_stopping_rounds = 10, nthreads = 1)\n",
       "params (as set within xgb.train):\n",
       "  booster = \"gbtree\", eta = \"0.001\", max_depth = \"5\", gamma = \"3\", subsample = \"0.75\", colsample_bytree = \"1\", objective = \"multi:softprob\", eval_metric = \"mlogloss\", num_class = \"11\", nthreads = \"1\", silent = \"1\"\n",
       "xgb.attributes:\n",
       "  best_iteration, best_msg, best_ntreelimit, best_score, niter\n",
       "callbacks:\n",
       "  cb.evaluation.log()\n",
       "  cb.early.stop(stopping_rounds = early_stopping_rounds, maximize = maximize, \n",
       "    verbose = verbose)\n",
       "# of features: 2 \n",
       "niter: 59\n",
       "best_iteration : 49 \n",
       "best_ntreelimit : 49 \n",
       "best_score : 2.370807 \n",
       "nfeatures : 2 \n",
       "evaluation_log:\n",
       "    iter val1_mlogloss val2_mlogloss\n",
       "       1      2.396112      2.383826\n",
       "       2      2.394732      2.383814\n",
       "---                                 \n",
       "      58      2.311654      2.380288\n",
       "      59      2.309923      2.380255"
      ]
     },
     "metadata": {},
     "output_type": "display_data"
    }
   ],
   "source": [
    "xgb.fit"
   ]
  },
  {
   "cell_type": "code",
   "execution_count": 69,
   "metadata": {},
   "outputs": [],
   "source": [
    "# Predict outcomes with the test data\n",
    "xgb.pred = predict(xgb.fit,test_data,reshape=T)\n",
    "xgb.pred = as.data.frame(xgb.pred)\n",
    "colnames(xgb.pred) = label_levels"
   ]
  },
  {
   "cell_type": "code",
   "execution_count": 70,
   "metadata": {
    "scrolled": false
   },
   "outputs": [
    {
     "data": {
      "text/html": [
       "<table>\n",
       "<thead><tr><th></th><th scope=col>0</th><th scope=col>1</th><th scope=col>3</th><th scope=col>2</th><th scope=col>10</th><th scope=col>9</th><th scope=col>8</th><th scope=col>7</th><th scope=col>6</th><th scope=col>5</th><th scope=col>4</th></tr></thead>\n",
       "<tbody>\n",
       "\t<tr><th scope=row>4970596</th><td>0.09811977</td><td>0.09023055</td><td>0.09017438</td><td>0.09020131</td><td>0.09020481</td><td>0.0901709 </td><td>0.09021422</td><td>0.09016385</td><td>0.09016264</td><td>0.09018956</td><td>0.09016795</td></tr>\n",
       "\t<tr><th scope=row>3031942</th><td>0.09811977</td><td>0.09023055</td><td>0.09017438</td><td>0.09020131</td><td>0.09020481</td><td>0.0901709 </td><td>0.09021422</td><td>0.09016385</td><td>0.09016264</td><td>0.09018956</td><td>0.09016795</td></tr>\n",
       "\t<tr><th scope=row>3930986</th><td>0.09811977</td><td>0.09023055</td><td>0.09017438</td><td>0.09020131</td><td>0.09020481</td><td>0.0901709 </td><td>0.09021422</td><td>0.09016385</td><td>0.09016264</td><td>0.09018956</td><td>0.09016795</td></tr>\n",
       "\t<tr><th scope=row>3068827</th><td>0.09811977</td><td>0.09023055</td><td>0.09017438</td><td>0.09020131</td><td>0.09020481</td><td>0.0901709 </td><td>0.09021422</td><td>0.09016385</td><td>0.09016264</td><td>0.09018956</td><td>0.09016795</td></tr>\n",
       "\t<tr><th scope=row>1200528</th><td>0.09811977</td><td>0.09023055</td><td>0.09017438</td><td>0.09020131</td><td>0.09020481</td><td>0.0901709 </td><td>0.09021422</td><td>0.09016385</td><td>0.09016264</td><td>0.09018956</td><td>0.09016795</td></tr>\n",
       "</tbody>\n",
       "</table>\n"
      ],
      "text/latex": [
       "\\begin{tabular}{r|lllllllllll}\n",
       "  & 0 & 1 & 3 & 2 & 10 & 9 & 8 & 7 & 6 & 5 & 4\\\\\n",
       "\\hline\n",
       "\t4970596 & 0.09811977 & 0.09023055 & 0.09017438 & 0.09020131 & 0.09020481 & 0.0901709  & 0.09021422 & 0.09016385 & 0.09016264 & 0.09018956 & 0.09016795\\\\\n",
       "\t3031942 & 0.09811977 & 0.09023055 & 0.09017438 & 0.09020131 & 0.09020481 & 0.0901709  & 0.09021422 & 0.09016385 & 0.09016264 & 0.09018956 & 0.09016795\\\\\n",
       "\t3930986 & 0.09811977 & 0.09023055 & 0.09017438 & 0.09020131 & 0.09020481 & 0.0901709  & 0.09021422 & 0.09016385 & 0.09016264 & 0.09018956 & 0.09016795\\\\\n",
       "\t3068827 & 0.09811977 & 0.09023055 & 0.09017438 & 0.09020131 & 0.09020481 & 0.0901709  & 0.09021422 & 0.09016385 & 0.09016264 & 0.09018956 & 0.09016795\\\\\n",
       "\t1200528 & 0.09811977 & 0.09023055 & 0.09017438 & 0.09020131 & 0.09020481 & 0.0901709  & 0.09021422 & 0.09016385 & 0.09016264 & 0.09018956 & 0.09016795\\\\\n",
       "\\end{tabular}\n"
      ],
      "text/markdown": [
       "\n",
       "| <!--/--> | 0 | 1 | 3 | 2 | 10 | 9 | 8 | 7 | 6 | 5 | 4 |\n",
       "|---|---|---|---|---|---|---|---|---|---|---|---|\n",
       "| 4970596 | 0.09811977 | 0.09023055 | 0.09017438 | 0.09020131 | 0.09020481 | 0.0901709  | 0.09021422 | 0.09016385 | 0.09016264 | 0.09018956 | 0.09016795 |\n",
       "| 3031942 | 0.09811977 | 0.09023055 | 0.09017438 | 0.09020131 | 0.09020481 | 0.0901709  | 0.09021422 | 0.09016385 | 0.09016264 | 0.09018956 | 0.09016795 |\n",
       "| 3930986 | 0.09811977 | 0.09023055 | 0.09017438 | 0.09020131 | 0.09020481 | 0.0901709  | 0.09021422 | 0.09016385 | 0.09016264 | 0.09018956 | 0.09016795 |\n",
       "| 3068827 | 0.09811977 | 0.09023055 | 0.09017438 | 0.09020131 | 0.09020481 | 0.0901709  | 0.09021422 | 0.09016385 | 0.09016264 | 0.09018956 | 0.09016795 |\n",
       "| 1200528 | 0.09811977 | 0.09023055 | 0.09017438 | 0.09020131 | 0.09020481 | 0.0901709  | 0.09021422 | 0.09016385 | 0.09016264 | 0.09018956 | 0.09016795 |\n",
       "\n"
      ],
      "text/plain": [
       "        0          1          3          2          10         9        \n",
       "4970596 0.09811977 0.09023055 0.09017438 0.09020131 0.09020481 0.0901709\n",
       "3031942 0.09811977 0.09023055 0.09017438 0.09020131 0.09020481 0.0901709\n",
       "3930986 0.09811977 0.09023055 0.09017438 0.09020131 0.09020481 0.0901709\n",
       "3068827 0.09811977 0.09023055 0.09017438 0.09020131 0.09020481 0.0901709\n",
       "1200528 0.09811977 0.09023055 0.09017438 0.09020131 0.09020481 0.0901709\n",
       "        8          7          6          5          4         \n",
       "4970596 0.09021422 0.09016385 0.09016264 0.09018956 0.09016795\n",
       "3031942 0.09021422 0.09016385 0.09016264 0.09018956 0.09016795\n",
       "3930986 0.09021422 0.09016385 0.09016264 0.09018956 0.09016795\n",
       "3068827 0.09021422 0.09016385 0.09016264 0.09018956 0.09016795\n",
       "1200528 0.09021422 0.09016385 0.09016264 0.09018956 0.09016795"
      ]
     },
     "metadata": {},
     "output_type": "display_data"
    }
   ],
   "source": [
    "xgb.pred[sample(nrow(xgb.pred), 5), ]"
   ]
  },
  {
   "cell_type": "code",
   "execution_count": 71,
   "metadata": {},
   "outputs": [],
   "source": [
    "# Use the predicted label with the highest probability\n",
    "xgb.pred$prediction = apply(xgb.pred,1,function(x) colnames(xgb.pred)[which.max(x)])\n",
    "xgb.pred$label = label_levels[test_labels+1]"
   ]
  },
  {
   "cell_type": "code",
   "execution_count": 72,
   "metadata": {
    "scrolled": true
   },
   "outputs": [
    {
     "name": "stdout",
     "output_type": "stream",
     "text": [
      "[1] \"Final Accuracy = 24.80%\"\n"
     ]
    }
   ],
   "source": [
    "result = sum(xgb.pred$prediction==xgb.pred$label)/nrow(xgb.pred)\n",
    "print(paste(\"Final Accuracy =\",sprintf(\"%1.2f%%\", 100*result)))"
   ]
  }
 ],
 "metadata": {
  "kernelspec": {
   "display_name": "R",
   "language": "R",
   "name": "ir"
  },
  "language_info": {
   "codemirror_mode": "r",
   "file_extension": ".r",
   "mimetype": "text/x-r-source",
   "name": "R",
   "pygments_lexer": "r",
   "version": "3.6.1"
  }
 },
 "nbformat": 4,
 "nbformat_minor": 4
}
