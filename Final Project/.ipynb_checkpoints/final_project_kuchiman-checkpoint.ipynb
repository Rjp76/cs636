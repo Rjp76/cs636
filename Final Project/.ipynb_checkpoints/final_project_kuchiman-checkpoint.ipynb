{
 "cells": [
  {
   "cell_type": "code",
   "execution_count": 33,
   "metadata": {
    "scrolled": true
   },
   "outputs": [],
   "source": [
    "# install.packages('pROC')\n",
    "# install.packages('xgboost')"
   ]
  },
  {
   "cell_type": "code",
   "execution_count": 110,
   "metadata": {},
   "outputs": [],
   "source": [
    "library(data.table)\n",
    "library(caret)\n",
    "library(pROC)\n",
    "library(plyr)\n",
    "library(boot)\n",
    "library(tidyverse)\n",
    "library(xgboost)"
   ]
  },
  {
   "cell_type": "code",
   "execution_count": 118,
   "metadata": {},
   "outputs": [],
   "source": [
    "batch_size = 500000\n",
    "split = 0.7"
   ]
  },
  {
   "cell_type": "code",
   "execution_count": 139,
   "metadata": {},
   "outputs": [],
   "source": [
    "add_batch_and_factor <- function(data){\n",
    "    \n",
    "    data$batch = ceiling((data$time * 10000) / batch_size) - 1\n",
    "    \n",
    "    data <- transform(\n",
    "        data,\n",
    "        time=as.numeric(time),\n",
    "        signal=as.numeric(signal),\n",
    "        open_channels=as.integer(open_channels),\n",
    "        batch=as.factor(batch)\n",
    "    )\n",
    "\n",
    "    return(data)\n",
    "}"
   ]
  },
  {
   "cell_type": "code",
   "execution_count": 149,
   "metadata": {},
   "outputs": [],
   "source": [
    "train_data = read.csv('train_clean.csv')"
   ]
  },
  {
   "cell_type": "code",
   "execution_count": 150,
   "metadata": {},
   "outputs": [
    {
     "data": {
      "text/html": [
       "<dl class=dl-horizontal>\n",
       "\t<dt>time</dt>\n",
       "\t\t<dd>'numeric'</dd>\n",
       "\t<dt>signal</dt>\n",
       "\t\t<dd>'numeric'</dd>\n",
       "\t<dt>open_channels</dt>\n",
       "\t\t<dd>'integer'</dd>\n",
       "\t<dt>batch</dt>\n",
       "\t\t<dd>'factor'</dd>\n",
       "</dl>\n"
      ],
      "text/latex": [
       "\\begin{description*}\n",
       "\\item[time] 'numeric'\n",
       "\\item[signal] 'numeric'\n",
       "\\item[open\\textbackslash{}\\_channels] 'integer'\n",
       "\\item[batch] 'factor'\n",
       "\\end{description*}\n"
      ],
      "text/markdown": [
       "time\n",
       ":   'numeric'signal\n",
       ":   'numeric'open_channels\n",
       ":   'integer'batch\n",
       ":   'factor'\n",
       "\n"
      ],
      "text/plain": [
       "         time        signal open_channels         batch \n",
       "    \"numeric\"     \"numeric\"     \"integer\"      \"factor\" "
      ]
     },
     "metadata": {},
     "output_type": "display_data"
    }
   ],
   "source": [
    "train_data = add_batch_and_factor(train_data)\n",
    "sapply(train_data, class)"
   ]
  },
  {
   "cell_type": "code",
   "execution_count": 151,
   "metadata": {
    "scrolled": false
   },
   "outputs": [
    {
     "data": {
      "text/html": [
       "<table>\n",
       "<thead><tr><th></th><th scope=col>time</th><th scope=col>signal</th><th scope=col>open_channels</th><th scope=col>batch</th></tr></thead>\n",
       "<tbody>\n",
       "\t<tr><th scope=row>4690005</th><td>469.0005 </td><td> 4.991160</td><td>8        </td><td>9        </td></tr>\n",
       "\t<tr><th scope=row>523963</th><td> 52.3963 </td><td>-2.441979</td><td>0        </td><td>1        </td></tr>\n",
       "\t<tr><th scope=row>2718650</th><td>271.8650 </td><td>-0.396900</td><td>2        </td><td>5        </td></tr>\n",
       "\t<tr><th scope=row>1152873</th><td>115.2873 </td><td>-1.211400</td><td>1        </td><td>2        </td></tr>\n",
       "\t<tr><th scope=row>4938580</th><td>493.8580 </td><td> 2.981873</td><td>7        </td><td>9        </td></tr>\n",
       "</tbody>\n",
       "</table>\n"
      ],
      "text/latex": [
       "\\begin{tabular}{r|llll}\n",
       "  & time & signal & open\\_channels & batch\\\\\n",
       "\\hline\n",
       "\t4690005 & 469.0005  &  4.991160 & 8         & 9        \\\\\n",
       "\t523963 &  52.3963  & -2.441979 & 0         & 1        \\\\\n",
       "\t2718650 & 271.8650  & -0.396900 & 2         & 5        \\\\\n",
       "\t1152873 & 115.2873  & -1.211400 & 1         & 2        \\\\\n",
       "\t4938580 & 493.8580  &  2.981873 & 7         & 9        \\\\\n",
       "\\end{tabular}\n"
      ],
      "text/markdown": [
       "\n",
       "| <!--/--> | time | signal | open_channels | batch |\n",
       "|---|---|---|---|---|\n",
       "| 4690005 | 469.0005  |  4.991160 | 8         | 9         |\n",
       "| 523963 |  52.3963  | -2.441979 | 0         | 1         |\n",
       "| 2718650 | 271.8650  | -0.396900 | 2         | 5         |\n",
       "| 1152873 | 115.2873  | -1.211400 | 1         | 2         |\n",
       "| 4938580 | 493.8580  |  2.981873 | 7         | 9         |\n",
       "\n"
      ],
      "text/plain": [
       "        time     signal    open_channels batch\n",
       "4690005 469.0005  4.991160 8             9    \n",
       "523963   52.3963 -2.441979 0             1    \n",
       "2718650 271.8650 -0.396900 2             5    \n",
       "1152873 115.2873 -1.211400 1             2    \n",
       "4938580 493.8580  2.981873 7             9    "
      ]
     },
     "metadata": {},
     "output_type": "display_data"
    }
   ],
   "source": [
    "train_data[sample(nrow(train_data), 5), ]"
   ]
  },
  {
   "cell_type": "code",
   "execution_count": 152,
   "metadata": {},
   "outputs": [
    {
     "data": {
      "text/html": [
       "<ol class=list-inline>\n",
       "\t<li>0</li>\n",
       "\t<li>1</li>\n",
       "\t<li>2</li>\n",
       "\t<li>3</li>\n",
       "\t<li>4</li>\n",
       "\t<li>5</li>\n",
       "\t<li>6</li>\n",
       "\t<li>7</li>\n",
       "\t<li>8</li>\n",
       "\t<li>9</li>\n",
       "</ol>\n",
       "\n",
       "<details>\n",
       "\t<summary style=display:list-item;cursor:pointer>\n",
       "\t\t<strong>Levels</strong>:\n",
       "\t</summary>\n",
       "\t<ol class=list-inline>\n",
       "\t\t<li>'0'</li>\n",
       "\t\t<li>'1'</li>\n",
       "\t\t<li>'2'</li>\n",
       "\t\t<li>'3'</li>\n",
       "\t\t<li>'4'</li>\n",
       "\t\t<li>'5'</li>\n",
       "\t\t<li>'6'</li>\n",
       "\t\t<li>'7'</li>\n",
       "\t\t<li>'8'</li>\n",
       "\t\t<li>'9'</li>\n",
       "\t</ol>\n",
       "</details>"
      ],
      "text/latex": [
       "\\begin{enumerate*}\n",
       "\\item 0\n",
       "\\item 1\n",
       "\\item 2\n",
       "\\item 3\n",
       "\\item 4\n",
       "\\item 5\n",
       "\\item 6\n",
       "\\item 7\n",
       "\\item 8\n",
       "\\item 9\n",
       "\\end{enumerate*}\n",
       "\n",
       "\\emph{Levels}: \\begin{enumerate*}\n",
       "\\item '0'\n",
       "\\item '1'\n",
       "\\item '2'\n",
       "\\item '3'\n",
       "\\item '4'\n",
       "\\item '5'\n",
       "\\item '6'\n",
       "\\item '7'\n",
       "\\item '8'\n",
       "\\item '9'\n",
       "\\end{enumerate*}\n"
      ],
      "text/markdown": [
       "1. 0\n",
       "2. 1\n",
       "3. 2\n",
       "4. 3\n",
       "5. 4\n",
       "6. 5\n",
       "7. 6\n",
       "8. 7\n",
       "9. 8\n",
       "10. 9\n",
       "\n",
       "\n",
       "\n",
       "**Levels**: 1. '0'\n",
       "2. '1'\n",
       "3. '2'\n",
       "4. '3'\n",
       "5. '4'\n",
       "6. '5'\n",
       "7. '6'\n",
       "8. '7'\n",
       "9. '8'\n",
       "10. '9'\n",
       "\n",
       "\n"
      ],
      "text/plain": [
       " [1] 0 1 2 3 4 5 6 7 8 9\n",
       "Levels: 0 1 2 3 4 5 6 7 8 9"
      ]
     },
     "metadata": {},
     "output_type": "display_data"
    }
   ],
   "source": [
    "unique(train_data$batch)\n",
    "label_levels = train_data$open_channels"
   ]
  },
  {
   "cell_type": "code",
   "execution_count": 153,
   "metadata": {},
   "outputs": [],
   "source": [
    "train_data_features = train_data[c('signal', 'batch', 'time')]\n",
    "train_data_labels = train_data['open_channels']"
   ]
  },
  {
   "cell_type": "code",
   "execution_count": 154,
   "metadata": {},
   "outputs": [],
   "source": [
    "train_data_features_matrix = data.matrix(train_data_features)\n",
    "train_data_labels_matrix =  data.matrix(train_data_labels)"
   ]
  },
  {
   "cell_type": "code",
   "execution_count": 155,
   "metadata": {
    "scrolled": true
   },
   "outputs": [],
   "source": [
    "numberOfTrainingSamples <- round(length(train_data) * split)\n",
    "\n",
    "# training data\n",
    "train_data <- train_data_features_matrix[1:numberOfTrainingSamples,]\n",
    "train_labels <- train_data_labels_matrix[1:numberOfTrainingSamples]\n",
    "\n",
    "# testing data\n",
    "test_data <- train_data_features_matrix[-(1:numberOfTrainingSamples),]\n",
    "test_labels <- train_data_labels_matrix[-(1:numberOfTrainingSamples)]"
   ]
  },
  {
   "cell_type": "code",
   "execution_count": 172,
   "metadata": {},
   "outputs": [],
   "source": [
    "xgb.train <- xgb.DMatrix(data = train_data, label = train_labels)\n",
    "xgb.test <- xgb.DMatrix(data = test_data, label = test_labels)"
   ]
  },
  {
   "cell_type": "code",
   "execution_count": 176,
   "metadata": {},
   "outputs": [],
   "source": [
    "params = list(\n",
    "  booster=\"gbtree\",\n",
    "  eta=0.001,\n",
    "  max_depth=5,\n",
    "  gamma=3,\n",
    "  subsample=0.75,\n",
    "  colsample_bytree=1,\n",
    "  objective=\"multi:softprob\",\n",
    "  eval_metric=\"mlogloss\",\n",
    "  num_class=length(unique(label_levels))\n",
    ")"
   ]
  },
  {
   "cell_type": "code",
   "execution_count": 177,
   "metadata": {},
   "outputs": [],
   "source": [
    "xgb.fit=xgb.train(\n",
    "    params=params,\n",
    "    data=xgb.train,\n",
    "    nrounds=10000,\n",
    "    nthreads=1,\n",
    "    early_stopping_rounds=10,\n",
    "    watchlist=list(val1=xgb.train,val2=xgb.test),\n",
    "    verbose=0\n",
    ")"
   ]
  },
  {
   "cell_type": "code",
   "execution_count": 178,
   "metadata": {},
   "outputs": [
    {
     "data": {
      "text/plain": [
       "##### xgb.Booster\n",
       "raw: 134 Kb \n",
       "call:\n",
       "  xgb.train(params = params, data = xgb.train, nrounds = 10000, \n",
       "    watchlist = list(val1 = xgb.train, val2 = xgb.test), verbose = 0, \n",
       "    early_stopping_rounds = 10, nthreads = 1)\n",
       "params (as set within xgb.train):\n",
       "  booster = \"gbtree\", eta = \"0.001\", max_depth = \"5\", gamma = \"3\", subsample = \"0.75\", colsample_bytree = \"1\", objective = \"multi:softprob\", eval_metric = \"mlogloss\", num_class = \"11\", nthreads = \"1\", silent = \"1\"\n",
       "xgb.attributes:\n",
       "  best_iteration, best_msg, best_ntreelimit, best_score, niter\n",
       "callbacks:\n",
       "  cb.evaluation.log()\n",
       "  cb.early.stop(stopping_rounds = early_stopping_rounds, maximize = maximize, \n",
       "    verbose = verbose)\n",
       "# of features: 3 \n",
       "niter: 66\n",
       "best_iteration : 56 \n",
       "best_ntreelimit : 56 \n",
       "best_score : 2.370809 \n",
       "nfeatures : 3 \n",
       "evaluation_log:\n",
       "    iter val1_mlogloss val2_mlogloss\n",
       "       1      2.396124      2.383826\n",
       "       2      2.395287      2.383817\n",
       "---                                 \n",
       "      65      2.308259      2.380141\n",
       "      66      2.306953      2.380131"
      ]
     },
     "metadata": {},
     "output_type": "display_data"
    }
   ],
   "source": [
    "xgb.fit"
   ]
  }
 ],
 "metadata": {
  "kernelspec": {
   "display_name": "R",
   "language": "R",
   "name": "ir"
  },
  "language_info": {
   "codemirror_mode": "r",
   "file_extension": ".r",
   "mimetype": "text/x-r-source",
   "name": "R",
   "pygments_lexer": "r",
   "version": "3.6.1"
  }
 },
 "nbformat": 4,
 "nbformat_minor": 4
}
