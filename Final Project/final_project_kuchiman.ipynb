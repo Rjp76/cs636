{
 "cells": [
  {
   "cell_type": "code",
   "execution_count": 23,
   "metadata": {
    "scrolled": true
   },
   "outputs": [],
   "source": [
    "# install.packages('pROC')\n",
    "# install.packages('xgboost')"
   ]
  },
  {
   "cell_type": "code",
   "execution_count": 46,
   "metadata": {},
   "outputs": [],
   "source": [
    "library(data.table)\n",
    "library(caret)\n",
    "library(pROC)\n",
    "library(plyr)\n",
    "library(boot)\n",
    "library(tidyverse)\n",
    "library(xgboost)"
   ]
  },
  {
   "cell_type": "code",
   "execution_count": 47,
   "metadata": {},
   "outputs": [],
   "source": [
    "batch_size = 500000\n",
    "split = 0.7"
   ]
  },
  {
   "cell_type": "code",
   "execution_count": 48,
   "metadata": {},
   "outputs": [],
   "source": [
    "add_batch_and_factor <- function(data){\n",
    "    \n",
    "    data$batch = ceiling((data$time * 10000) / batch_size)\n",
    "    \n",
    "    data <- transform(\n",
    "        data,\n",
    "        time=as.numeric(time),\n",
    "        signal=as.numeric(signal),\n",
    "        open_channels=as.numeric(open_channels),\n",
    "        batch=as.factor(batch)\n",
    "    )\n",
    "\n",
    "    return(data)\n",
    "}"
   ]
  },
  {
   "cell_type": "code",
   "execution_count": 101,
   "metadata": {},
   "outputs": [],
   "source": [
    "apply_algorithm <- function(raw_data, bath){\n",
    "    \n",
    "    data = raw_data[raw_data$batch == batch, ]\n",
    "    \n",
    "    if ((0 %in% data$open_channels) == FALSE) {\n",
    "        data$open_channels = data$open_channels - 1\n",
    "    }\n",
    "\n",
    "    label_levels = unique(data$open_channels)\n",
    "    \n",
    "    params = list(\n",
    "      booster=\"gbtree\",\n",
    "      eta=0.001,\n",
    "      max_depth=5,\n",
    "      gamma=3,\n",
    "      subsample=0.75,\n",
    "      colsample_bytree=1,\n",
    "      objective=\"multi:softprob\",\n",
    "      eval_metric=\"mlogloss\",\n",
    "      num_class=length(label_levels)\n",
    "    )\n",
    "\n",
    "    train_data_features = data[features]\n",
    "    train_data_labels = data[label]\n",
    "\n",
    "    train_data_features_matrix = data.matrix(train_data_features)\n",
    "    train_data_labels_matrix =  data.matrix(train_data_labels)\n",
    "\n",
    "    numberOfTrainingSamples <- round(length(data) * split)\n",
    "\n",
    "    # training data\n",
    "    train_data <- train_data_features_matrix[1:numberOfTrainingSamples,]\n",
    "    train_labels <- train_data_labels_matrix[1:numberOfTrainingSamples]\n",
    "\n",
    "    # testing data\n",
    "    test_data <- train_data_features_matrix[-(1:numberOfTrainingSamples),]\n",
    "    test_labels <- train_data_labels_matrix[-(1:numberOfTrainingSamples)]\n",
    "\n",
    "    xgb.train <- xgb.DMatrix(data = train_data, label = train_labels)\n",
    "    xgb.test <- xgb.DMatrix(data = test_data, label = test_labels)\n",
    "\n",
    "    xgb.fit=xgb.train(\n",
    "        params=params,\n",
    "        data=xgb.train,\n",
    "        nrounds=10000,\n",
    "        nthreads=1,\n",
    "        early_stopping_rounds=10,\n",
    "        watchlist=list(val1=xgb.train,val2=xgb.test),\n",
    "        verbose=0\n",
    "    )\n",
    "\n",
    "    xgb.pred = predict(xgb.fit,test_data,reshape=T)\n",
    "    xgb.pred = as.data.frame(xgb.pred)\n",
    "    colnames(xgb.pred) = label_levels\n",
    "\n",
    "    xgb.pred$prediction = apply(xgb.pred,1,function(x) colnames(xgb.pred)[which.max(x)])\n",
    "    xgb.pred$label = label_levels[test_labels+1]\n",
    "\n",
    "    result = sum(xgb.pred$prediction==xgb.pred$label)/nrow(xgb.pred)\n",
    "    print(paste(\"Final Accuracy =\",sprintf(\"%1.2f%%\", 100*result)))\n",
    "\n",
    "}"
   ]
  },
  {
   "cell_type": "code",
   "execution_count": 50,
   "metadata": {},
   "outputs": [],
   "source": [
    "raw_data = read.csv('train_clean.csv')"
   ]
  },
  {
   "cell_type": "code",
   "execution_count": 51,
   "metadata": {},
   "outputs": [
    {
     "data": {
      "text/html": [
       "<dl class=dl-horizontal>\n",
       "\t<dt>time</dt>\n",
       "\t\t<dd>'numeric'</dd>\n",
       "\t<dt>signal</dt>\n",
       "\t\t<dd>'numeric'</dd>\n",
       "\t<dt>open_channels</dt>\n",
       "\t\t<dd>'numeric'</dd>\n",
       "\t<dt>batch</dt>\n",
       "\t\t<dd>'factor'</dd>\n",
       "</dl>\n"
      ],
      "text/latex": [
       "\\begin{description*}\n",
       "\\item[time] 'numeric'\n",
       "\\item[signal] 'numeric'\n",
       "\\item[open\\textbackslash{}\\_channels] 'numeric'\n",
       "\\item[batch] 'factor'\n",
       "\\end{description*}\n"
      ],
      "text/markdown": [
       "time\n",
       ":   'numeric'signal\n",
       ":   'numeric'open_channels\n",
       ":   'numeric'batch\n",
       ":   'factor'\n",
       "\n"
      ],
      "text/plain": [
       "         time        signal open_channels         batch \n",
       "    \"numeric\"     \"numeric\"     \"numeric\"      \"factor\" "
      ]
     },
     "metadata": {},
     "output_type": "display_data"
    }
   ],
   "source": [
    "raw_data = add_batch_and_factor(raw_data)\n",
    "sapply(raw_data, class)"
   ]
  },
  {
   "cell_type": "code",
   "execution_count": 102,
   "metadata": {},
   "outputs": [
    {
     "name": "stdout",
     "output_type": "stream",
     "text": [
      "[1] \"Final Accuracy = 96.83%\"\n",
      "[1] \"Final Accuracy = 96.13%\"\n",
      "[1] \"Final Accuracy = 74.80%\"\n",
      "[1] \"Final Accuracy = 36.88%\"\n",
      "[1] \"Final Accuracy = 3.65%\"\n",
      "[1] \"Final Accuracy = 18.63%\"\n",
      "[1] \"Final Accuracy = 75.36%\"\n",
      "[1] \"Final Accuracy = 36.34%\"\n",
      "[1] \"Final Accuracy = 18.60%\"\n",
      "[1] \"Final Accuracy = 3.50%\"\n"
     ]
    }
   ],
   "source": [
    "features = c('time', 'signal')\n",
    "label = 'open_channels'\n",
    "\n",
    "raw_data = add_batch_and_factor(raw_data)\n",
    "batches = unique(raw_data$batch)\n",
    "    \n",
    "for (batch in batches){\n",
    "    apply_algorithm(raw_data, batch)\n",
    "}"
   ]
  }
 ],
 "metadata": {
  "kernelspec": {
   "display_name": "R",
   "language": "R",
   "name": "ir"
  },
  "language_info": {
   "codemirror_mode": "r",
   "file_extension": ".r",
   "mimetype": "text/x-r-source",
   "name": "R",
   "pygments_lexer": "r",
   "version": "3.6.1"
  }
 },
 "nbformat": 4,
 "nbformat_minor": 4
}
