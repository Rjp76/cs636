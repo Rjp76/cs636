{
 "cells": [
  {
   "cell_type": "code",
   "execution_count": 1,
   "metadata": {
    "scrolled": true
   },
   "outputs": [],
   "source": [
    "# install.packages('pROC')\n",
    "# install.packages('xgboost')"
   ]
  },
  {
   "cell_type": "code",
   "execution_count": 22,
   "metadata": {},
   "outputs": [],
   "source": [
    "library(data.table)\n",
    "library(caret)\n",
    "library(pROC)\n",
    "library(plyr)\n",
    "library(boot)\n",
    "library(tidyverse)\n",
    "library(xgboost)"
   ]
  },
  {
   "cell_type": "code",
   "execution_count": 35,
   "metadata": {},
   "outputs": [],
   "source": [
    "batch_size = 500000\n",
    "split = 0.7"
   ]
  },
  {
   "cell_type": "code",
   "execution_count": 81,
   "metadata": {},
   "outputs": [],
   "source": [
    "add_batch_and_factor <- function(data){\n",
    "    \n",
    "    data$batch = ceiling((data$time * 10000) / batch_size)\n",
    "    \n",
    "    data <- transform(\n",
    "        data,\n",
    "        time=as.numeric(time),\n",
    "        signal=as.numeric(signal),\n",
    "        open_channels=as.numeric(open_channels),\n",
    "        batch=as.factor(batch)\n",
    "    )\n",
    "\n",
    "    return(data)\n",
    "}"
   ]
  },
  {
   "cell_type": "code",
   "execution_count": 82,
   "metadata": {},
   "outputs": [],
   "source": [
    "data = read.csv('train_clean.csv')"
   ]
  },
  {
   "cell_type": "code",
   "execution_count": 83,
   "metadata": {},
   "outputs": [
    {
     "data": {
      "text/html": [
       "<dl class=dl-horizontal>\n",
       "\t<dt>time</dt>\n",
       "\t\t<dd>'numeric'</dd>\n",
       "\t<dt>signal</dt>\n",
       "\t\t<dd>'numeric'</dd>\n",
       "\t<dt>open_channels</dt>\n",
       "\t\t<dd>'numeric'</dd>\n",
       "\t<dt>batch</dt>\n",
       "\t\t<dd>'factor'</dd>\n",
       "</dl>\n"
      ],
      "text/latex": [
       "\\begin{description*}\n",
       "\\item[time] 'numeric'\n",
       "\\item[signal] 'numeric'\n",
       "\\item[open\\textbackslash{}\\_channels] 'numeric'\n",
       "\\item[batch] 'factor'\n",
       "\\end{description*}\n"
      ],
      "text/markdown": [
       "time\n",
       ":   'numeric'signal\n",
       ":   'numeric'open_channels\n",
       ":   'numeric'batch\n",
       ":   'factor'\n",
       "\n"
      ],
      "text/plain": [
       "         time        signal open_channels         batch \n",
       "    \"numeric\"     \"numeric\"     \"numeric\"      \"factor\" "
      ]
     },
     "metadata": {},
     "output_type": "display_data"
    }
   ],
   "source": [
    "data = add_batch_and_factor(data)\n",
    "sapply(data, class)"
   ]
  },
  {
   "cell_type": "code",
   "execution_count": 88,
   "metadata": {},
   "outputs": [],
   "source": [
    "data = data[data$batch == 1, ]"
   ]
  },
  {
   "cell_type": "code",
   "execution_count": 89,
   "metadata": {
    "scrolled": false
   },
   "outputs": [
    {
     "data": {
      "text/html": [
       "<table>\n",
       "<thead><tr><th></th><th scope=col>time</th><th scope=col>signal</th><th scope=col>open_channels</th><th scope=col>batch</th></tr></thead>\n",
       "<tbody>\n",
       "\t<tr><th scope=row>131526</th><td>13.1526</td><td>-2.6117</td><td>0      </td><td>1      </td></tr>\n",
       "\t<tr><th scope=row>113785</th><td>11.3785</td><td>-2.9132</td><td>0      </td><td>1      </td></tr>\n",
       "\t<tr><th scope=row>359368</th><td>35.9368</td><td>-2.6331</td><td>0      </td><td>1      </td></tr>\n",
       "\t<tr><th scope=row>14304</th><td> 1.4304</td><td>-2.7789</td><td>0      </td><td>1      </td></tr>\n",
       "\t<tr><th scope=row>292274</th><td>29.2274</td><td>-2.3129</td><td>0      </td><td>1      </td></tr>\n",
       "</tbody>\n",
       "</table>\n"
      ],
      "text/latex": [
       "\\begin{tabular}{r|llll}\n",
       "  & time & signal & open\\_channels & batch\\\\\n",
       "\\hline\n",
       "\t131526 & 13.1526 & -2.6117 & 0       & 1      \\\\\n",
       "\t113785 & 11.3785 & -2.9132 & 0       & 1      \\\\\n",
       "\t359368 & 35.9368 & -2.6331 & 0       & 1      \\\\\n",
       "\t14304 &  1.4304 & -2.7789 & 0       & 1      \\\\\n",
       "\t292274 & 29.2274 & -2.3129 & 0       & 1      \\\\\n",
       "\\end{tabular}\n"
      ],
      "text/markdown": [
       "\n",
       "| <!--/--> | time | signal | open_channels | batch |\n",
       "|---|---|---|---|---|\n",
       "| 131526 | 13.1526 | -2.6117 | 0       | 1       |\n",
       "| 113785 | 11.3785 | -2.9132 | 0       | 1       |\n",
       "| 359368 | 35.9368 | -2.6331 | 0       | 1       |\n",
       "| 14304 |  1.4304 | -2.7789 | 0       | 1       |\n",
       "| 292274 | 29.2274 | -2.3129 | 0       | 1       |\n",
       "\n"
      ],
      "text/plain": [
       "       time    signal  open_channels batch\n",
       "131526 13.1526 -2.6117 0             1    \n",
       "113785 11.3785 -2.9132 0             1    \n",
       "359368 35.9368 -2.6331 0             1    \n",
       "14304   1.4304 -2.7789 0             1    \n",
       "292274 29.2274 -2.3129 0             1    "
      ]
     },
     "metadata": {},
     "output_type": "display_data"
    }
   ],
   "source": [
    "data[sample(nrow(data), 5), ]"
   ]
  },
  {
   "cell_type": "code",
   "execution_count": 90,
   "metadata": {},
   "outputs": [
    {
     "data": {
      "text/html": [
       "<ol class=list-inline>\n",
       "\t<li>0</li>\n",
       "\t<li>1</li>\n",
       "</ol>\n"
      ],
      "text/latex": [
       "\\begin{enumerate*}\n",
       "\\item 0\n",
       "\\item 1\n",
       "\\end{enumerate*}\n"
      ],
      "text/markdown": [
       "1. 0\n",
       "2. 1\n",
       "\n",
       "\n"
      ],
      "text/plain": [
       "[1] 0 1"
      ]
     },
     "metadata": {},
     "output_type": "display_data"
    }
   ],
   "source": [
    "label_levels = unique(data$open_channels)\n",
    "label_levels"
   ]
  },
  {
   "cell_type": "code",
   "execution_count": 91,
   "metadata": {},
   "outputs": [],
   "source": [
    "train_data_features = data[c('time', 'signal')]\n",
    "train_data_labels = data['open_channels']"
   ]
  },
  {
   "cell_type": "code",
   "execution_count": 92,
   "metadata": {},
   "outputs": [],
   "source": [
    "train_data_features_matrix = data.matrix(train_data_features)\n",
    "train_data_labels_matrix =  data.matrix(train_data_labels)"
   ]
  },
  {
   "cell_type": "code",
   "execution_count": 93,
   "metadata": {
    "scrolled": true
   },
   "outputs": [],
   "source": [
    "numberOfTrainingSamples <- round(length(data) * split)\n",
    "\n",
    "# training data\n",
    "train_data <- train_data_features_matrix[1:numberOfTrainingSamples,]\n",
    "train_labels <- train_data_labels_matrix[1:numberOfTrainingSamples]\n",
    "\n",
    "# testing data\n",
    "test_data <- train_data_features_matrix[-(1:numberOfTrainingSamples),]\n",
    "test_labels <- train_data_labels_matrix[-(1:numberOfTrainingSamples)]"
   ]
  },
  {
   "cell_type": "code",
   "execution_count": 94,
   "metadata": {},
   "outputs": [],
   "source": [
    "xgb.train <- xgb.DMatrix(data = train_data, label = train_labels)\n",
    "xgb.test <- xgb.DMatrix(data = test_data, label = test_labels)"
   ]
  },
  {
   "cell_type": "code",
   "execution_count": 95,
   "metadata": {},
   "outputs": [],
   "source": [
    "params = list(\n",
    "  booster=\"gbtree\",\n",
    "  eta=0.001,\n",
    "  max_depth=5,\n",
    "  gamma=3,\n",
    "  subsample=0.75,\n",
    "  colsample_bytree=1,\n",
    "  objective=\"multi:softprob\",\n",
    "  eval_metric=\"mlogloss\",\n",
    "  num_class=length(label_levels)\n",
    ")"
   ]
  },
  {
   "cell_type": "code",
   "execution_count": 96,
   "metadata": {},
   "outputs": [],
   "source": [
    "xgb.fit=xgb.train(\n",
    "    params=params,\n",
    "    data=xgb.train,\n",
    "    nrounds=10000,\n",
    "    nthreads=1,\n",
    "    early_stopping_rounds=10,\n",
    "    watchlist=list(val1=xgb.train,val2=xgb.test),\n",
    "    verbose=0\n",
    ")"
   ]
  },
  {
   "cell_type": "code",
   "execution_count": 97,
   "metadata": {
    "scrolled": false
   },
   "outputs": [
    {
     "data": {
      "text/plain": [
       "##### xgb.Booster\n",
       "raw: 1.7 Mb \n",
       "call:\n",
       "  xgb.train(params = params, data = xgb.train, nrounds = 10000, \n",
       "    watchlist = list(val1 = xgb.train, val2 = xgb.test), verbose = 0, \n",
       "    early_stopping_rounds = 10, nthreads = 1)\n",
       "params (as set within xgb.train):\n",
       "  booster = \"gbtree\", eta = \"0.001\", max_depth = \"5\", gamma = \"3\", subsample = \"0.75\", colsample_bytree = \"1\", objective = \"multi:softprob\", eval_metric = \"mlogloss\", num_class = \"2\", nthreads = \"1\", silent = \"1\"\n",
       "xgb.attributes:\n",
       "  best_iteration, best_msg, best_ntreelimit, best_score, niter\n",
       "callbacks:\n",
       "  cb.evaluation.log()\n",
       "  cb.early.stop(stopping_rounds = early_stopping_rounds, maximize = maximize, \n",
       "    verbose = verbose)\n",
       "# of features: 2 \n",
       "niter: 4609\n",
       "best_iteration : 4599 \n",
       "best_ntreelimit : 4599 \n",
       "best_score : 0.164249 \n",
       "nfeatures : 2 \n",
       "evaluation_log:\n",
       "    iter val1_mlogloss val2_mlogloss\n",
       "       1      0.692597      0.692588\n",
       "       2      0.692098      0.691789\n",
       "---                                 \n",
       "    4608      0.088781      0.164269\n",
       "    4609      0.088755      0.164266"
      ]
     },
     "metadata": {},
     "output_type": "display_data"
    }
   ],
   "source": [
    "xgb.fit"
   ]
  },
  {
   "cell_type": "code",
   "execution_count": 98,
   "metadata": {},
   "outputs": [],
   "source": [
    "# Predict outcomes with the test data\n",
    "xgb.pred = predict(xgb.fit,test_data,reshape=T)\n",
    "xgb.pred = as.data.frame(xgb.pred)\n",
    "colnames(xgb.pred) = label_levels"
   ]
  },
  {
   "cell_type": "code",
   "execution_count": 99,
   "metadata": {
    "scrolled": false
   },
   "outputs": [
    {
     "data": {
      "text/html": [
       "<table>\n",
       "<thead><tr><th></th><th scope=col>0</th><th scope=col>1</th></tr></thead>\n",
       "<tbody>\n",
       "\t<tr><th scope=row>84909</th><td>0.9148567 </td><td>0.08514336</td></tr>\n",
       "\t<tr><th scope=row>227858</th><td>0.9148567 </td><td>0.08514336</td></tr>\n",
       "\t<tr><th scope=row>492302</th><td>0.9148567 </td><td>0.08514336</td></tr>\n",
       "\t<tr><th scope=row>413639</th><td>0.9148567 </td><td>0.08514336</td></tr>\n",
       "\t<tr><th scope=row>334193</th><td>0.9148567 </td><td>0.08514336</td></tr>\n",
       "</tbody>\n",
       "</table>\n"
      ],
      "text/latex": [
       "\\begin{tabular}{r|ll}\n",
       "  & 0 & 1\\\\\n",
       "\\hline\n",
       "\t84909 & 0.9148567  & 0.08514336\\\\\n",
       "\t227858 & 0.9148567  & 0.08514336\\\\\n",
       "\t492302 & 0.9148567  & 0.08514336\\\\\n",
       "\t413639 & 0.9148567  & 0.08514336\\\\\n",
       "\t334193 & 0.9148567  & 0.08514336\\\\\n",
       "\\end{tabular}\n"
      ],
      "text/markdown": [
       "\n",
       "| <!--/--> | 0 | 1 |\n",
       "|---|---|---|\n",
       "| 84909 | 0.9148567  | 0.08514336 |\n",
       "| 227858 | 0.9148567  | 0.08514336 |\n",
       "| 492302 | 0.9148567  | 0.08514336 |\n",
       "| 413639 | 0.9148567  | 0.08514336 |\n",
       "| 334193 | 0.9148567  | 0.08514336 |\n",
       "\n"
      ],
      "text/plain": [
       "       0         1         \n",
       "84909  0.9148567 0.08514336\n",
       "227858 0.9148567 0.08514336\n",
       "492302 0.9148567 0.08514336\n",
       "413639 0.9148567 0.08514336\n",
       "334193 0.9148567 0.08514336"
      ]
     },
     "metadata": {},
     "output_type": "display_data"
    }
   ],
   "source": [
    "xgb.pred[sample(nrow(xgb.pred), 5), ]"
   ]
  },
  {
   "cell_type": "code",
   "execution_count": 100,
   "metadata": {},
   "outputs": [],
   "source": [
    "# Use the predicted label with the highest probability\n",
    "xgb.pred$prediction = apply(xgb.pred,1,function(x) colnames(xgb.pred)[which.max(x)])\n",
    "xgb.pred$label = label_levels[test_labels+1]"
   ]
  },
  {
   "cell_type": "code",
   "execution_count": 101,
   "metadata": {
    "scrolled": true
   },
   "outputs": [
    {
     "name": "stdout",
     "output_type": "stream",
     "text": [
      "[1] \"Final Accuracy = 96.83%\"\n"
     ]
    }
   ],
   "source": [
    "result = sum(xgb.pred$prediction==xgb.pred$label)/nrow(xgb.pred)\n",
    "print(paste(\"Final Accuracy =\",sprintf(\"%1.2f%%\", 100*result)))"
   ]
  }
 ],
 "metadata": {
  "kernelspec": {
   "display_name": "R",
   "language": "R",
   "name": "ir"
  },
  "language_info": {
   "codemirror_mode": "r",
   "file_extension": ".r",
   "mimetype": "text/x-r-source",
   "name": "R",
   "pygments_lexer": "r",
   "version": "3.6.1"
  }
 },
 "nbformat": 4,
 "nbformat_minor": 4
}
