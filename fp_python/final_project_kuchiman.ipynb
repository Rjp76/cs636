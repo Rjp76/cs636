{
 "cells": [
  {
   "cell_type": "code",
   "execution_count": 43,
   "metadata": {},
   "outputs": [],
   "source": [
    "import csv\n",
    "import pandas as pd\n",
    "import numpy as np\n",
    "import seaborn as sn\n",
    "import itertools\n",
    "from matplotlib import pyplot as plt\n",
    "from sklearn.tree import export_graphviz\n",
    "from sklearn.preprocessing import MinMaxScaler, LabelEncoder\n",
    "from sklearn.ensemble import RandomForestClassifier\n",
    "from sklearn.model_selection import KFold, cross_val_score, train_test_split\n",
    "from sklearn.metrics import f1_score, precision_recall_curve, precision_score, recall_score, accuracy_score, roc_curve, confusion_matrix"
   ]
  },
  {
   "cell_type": "code",
   "execution_count": 53,
   "metadata": {},
   "outputs": [],
   "source": [
    "batch_size = 500000\n",
    "split = 0.7"
   ]
  },
  {
   "cell_type": "code",
   "execution_count": 74,
   "metadata": {},
   "outputs": [],
   "source": [
    "data = pd.read_csv('train_clean.csv')"
   ]
  },
  {
   "cell_type": "code",
   "execution_count": 75,
   "metadata": {
    "scrolled": true
   },
   "outputs": [],
   "source": [
    "data['batch'] = np.ceil((data['time'] * 10000) / batch_size)"
   ]
  },
  {
   "cell_type": "code",
   "execution_count": 85,
   "metadata": {},
   "outputs": [],
   "source": [
    "labels = np.array(data['open_channels'])\n",
    "\n",
    "# feature_cols = ['signal', 'time', 'batch']\n",
    "feature_cols = ['signal']\n",
    "features= data[feature_cols]\n",
    "\n",
    "feature_list = list(data.columns)\n",
    "features = np.array(features)"
   ]
  },
  {
   "cell_type": "code",
   "execution_count": 87,
   "metadata": {},
   "outputs": [],
   "source": [
    "train_features, test_features, train_labels, test_labels = \\\n",
    "train_test_split(features, labels, test_size = 0.25, random_state = 42)"
   ]
  },
  {
   "cell_type": "code",
   "execution_count": 88,
   "metadata": {},
   "outputs": [
    {
     "name": "stdout",
     "output_type": "stream",
     "text": [
      "Training Features Shape: (3750000, 1)\n",
      "Training Labels Shape: (3750000,)\n",
      "Testing Features Shape: (1250000, 1)\n",
      "Testing Labels Shape: (1250000,)\n"
     ]
    }
   ],
   "source": [
    "print('Training Features Shape:', train_features.shape)\n",
    "print('Training Labels Shape:', train_labels.shape)\n",
    "print('Testing Features Shape:', test_features.shape)\n",
    "print('Testing Labels Shape:', test_labels.shape)"
   ]
  },
  {
   "cell_type": "code",
   "execution_count": 89,
   "metadata": {},
   "outputs": [],
   "source": [
    "model = RandomForestClassifier(n_estimators=100, \n",
    "                               bootstrap = True,\n",
    "                               max_features = 'sqrt')"
   ]
  },
  {
   "cell_type": "code",
   "execution_count": 90,
   "metadata": {},
   "outputs": [],
   "source": [
    "model.fit(train_features, train_labels);"
   ]
  },
  {
   "cell_type": "code",
   "execution_count": 94,
   "metadata": {},
   "outputs": [],
   "source": [
    "# Predicting the Test set results\n",
    "predictions = model.predict(test_features)"
   ]
  },
  {
   "cell_type": "code",
   "execution_count": 95,
   "metadata": {},
   "outputs": [
    {
     "name": "stdout",
     "output_type": "stream",
     "text": [
      "Predicted      0       1       2       3      4      5      6      7      8   \\\n",
      "Actual                                                                         \n",
      "0          306843    2351     309     245      2      1      0      1      1   \n",
      "1            2743  239410    2957     852    704     14     21     13     10   \n",
      "2             476    3009  127211    3081   2539   2062     59     58     74   \n",
      "3             475    1644    3058  148158   1393   7761   4865     81     86   \n",
      "4               5    1490    5636    1769  71256    438  14200   6029      1   \n",
      "5               1      24    3850   16665    656  22748    627  20609   4099   \n",
      "6               2      18      60    7703  26366    450  10509   1999      1   \n",
      "7               2      15      46     114   7632  19469   1121  33877   3669   \n",
      "8               1      16      65      98      7   4417      0   2672  50426   \n",
      "9               0       1       1       2      0      0      0      2   3890   \n",
      "10              0       0       0       0      0      0      0      0      1   \n",
      "\n",
      "Predicted     9     10  \n",
      "Actual                  \n",
      "0              0     0  \n",
      "1              0     0  \n",
      "2              1     0  \n",
      "3              4     0  \n",
      "4              0     0  \n",
      "5              0     0  \n",
      "6              0     0  \n",
      "7              0     0  \n",
      "8           3743     1  \n",
      "9          28666  1399  \n",
      "10          1535  7329  \n"
     ]
    }
   ],
   "source": [
    "# Making the Confusion Matrix\n",
    "print(pd.crosstab(test_labels, predictions, rownames=['Actual'], colnames=['Predicted']))"
   ]
  },
  {
   "cell_type": "code",
   "execution_count": 96,
   "metadata": {},
   "outputs": [
    {
     "data": {
      "text/plain": [
       "0.8371464"
      ]
     },
     "execution_count": 96,
     "metadata": {},
     "output_type": "execute_result"
    }
   ],
   "source": [
    "accuracy_score(test_labels, predictions)"
   ]
  }
 ],
 "metadata": {
  "kernelspec": {
   "display_name": "Python 3",
   "language": "python",
   "name": "python3"
  },
  "language_info": {
   "codemirror_mode": {
    "name": "ipython",
    "version": 3
   },
   "file_extension": ".py",
   "mimetype": "text/x-python",
   "name": "python",
   "nbconvert_exporter": "python",
   "pygments_lexer": "ipython3",
   "version": "3.7.6"
  }
 },
 "nbformat": 4,
 "nbformat_minor": 4
}
