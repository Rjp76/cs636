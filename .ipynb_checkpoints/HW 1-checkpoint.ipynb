{
 "cells": [
  {
   "cell_type": "markdown",
   "metadata": {},
   "source": [
    "# 1.20\n",
    "The built-in data set islands contains the size of the world’s land masses that exceed 10,000 square miles. Use sort() with the argument decreasing=TRUE to find the seven largest land masses."
   ]
  },
  {
   "cell_type": "code",
   "execution_count": 2,
   "metadata": {
    "scrolled": true
   },
   "outputs": [
    {
     "data": {
      "text/html": [
       "<style>\n",
       ".dl-inline {width: auto; margin:0; padding: 0}\n",
       ".dl-inline>dt, .dl-inline>dd {float: none; width: auto; display: inline-block}\n",
       ".dl-inline>dt::after {content: \":\\0020\"; padding-right: .5ex}\n",
       ".dl-inline>dt:not(:first-of-type) {padding-left: .5ex}\n",
       "</style><dl class=dl-inline><dt>Asia</dt><dd>16988</dd><dt>Africa</dt><dd>11506</dd><dt>North America</dt><dd>9390</dd><dt>South America</dt><dd>6795</dd><dt>Antarctica</dt><dd>5500</dd><dt>Europe</dt><dd>3745</dd><dt>Australia</dt><dd>2968</dd></dl>\n"
      ],
      "text/latex": [
       "\\begin{description*}\n",
       "\\item[Asia] 16988\n",
       "\\item[Africa] 11506\n",
       "\\item[North America] 9390\n",
       "\\item[South America] 6795\n",
       "\\item[Antarctica] 5500\n",
       "\\item[Europe] 3745\n",
       "\\item[Australia] 2968\n",
       "\\end{description*}\n"
      ],
      "text/markdown": [
       "Asia\n",
       ":   16988Africa\n",
       ":   11506North America\n",
       ":   9390South America\n",
       ":   6795Antarctica\n",
       ":   5500Europe\n",
       ":   3745Australia\n",
       ":   2968\n",
       "\n"
      ],
      "text/plain": [
       "         Asia        Africa North America South America    Antarctica \n",
       "        16988         11506          9390          6795          5500 \n",
       "       Europe     Australia \n",
       "         3745          2968 "
      ]
     },
     "metadata": {},
     "output_type": "display_data"
    }
   ],
   "source": [
    "a <- sort(islands, decreasing = TRUE)[1:7]\n",
    "a"
   ]
  },
  {
   "cell_type": "markdown",
   "metadata": {},
   "source": [
    "# 1.21 \n",
    "Load the data set primes (UsingR).   "
   ]
  },
  {
   "cell_type": "code",
   "execution_count": 6,
   "metadata": {
    "scrolled": false
   },
   "outputs": [
    {
     "name": "stderr",
     "output_type": "stream",
     "text": [
      "Warning message:\n",
      "\"package 'UsingR' is in use and will not be installed\"\n"
     ]
    }
   ],
   "source": [
    "install.packages(\"UsingR\")"
   ]
  },
  {
   "cell_type": "markdown",
   "metadata": {},
   "source": [
    "This is the set of prime numbers in [1,2003]. How many are there?"
   ]
  },
  {
   "cell_type": "code",
   "execution_count": 8,
   "metadata": {},
   "outputs": [
    {
     "data": {
      "text/html": [
       "304"
      ],
      "text/latex": [
       "304"
      ],
      "text/markdown": [
       "304"
      ],
      "text/plain": [
       "[1] 304"
      ]
     },
     "metadata": {},
     "output_type": "display_data"
    }
   ],
   "source": [
    "library(UsingR)\n",
    "PrimeData <- primes\n",
    "length(PrimeData)"
   ]
  },
  {
   "cell_type": "markdown",
   "metadata": {},
   "source": [
    "How many in the range [1,100]?"
   ]
  },
  {
   "cell_type": "code",
   "execution_count": 9,
   "metadata": {},
   "outputs": [
    {
     "data": {
      "text/html": [
       "25"
      ],
      "text/latex": [
       "25"
      ],
      "text/markdown": [
       "25"
      ],
      "text/plain": [
       "[1] 25"
      ]
     },
     "metadata": {},
     "output_type": "display_data"
    }
   ],
   "source": [
    "length(PrimeData[PrimeData <= 100])"
   ]
  },
  {
   "cell_type": "markdown",
   "metadata": {},
   "source": [
    "[100,1000]?"
   ]
  },
  {
   "cell_type": "code",
   "execution_count": 10,
   "metadata": {},
   "outputs": [
    {
     "data": {
      "text/html": [
       "143"
      ],
      "text/latex": [
       "143"
      ],
      "text/markdown": [
       "143"
      ],
      "text/plain": [
       "[1] 143"
      ]
     },
     "metadata": {},
     "output_type": "display_data"
    }
   ],
   "source": [
    "length(PrimeData[PrimeData >= 100 & PrimeData <= 1000])"
   ]
  },
  {
   "cell_type": "markdown",
   "metadata": {},
   "source": [
    "# 1.22 \n",
    "Load the data set primes (UsingR). We wish to find all the twin primes. These are numbers p and p+2, where both are prime.\n",
    "1. Explain what primes[−1] returns."
   ]
  },
  {
   "cell_type": "code",
   "execution_count": 12,
   "metadata": {},
   "outputs": [
    {
     "data": {
      "text/html": [
       "<style>\n",
       ".list-inline {list-style: none; margin:0; padding: 0}\n",
       ".list-inline>li {display: inline-block}\n",
       ".list-inline>li:not(:last-child)::after {content: \"\\00b7\"; padding: 0 .5ex}\n",
       "</style>\n",
       "<ol class=list-inline><li>3</li><li>5</li><li>7</li><li>11</li><li>13</li><li>17</li></ol>\n"
      ],
      "text/latex": [
       "\\begin{enumerate*}\n",
       "\\item 3\n",
       "\\item 5\n",
       "\\item 7\n",
       "\\item 11\n",
       "\\item 13\n",
       "\\item 17\n",
       "\\end{enumerate*}\n"
      ],
      "text/markdown": [
       "1. 3\n",
       "2. 5\n",
       "3. 7\n",
       "4. 11\n",
       "5. 13\n",
       "6. 17\n",
       "\n",
       "\n"
      ],
      "text/plain": [
       "[1]  3  5  7 11 13 17"
      ]
     },
     "metadata": {},
     "output_type": "display_data"
    }
   ],
   "source": [
    "# PrimeData[-1] returns all the values of PrimeData without the first element. \n",
    "head(PrimeData[-1])"
   ]
  },
  {
   "cell_type": "markdown",
   "metadata": {},
   "source": [
    "2. If you set n=length (primes), explain what primes[−n] returns."
   ]
  },
  {
   "cell_type": "code",
   "execution_count": 21,
   "metadata": {},
   "outputs": [
    {
     "data": {
      "text/html": [
       "<style>\n",
       ".list-inline {list-style: none; margin:0; padding: 0}\n",
       ".list-inline>li {display: inline-block}\n",
       ".list-inline>li:not(:last-child)::after {content: \"\\00b7\"; padding: 0 .5ex}\n",
       "</style>\n",
       "<ol class=list-inline><li>2</li><li>3</li><li>5</li><li>7</li><li>11</li><li>13</li><li>17</li><li>19</li><li>23</li><li>29</li><li>31</li><li>37</li><li>41</li><li>43</li><li>47</li><li>53</li><li>59</li><li>61</li><li>67</li><li>71</li><li>73</li><li>79</li><li>83</li><li>89</li><li>97</li><li>101</li><li>103</li><li>107</li><li>109</li><li>113</li><li>127</li><li>131</li><li>137</li><li>139</li><li>149</li><li>151</li><li>157</li><li>163</li><li>167</li><li>173</li><li>179</li><li>181</li><li>191</li><li>193</li><li>197</li><li>199</li><li>211</li><li>223</li><li>227</li><li>229</li><li>233</li><li>239</li><li>241</li><li>251</li><li>257</li><li>263</li><li>269</li><li>271</li><li>277</li><li>281</li><li>283</li><li>293</li><li>307</li><li>311</li><li>313</li><li>317</li><li>331</li><li>337</li><li>347</li><li>349</li><li>353</li><li>359</li><li>367</li><li>373</li><li>379</li><li>383</li><li>389</li><li>397</li><li>401</li><li>409</li><li>419</li><li>421</li><li>431</li><li>433</li><li>439</li><li>443</li><li>449</li><li>457</li><li>461</li><li>463</li><li>467</li><li>479</li><li>487</li><li>491</li><li>499</li><li>503</li><li>509</li><li>521</li><li>523</li><li>541</li><li>547</li><li>557</li><li>563</li><li>569</li><li>571</li><li>577</li><li>587</li><li>593</li><li>599</li><li>601</li><li>607</li><li>613</li><li>617</li><li>619</li><li>631</li><li>641</li><li>643</li><li>647</li><li>653</li><li>659</li><li>661</li><li>673</li><li>677</li><li>683</li><li>691</li><li>701</li><li>709</li><li>719</li><li>727</li><li>733</li><li>739</li><li>743</li><li>751</li><li>757</li><li>761</li><li>769</li><li>773</li><li>787</li><li>797</li><li>809</li><li>811</li><li>821</li><li>823</li><li>827</li><li>829</li><li>839</li><li>853</li><li>857</li><li>859</li><li>863</li><li>877</li><li>881</li><li>883</li><li>887</li><li>907</li><li>911</li><li>919</li><li>929</li><li>937</li><li>941</li><li>947</li><li>953</li><li>967</li><li>971</li><li>977</li><li>983</li><li>991</li><li>997</li><li>1009</li><li>1013</li><li>1019</li><li>1021</li><li>1031</li><li>1033</li><li>1039</li><li>1049</li><li>1051</li><li>1061</li><li>1063</li><li>1069</li><li>1087</li><li>1091</li><li>1093</li><li>1097</li><li>1103</li><li>1109</li><li>1117</li><li>1123</li><li>1129</li><li>1151</li><li>1153</li><li>1163</li><li>1171</li><li>1181</li><li>1187</li><li>1193</li><li>1201</li><li>1213</li><li>1217</li><li>1223</li><li>1229</li><li>1231</li><li>1237</li><li>1249</li><li>1259</li><li>1277</li><li>1279</li><li>1283</li><li>1289</li><li>1291</li><li>1297</li><li>1301</li><li>1303</li><li>1307</li><li>1319</li><li>1321</li><li>1327</li><li>1361</li><li>1367</li><li>1373</li><li>1381</li><li>1399</li><li>1409</li><li>1423</li><li>1427</li><li>1429</li><li>1433</li><li>1439</li><li>1447</li><li>1451</li><li>1453</li><li>1459</li><li>1471</li><li>1481</li><li>1483</li><li>1487</li><li>1489</li><li>1493</li><li>1499</li><li>1511</li><li>1523</li><li>1531</li><li>1543</li><li>1549</li><li>1553</li><li>1559</li><li>1567</li><li>1571</li><li>1579</li><li>1583</li><li>1597</li><li>1601</li><li>1607</li><li>1609</li><li>1613</li><li>1619</li><li>1621</li><li>1627</li><li>1637</li><li>1657</li><li>1663</li><li>1667</li><li>1669</li><li>1693</li><li>1697</li><li>1699</li><li>1709</li><li>1721</li><li>1723</li><li>1733</li><li>1741</li><li>1747</li><li>1753</li><li>1759</li><li>1777</li><li>1783</li><li>1787</li><li>1789</li><li>1801</li><li>1811</li><li>1823</li><li>1831</li><li>1847</li><li>1861</li><li>1867</li><li>1871</li><li>1873</li><li>1877</li><li>1879</li><li>1889</li><li>1901</li><li>1907</li><li>1913</li><li>1931</li><li>1933</li><li>1949</li><li>1951</li><li>1973</li><li>1979</li><li>1987</li><li>1993</li><li>1997</li><li>1999</li></ol>\n"
      ],
      "text/latex": [
       "\\begin{enumerate*}\n",
       "\\item 2\n",
       "\\item 3\n",
       "\\item 5\n",
       "\\item 7\n",
       "\\item 11\n",
       "\\item 13\n",
       "\\item 17\n",
       "\\item 19\n",
       "\\item 23\n",
       "\\item 29\n",
       "\\item 31\n",
       "\\item 37\n",
       "\\item 41\n",
       "\\item 43\n",
       "\\item 47\n",
       "\\item 53\n",
       "\\item 59\n",
       "\\item 61\n",
       "\\item 67\n",
       "\\item 71\n",
       "\\item 73\n",
       "\\item 79\n",
       "\\item 83\n",
       "\\item 89\n",
       "\\item 97\n",
       "\\item 101\n",
       "\\item 103\n",
       "\\item 107\n",
       "\\item 109\n",
       "\\item 113\n",
       "\\item 127\n",
       "\\item 131\n",
       "\\item 137\n",
       "\\item 139\n",
       "\\item 149\n",
       "\\item 151\n",
       "\\item 157\n",
       "\\item 163\n",
       "\\item 167\n",
       "\\item 173\n",
       "\\item 179\n",
       "\\item 181\n",
       "\\item 191\n",
       "\\item 193\n",
       "\\item 197\n",
       "\\item 199\n",
       "\\item 211\n",
       "\\item 223\n",
       "\\item 227\n",
       "\\item 229\n",
       "\\item 233\n",
       "\\item 239\n",
       "\\item 241\n",
       "\\item 251\n",
       "\\item 257\n",
       "\\item 263\n",
       "\\item 269\n",
       "\\item 271\n",
       "\\item 277\n",
       "\\item 281\n",
       "\\item 283\n",
       "\\item 293\n",
       "\\item 307\n",
       "\\item 311\n",
       "\\item 313\n",
       "\\item 317\n",
       "\\item 331\n",
       "\\item 337\n",
       "\\item 347\n",
       "\\item 349\n",
       "\\item 353\n",
       "\\item 359\n",
       "\\item 367\n",
       "\\item 373\n",
       "\\item 379\n",
       "\\item 383\n",
       "\\item 389\n",
       "\\item 397\n",
       "\\item 401\n",
       "\\item 409\n",
       "\\item 419\n",
       "\\item 421\n",
       "\\item 431\n",
       "\\item 433\n",
       "\\item 439\n",
       "\\item 443\n",
       "\\item 449\n",
       "\\item 457\n",
       "\\item 461\n",
       "\\item 463\n",
       "\\item 467\n",
       "\\item 479\n",
       "\\item 487\n",
       "\\item 491\n",
       "\\item 499\n",
       "\\item 503\n",
       "\\item 509\n",
       "\\item 521\n",
       "\\item 523\n",
       "\\item 541\n",
       "\\item 547\n",
       "\\item 557\n",
       "\\item 563\n",
       "\\item 569\n",
       "\\item 571\n",
       "\\item 577\n",
       "\\item 587\n",
       "\\item 593\n",
       "\\item 599\n",
       "\\item 601\n",
       "\\item 607\n",
       "\\item 613\n",
       "\\item 617\n",
       "\\item 619\n",
       "\\item 631\n",
       "\\item 641\n",
       "\\item 643\n",
       "\\item 647\n",
       "\\item 653\n",
       "\\item 659\n",
       "\\item 661\n",
       "\\item 673\n",
       "\\item 677\n",
       "\\item 683\n",
       "\\item 691\n",
       "\\item 701\n",
       "\\item 709\n",
       "\\item 719\n",
       "\\item 727\n",
       "\\item 733\n",
       "\\item 739\n",
       "\\item 743\n",
       "\\item 751\n",
       "\\item 757\n",
       "\\item 761\n",
       "\\item 769\n",
       "\\item 773\n",
       "\\item 787\n",
       "\\item 797\n",
       "\\item 809\n",
       "\\item 811\n",
       "\\item 821\n",
       "\\item 823\n",
       "\\item 827\n",
       "\\item 829\n",
       "\\item 839\n",
       "\\item 853\n",
       "\\item 857\n",
       "\\item 859\n",
       "\\item 863\n",
       "\\item 877\n",
       "\\item 881\n",
       "\\item 883\n",
       "\\item 887\n",
       "\\item 907\n",
       "\\item 911\n",
       "\\item 919\n",
       "\\item 929\n",
       "\\item 937\n",
       "\\item 941\n",
       "\\item 947\n",
       "\\item 953\n",
       "\\item 967\n",
       "\\item 971\n",
       "\\item 977\n",
       "\\item 983\n",
       "\\item 991\n",
       "\\item 997\n",
       "\\item 1009\n",
       "\\item 1013\n",
       "\\item 1019\n",
       "\\item 1021\n",
       "\\item 1031\n",
       "\\item 1033\n",
       "\\item 1039\n",
       "\\item 1049\n",
       "\\item 1051\n",
       "\\item 1061\n",
       "\\item 1063\n",
       "\\item 1069\n",
       "\\item 1087\n",
       "\\item 1091\n",
       "\\item 1093\n",
       "\\item 1097\n",
       "\\item 1103\n",
       "\\item 1109\n",
       "\\item 1117\n",
       "\\item 1123\n",
       "\\item 1129\n",
       "\\item 1151\n",
       "\\item 1153\n",
       "\\item 1163\n",
       "\\item 1171\n",
       "\\item 1181\n",
       "\\item 1187\n",
       "\\item 1193\n",
       "\\item 1201\n",
       "\\item 1213\n",
       "\\item 1217\n",
       "\\item 1223\n",
       "\\item 1229\n",
       "\\item 1231\n",
       "\\item 1237\n",
       "\\item 1249\n",
       "\\item 1259\n",
       "\\item 1277\n",
       "\\item 1279\n",
       "\\item 1283\n",
       "\\item 1289\n",
       "\\item 1291\n",
       "\\item 1297\n",
       "\\item 1301\n",
       "\\item 1303\n",
       "\\item 1307\n",
       "\\item 1319\n",
       "\\item 1321\n",
       "\\item 1327\n",
       "\\item 1361\n",
       "\\item 1367\n",
       "\\item 1373\n",
       "\\item 1381\n",
       "\\item 1399\n",
       "\\item 1409\n",
       "\\item 1423\n",
       "\\item 1427\n",
       "\\item 1429\n",
       "\\item 1433\n",
       "\\item 1439\n",
       "\\item 1447\n",
       "\\item 1451\n",
       "\\item 1453\n",
       "\\item 1459\n",
       "\\item 1471\n",
       "\\item 1481\n",
       "\\item 1483\n",
       "\\item 1487\n",
       "\\item 1489\n",
       "\\item 1493\n",
       "\\item 1499\n",
       "\\item 1511\n",
       "\\item 1523\n",
       "\\item 1531\n",
       "\\item 1543\n",
       "\\item 1549\n",
       "\\item 1553\n",
       "\\item 1559\n",
       "\\item 1567\n",
       "\\item 1571\n",
       "\\item 1579\n",
       "\\item 1583\n",
       "\\item 1597\n",
       "\\item 1601\n",
       "\\item 1607\n",
       "\\item 1609\n",
       "\\item 1613\n",
       "\\item 1619\n",
       "\\item 1621\n",
       "\\item 1627\n",
       "\\item 1637\n",
       "\\item 1657\n",
       "\\item 1663\n",
       "\\item 1667\n",
       "\\item 1669\n",
       "\\item 1693\n",
       "\\item 1697\n",
       "\\item 1699\n",
       "\\item 1709\n",
       "\\item 1721\n",
       "\\item 1723\n",
       "\\item 1733\n",
       "\\item 1741\n",
       "\\item 1747\n",
       "\\item 1753\n",
       "\\item 1759\n",
       "\\item 1777\n",
       "\\item 1783\n",
       "\\item 1787\n",
       "\\item 1789\n",
       "\\item 1801\n",
       "\\item 1811\n",
       "\\item 1823\n",
       "\\item 1831\n",
       "\\item 1847\n",
       "\\item 1861\n",
       "\\item 1867\n",
       "\\item 1871\n",
       "\\item 1873\n",
       "\\item 1877\n",
       "\\item 1879\n",
       "\\item 1889\n",
       "\\item 1901\n",
       "\\item 1907\n",
       "\\item 1913\n",
       "\\item 1931\n",
       "\\item 1933\n",
       "\\item 1949\n",
       "\\item 1951\n",
       "\\item 1973\n",
       "\\item 1979\n",
       "\\item 1987\n",
       "\\item 1993\n",
       "\\item 1997\n",
       "\\item 1999\n",
       "\\end{enumerate*}\n"
      ],
      "text/markdown": [
       "1. 2\n",
       "2. 3\n",
       "3. 5\n",
       "4. 7\n",
       "5. 11\n",
       "6. 13\n",
       "7. 17\n",
       "8. 19\n",
       "9. 23\n",
       "10. 29\n",
       "11. 31\n",
       "12. 37\n",
       "13. 41\n",
       "14. 43\n",
       "15. 47\n",
       "16. 53\n",
       "17. 59\n",
       "18. 61\n",
       "19. 67\n",
       "20. 71\n",
       "21. 73\n",
       "22. 79\n",
       "23. 83\n",
       "24. 89\n",
       "25. 97\n",
       "26. 101\n",
       "27. 103\n",
       "28. 107\n",
       "29. 109\n",
       "30. 113\n",
       "31. 127\n",
       "32. 131\n",
       "33. 137\n",
       "34. 139\n",
       "35. 149\n",
       "36. 151\n",
       "37. 157\n",
       "38. 163\n",
       "39. 167\n",
       "40. 173\n",
       "41. 179\n",
       "42. 181\n",
       "43. 191\n",
       "44. 193\n",
       "45. 197\n",
       "46. 199\n",
       "47. 211\n",
       "48. 223\n",
       "49. 227\n",
       "50. 229\n",
       "51. 233\n",
       "52. 239\n",
       "53. 241\n",
       "54. 251\n",
       "55. 257\n",
       "56. 263\n",
       "57. 269\n",
       "58. 271\n",
       "59. 277\n",
       "60. 281\n",
       "61. 283\n",
       "62. 293\n",
       "63. 307\n",
       "64. 311\n",
       "65. 313\n",
       "66. 317\n",
       "67. 331\n",
       "68. 337\n",
       "69. 347\n",
       "70. 349\n",
       "71. 353\n",
       "72. 359\n",
       "73. 367\n",
       "74. 373\n",
       "75. 379\n",
       "76. 383\n",
       "77. 389\n",
       "78. 397\n",
       "79. 401\n",
       "80. 409\n",
       "81. 419\n",
       "82. 421\n",
       "83. 431\n",
       "84. 433\n",
       "85. 439\n",
       "86. 443\n",
       "87. 449\n",
       "88. 457\n",
       "89. 461\n",
       "90. 463\n",
       "91. 467\n",
       "92. 479\n",
       "93. 487\n",
       "94. 491\n",
       "95. 499\n",
       "96. 503\n",
       "97. 509\n",
       "98. 521\n",
       "99. 523\n",
       "100. 541\n",
       "101. 547\n",
       "102. 557\n",
       "103. 563\n",
       "104. 569\n",
       "105. 571\n",
       "106. 577\n",
       "107. 587\n",
       "108. 593\n",
       "109. 599\n",
       "110. 601\n",
       "111. 607\n",
       "112. 613\n",
       "113. 617\n",
       "114. 619\n",
       "115. 631\n",
       "116. 641\n",
       "117. 643\n",
       "118. 647\n",
       "119. 653\n",
       "120. 659\n",
       "121. 661\n",
       "122. 673\n",
       "123. 677\n",
       "124. 683\n",
       "125. 691\n",
       "126. 701\n",
       "127. 709\n",
       "128. 719\n",
       "129. 727\n",
       "130. 733\n",
       "131. 739\n",
       "132. 743\n",
       "133. 751\n",
       "134. 757\n",
       "135. 761\n",
       "136. 769\n",
       "137. 773\n",
       "138. 787\n",
       "139. 797\n",
       "140. 809\n",
       "141. 811\n",
       "142. 821\n",
       "143. 823\n",
       "144. 827\n",
       "145. 829\n",
       "146. 839\n",
       "147. 853\n",
       "148. 857\n",
       "149. 859\n",
       "150. 863\n",
       "151. 877\n",
       "152. 881\n",
       "153. 883\n",
       "154. 887\n",
       "155. 907\n",
       "156. 911\n",
       "157. 919\n",
       "158. 929\n",
       "159. 937\n",
       "160. 941\n",
       "161. 947\n",
       "162. 953\n",
       "163. 967\n",
       "164. 971\n",
       "165. 977\n",
       "166. 983\n",
       "167. 991\n",
       "168. 997\n",
       "169. 1009\n",
       "170. 1013\n",
       "171. 1019\n",
       "172. 1021\n",
       "173. 1031\n",
       "174. 1033\n",
       "175. 1039\n",
       "176. 1049\n",
       "177. 1051\n",
       "178. 1061\n",
       "179. 1063\n",
       "180. 1069\n",
       "181. 1087\n",
       "182. 1091\n",
       "183. 1093\n",
       "184. 1097\n",
       "185. 1103\n",
       "186. 1109\n",
       "187. 1117\n",
       "188. 1123\n",
       "189. 1129\n",
       "190. 1151\n",
       "191. 1153\n",
       "192. 1163\n",
       "193. 1171\n",
       "194. 1181\n",
       "195. 1187\n",
       "196. 1193\n",
       "197. 1201\n",
       "198. 1213\n",
       "199. 1217\n",
       "200. 1223\n",
       "201. 1229\n",
       "202. 1231\n",
       "203. 1237\n",
       "204. 1249\n",
       "205. 1259\n",
       "206. 1277\n",
       "207. 1279\n",
       "208. 1283\n",
       "209. 1289\n",
       "210. 1291\n",
       "211. 1297\n",
       "212. 1301\n",
       "213. 1303\n",
       "214. 1307\n",
       "215. 1319\n",
       "216. 1321\n",
       "217. 1327\n",
       "218. 1361\n",
       "219. 1367\n",
       "220. 1373\n",
       "221. 1381\n",
       "222. 1399\n",
       "223. 1409\n",
       "224. 1423\n",
       "225. 1427\n",
       "226. 1429\n",
       "227. 1433\n",
       "228. 1439\n",
       "229. 1447\n",
       "230. 1451\n",
       "231. 1453\n",
       "232. 1459\n",
       "233. 1471\n",
       "234. 1481\n",
       "235. 1483\n",
       "236. 1487\n",
       "237. 1489\n",
       "238. 1493\n",
       "239. 1499\n",
       "240. 1511\n",
       "241. 1523\n",
       "242. 1531\n",
       "243. 1543\n",
       "244. 1549\n",
       "245. 1553\n",
       "246. 1559\n",
       "247. 1567\n",
       "248. 1571\n",
       "249. 1579\n",
       "250. 1583\n",
       "251. 1597\n",
       "252. 1601\n",
       "253. 1607\n",
       "254. 1609\n",
       "255. 1613\n",
       "256. 1619\n",
       "257. 1621\n",
       "258. 1627\n",
       "259. 1637\n",
       "260. 1657\n",
       "261. 1663\n",
       "262. 1667\n",
       "263. 1669\n",
       "264. 1693\n",
       "265. 1697\n",
       "266. 1699\n",
       "267. 1709\n",
       "268. 1721\n",
       "269. 1723\n",
       "270. 1733\n",
       "271. 1741\n",
       "272. 1747\n",
       "273. 1753\n",
       "274. 1759\n",
       "275. 1777\n",
       "276. 1783\n",
       "277. 1787\n",
       "278. 1789\n",
       "279. 1801\n",
       "280. 1811\n",
       "281. 1823\n",
       "282. 1831\n",
       "283. 1847\n",
       "284. 1861\n",
       "285. 1867\n",
       "286. 1871\n",
       "287. 1873\n",
       "288. 1877\n",
       "289. 1879\n",
       "290. 1889\n",
       "291. 1901\n",
       "292. 1907\n",
       "293. 1913\n",
       "294. 1931\n",
       "295. 1933\n",
       "296. 1949\n",
       "297. 1951\n",
       "298. 1973\n",
       "299. 1979\n",
       "300. 1987\n",
       "301. 1993\n",
       "302. 1997\n",
       "303. 1999\n",
       "\n",
       "\n"
      ],
      "text/plain": [
       "  [1]    2    3    5    7   11   13   17   19   23   29   31   37   41   43   47\n",
       " [16]   53   59   61   67   71   73   79   83   89   97  101  103  107  109  113\n",
       " [31]  127  131  137  139  149  151  157  163  167  173  179  181  191  193  197\n",
       " [46]  199  211  223  227  229  233  239  241  251  257  263  269  271  277  281\n",
       " [61]  283  293  307  311  313  317  331  337  347  349  353  359  367  373  379\n",
       " [76]  383  389  397  401  409  419  421  431  433  439  443  449  457  461  463\n",
       " [91]  467  479  487  491  499  503  509  521  523  541  547  557  563  569  571\n",
       "[106]  577  587  593  599  601  607  613  617  619  631  641  643  647  653  659\n",
       "[121]  661  673  677  683  691  701  709  719  727  733  739  743  751  757  761\n",
       "[136]  769  773  787  797  809  811  821  823  827  829  839  853  857  859  863\n",
       "[151]  877  881  883  887  907  911  919  929  937  941  947  953  967  971  977\n",
       "[166]  983  991  997 1009 1013 1019 1021 1031 1033 1039 1049 1051 1061 1063 1069\n",
       "[181] 1087 1091 1093 1097 1103 1109 1117 1123 1129 1151 1153 1163 1171 1181 1187\n",
       "[196] 1193 1201 1213 1217 1223 1229 1231 1237 1249 1259 1277 1279 1283 1289 1291\n",
       "[211] 1297 1301 1303 1307 1319 1321 1327 1361 1367 1373 1381 1399 1409 1423 1427\n",
       "[226] 1429 1433 1439 1447 1451 1453 1459 1471 1481 1483 1487 1489 1493 1499 1511\n",
       "[241] 1523 1531 1543 1549 1553 1559 1567 1571 1579 1583 1597 1601 1607 1609 1613\n",
       "[256] 1619 1621 1627 1637 1657 1663 1667 1669 1693 1697 1699 1709 1721 1723 1733\n",
       "[271] 1741 1747 1753 1759 1777 1783 1787 1789 1801 1811 1823 1831 1847 1861 1867\n",
       "[286] 1871 1873 1877 1879 1889 1901 1907 1913 1931 1933 1949 1951 1973 1979 1987\n",
       "[301] 1993 1997 1999"
      ]
     },
     "metadata": {},
     "output_type": "display_data"
    }
   ],
   "source": [
    "# The PrimeData[-n] returns all the values of PrimeData without the last element. \n",
    "\n",
    "n <- length(primes)\n",
    "primes[-n]"
   ]
  },
  {
   "cell_type": "markdown",
   "metadata": {},
   "source": [
    "3. Why might primes [−1]—primes [−n] give clues as to what the twin primes are?"
   ]
  },
  {
   "cell_type": "code",
   "execution_count": 35,
   "metadata": {},
   "outputs": [
    {
     "name": "stdout",
     "output_type": "stream",
     "text": [
      "  [1]  1  2  2  4  2  4  2  4  6  2  6  4  2  4  6  6  2  6  4  2  6  4  6  8  4\n",
      " [26]  2  4  2  4 14  4  6  2 10  2  6  6  4  6  6  2 10  2  4  2 12 12  4  2  4\n",
      " [51]  6  2 10  6  6  6  2  6  4  2 10 14  4  2  4 14  6 10  2  4  6  8  6  6  4\n",
      " [76]  6  8  4  8 10  2 10  2  6  4  6  8  4  2  4 12  8  4  8  4  6 12  2 18  6\n",
      "[101] 10  6  6  2  6 10  6  6  2  6  6  4  2 12 10  2  4  6  6  2 12  4  6  8 10\n",
      "[126]  8 10  8  6  6  4  8  6  4  8  4 14 10 12  2 10  2  4  2 10 14  4  2  4 14\n",
      "[151]  4  2  4 20  4  8 10  8  4  6  6 14  4  6  6  8  6 12  4  6  2 10  2  6 10\n",
      "[176]  2 10  2  6 18  4  2  4  6  6  8  6  6 22  2 10  8 10  6  6  8 12  4  6  6\n",
      "[201]  2  6 12 10 18  2  4  6  2  6  4  2  4 12  2  6 34  6  6  8 18 10 14  4  2\n",
      "[226]  4  6  8  4  2  6 12 10  2  4  2  4  6 12 12  8 12  6  4  6  8  4  8  4 14\n",
      "[251]  4  6  2  4  6  2  6 10 20  6  4  2 24  4  2 10 12  2 10  8  6  6  6 18  6\n",
      "[276]  4  2 12 10 12  8 16 14  6  4  2  4  2 10 12  6  6 18  2 16  2 22  6  8  6\n",
      "[301]  4  2  4\n"
     ]
    }
   ],
   "source": [
    "# The result is the subtraction of the two datasets and results in the distance between respective primes elements.\n",
    "# Since the distances can sometimes be equal, the resuslt of two differences can be the same resulting in twin primes where\n",
    "# differences equals 2.\n",
    "\n",
    "print(primes[-1] - primes[−n])"
   ]
  },
  {
   "cell_type": "markdown",
   "metadata": {},
   "source": [
    "How many twin primes are there in the data set?"
   ]
  },
  {
   "cell_type": "code",
   "execution_count": 36,
   "metadata": {},
   "outputs": [
    {
     "name": "stdout",
     "output_type": "stream",
     "text": [
      "[1] 61\n"
     ]
    }
   ],
   "source": [
    "# Finding the count of twin primes by summing the count of 2's in the resulting subtraction of primes\n",
    "print(sum(primes[-1] - primes[−n]==2))"
   ]
  },
  {
   "cell_type": "markdown",
   "metadata": {},
   "source": [
    "# 1.23 \n",
    "For the data set treering, which contains tree-ring widths in dimension-less units, use an R function to answer the following:\n",
    "1. How many observations are there?"
   ]
  },
  {
   "cell_type": "code",
   "execution_count": 38,
   "metadata": {},
   "outputs": [
    {
     "data": {
      "text/html": [
       "7980"
      ],
      "text/latex": [
       "7980"
      ],
      "text/markdown": [
       "7980"
      ],
      "text/plain": [
       "[1] 7980"
      ]
     },
     "metadata": {},
     "output_type": "display_data"
    }
   ],
   "source": [
    "data <- treering\n",
    "length(data)"
   ]
  },
  {
   "cell_type": "markdown",
   "metadata": {},
   "source": [
    "2. Find the smallest observation."
   ]
  },
  {
   "cell_type": "code",
   "execution_count": 40,
   "metadata": {},
   "outputs": [
    {
     "data": {
      "text/html": [
       "0"
      ],
      "text/latex": [
       "0"
      ],
      "text/markdown": [
       "0"
      ],
      "text/plain": [
       "[1] 0"
      ]
     },
     "metadata": {},
     "output_type": "display_data"
    }
   ],
   "source": [
    "min(data)"
   ]
  },
  {
   "cell_type": "markdown",
   "metadata": {},
   "source": [
    "3. Find the largest observation."
   ]
  },
  {
   "cell_type": "code",
   "execution_count": 43,
   "metadata": {},
   "outputs": [
    {
     "data": {
      "text/html": [
       "1.908"
      ],
      "text/latex": [
       "1.908"
      ],
      "text/markdown": [
       "1.908"
      ],
      "text/plain": [
       "[1] 1.908"
      ]
     },
     "metadata": {},
     "output_type": "display_data"
    }
   ],
   "source": [
    "max(data)"
   ]
  },
  {
   "cell_type": "markdown",
   "metadata": {},
   "source": [
    "4. How many are bigger than 1.5?"
   ]
  },
  {
   "cell_type": "code",
   "execution_count": 46,
   "metadata": {},
   "outputs": [
    {
     "data": {
      "text/html": [
       "219"
      ],
      "text/latex": [
       "219"
      ],
      "text/markdown": [
       "219"
      ],
      "text/plain": [
       "[1] 219"
      ]
     },
     "metadata": {},
     "output_type": "display_data"
    }
   ],
   "source": [
    "length(data[data > 1.5])"
   ]
  },
  {
   "cell_type": "markdown",
   "metadata": {},
   "source": [
    "# 1.24 \n",
    "The data set mandms (UsingR) contains the targeted color distribution in a bag of M&Ms as percentages for varies types of packaging. Answer these questions.\n",
    "1. Which packaging is missing one of the six colors?"
   ]
  },
  {
   "cell_type": "code",
   "execution_count": 92,
   "metadata": {},
   "outputs": [
    {
     "name": "stdout",
     "output_type": "stream",
     "text": [
      "                  blue   brown   green  orange     red  yellow\n",
      "milk chocolate 10.0000 30.0000 10.0000 10.0000 20.0000 20.0000\n",
      "Peanut         20.0000 20.0000 10.0000 10.0000 20.0000 20.0000\n",
      "Peanut Butter  20.0000 20.0000 20.0000  0.0000 20.0000 20.0000\n",
      "Almond         16.6667 16.6667 16.6667 16.6667 16.6667 16.6667\n",
      "kid minis      16.6667 16.6667 16.6667 16.6667 16.6667 16.6667\n"
     ]
    },
    {
     "data": {
      "text/html": [
       "'Peanut Butter'"
      ],
      "text/latex": [
       "'Peanut Butter'"
      ],
      "text/markdown": [
       "'Peanut Butter'"
      ],
      "text/plain": [
       "[1] \"Peanut Butter\""
      ]
     },
     "metadata": {},
     "output_type": "display_data"
    }
   ],
   "source": [
    "data <- mandms\n",
    "print(data)\n",
    "x  <- names(which(rowSums(data==0)==1))\n",
    "x"
   ]
  },
  {
   "cell_type": "markdown",
   "metadata": {},
   "source": [
    "2. Which types of packaging have an equal distribution of colors?"
   ]
  },
  {
   "cell_type": "code",
   "execution_count": 102,
   "metadata": {},
   "outputs": [
    {
     "name": "stdout",
     "output_type": "stream",
     "text": [
      "                    blue     brown     green     orange      red   yellow\n",
      "milk chocolate -6.666667 13.333333 -6.666667  -6.666667 3.333333 3.333333\n",
      "Peanut          3.333333  3.333333 -6.666667  -6.666667 3.333333 3.333333\n",
      "Peanut Butter   3.333333  3.333333  3.333333 -16.666667 3.333333 3.333333\n",
      "Almond          0.000000  0.000000  0.000000   0.000000 0.000000 0.000000\n",
      "kid minis       0.000000  0.000000  0.000000   0.000000 0.000000 0.000000\n"
     ]
    },
    {
     "data": {
      "text/html": [
       "<style>\n",
       ".list-inline {list-style: none; margin:0; padding: 0}\n",
       ".list-inline>li {display: inline-block}\n",
       ".list-inline>li:not(:last-child)::after {content: \"\\00b7\"; padding: 0 .5ex}\n",
       "</style>\n",
       "<ol class=list-inline><li>'Almond'</li><li>'kid minis'</li></ol>\n"
      ],
      "text/latex": [
       "\\begin{enumerate*}\n",
       "\\item 'Almond'\n",
       "\\item 'kid minis'\n",
       "\\end{enumerate*}\n"
      ],
      "text/markdown": [
       "1. 'Almond'\n",
       "2. 'kid minis'\n",
       "\n",
       "\n"
      ],
      "text/plain": [
       "[1] \"Almond\"    \"kid minis\""
      ]
     },
     "metadata": {},
     "output_type": "display_data"
    }
   ],
   "source": [
    "mean <- apply(data,1,mean)\n",
    "print(data - mean)\n",
    "names(which(rowSums(data - mean)==0))"
   ]
  },
  {
   "cell_type": "markdown",
   "metadata": {},
   "source": [
    "3. Which packaging has a single color that is more likely than all the others? "
   ]
  },
  {
   "cell_type": "code",
   "execution_count": 112,
   "metadata": {},
   "outputs": [
    {
     "data": {
      "text/html": [
       "'milk chocolate'"
      ],
      "text/latex": [
       "'milk chocolate'"
      ],
      "text/markdown": [
       "'milk chocolate'"
      ],
      "text/plain": [
       "[1] \"milk chocolate\""
      ]
     },
     "metadata": {},
     "output_type": "display_data"
    }
   ],
   "source": [
    "maxColor <- max(data)\n",
    "names(which(rowSums(data == maxColor)==1))"
   ]
  },
  {
   "cell_type": "markdown",
   "metadata": {},
   "source": [
    "What color is this?"
   ]
  },
  {
   "cell_type": "code",
   "execution_count": 113,
   "metadata": {},
   "outputs": [
    {
     "data": {
      "text/html": [
       "'brown'"
      ],
      "text/latex": [
       "'brown'"
      ],
      "text/markdown": [
       "'brown'"
      ],
      "text/plain": [
       "[1] \"brown\""
      ]
     },
     "metadata": {},
     "output_type": "display_data"
    }
   ],
   "source": [
    "names(which(colSums(data == maxColor)==1))"
   ]
  },
  {
   "cell_type": "markdown",
   "metadata": {},
   "source": [
    "# 1.25 \n",
    "The t imes variable in the data set nym. 2002 (UsingR) contains the time to finish for several participants in the 2002 New York City Marathon. Answer these questions.\n",
    "1. How many times are stored in the data set?"
   ]
  },
  {
   "cell_type": "code",
   "execution_count": 123,
   "metadata": {},
   "outputs": [
    {
     "data": {
      "text/html": [
       "1000"
      ],
      "text/latex": [
       "1000"
      ],
      "text/markdown": [
       "1000"
      ],
      "text/plain": [
       "[1] 1000"
      ]
     },
     "metadata": {},
     "output_type": "display_data"
    }
   ],
   "source": [
    "data <- nym.2002\n",
    "times <- data$time\n",
    "length(times)"
   ]
  },
  {
   "cell_type": "markdown",
   "metadata": {},
   "source": [
    "2. What was the fastest time in minutes? Convert this into hours and minutes using R."
   ]
  },
  {
   "cell_type": "code",
   "execution_count": 172,
   "metadata": {},
   "outputs": [],
   "source": [
    "convert_sec_to_time <- function(time) {\n",
    "    whole = floor(time)\n",
    "    fraction = round((time - whole) * 60)\n",
    "    sprintf(\"%1$d:%2$d\", whole, fraction)\n",
    "}"
   ]
  },
  {
   "cell_type": "code",
   "execution_count": 179,
   "metadata": {},
   "outputs": [
    {
     "data": {
      "text/html": [
       "147.333333333333"
      ],
      "text/latex": [
       "147.333333333333"
      ],
      "text/markdown": [
       "147.333333333333"
      ],
      "text/plain": [
       "[1] 147.3333"
      ]
     },
     "metadata": {},
     "output_type": "display_data"
    }
   ],
   "source": [
    "fastTime <- min(times)\n",
    "fastTime"
   ]
  },
  {
   "cell_type": "code",
   "execution_count": 180,
   "metadata": {},
   "outputs": [
    {
     "data": {
      "text/html": [
       "'2:27'"
      ],
      "text/latex": [
       "'2:27'"
      ],
      "text/markdown": [
       "'2:27'"
      ],
      "text/plain": [
       "[1] \"2:27\""
      ]
     },
     "metadata": {},
     "output_type": "display_data"
    }
   ],
   "source": [
    "minFastTime <- fastTime / 60\n",
    "convert_sec_to_time(minFastTime)"
   ]
  },
  {
   "cell_type": "markdown",
   "metadata": {},
   "source": [
    "3. What was the slowest time in minutes? Convert this into hours and minutes using R."
   ]
  },
  {
   "cell_type": "code",
   "execution_count": 181,
   "metadata": {},
   "outputs": [
    {
     "data": {
      "text/html": [
       "566.783333333333"
      ],
      "text/latex": [
       "566.783333333333"
      ],
      "text/markdown": [
       "566.783333333333"
      ],
      "text/plain": [
       "[1] 566.7833"
      ]
     },
     "metadata": {},
     "output_type": "display_data"
    }
   ],
   "source": [
    "slowTime <- max(times)\n",
    "slowTime"
   ]
  },
  {
   "cell_type": "code",
   "execution_count": 183,
   "metadata": {},
   "outputs": [
    {
     "data": {
      "text/html": [
       "'9:27'"
      ],
      "text/latex": [
       "'9:27'"
      ],
      "text/markdown": [
       "'9:27'"
      ],
      "text/plain": [
       "[1] \"9:27\""
      ]
     },
     "metadata": {},
     "output_type": "display_data"
    }
   ],
   "source": [
    "minSlowTime <- slowTime / 60\n",
    "convert_sec_to_time(minSlowTime)"
   ]
  },
  {
   "cell_type": "markdown",
   "metadata": {},
   "source": [
    "# 1.26 \n",
    "For the data set rivers, which is the longest river? "
   ]
  },
  {
   "cell_type": "code",
   "execution_count": 185,
   "metadata": {},
   "outputs": [
    {
     "data": {
      "text/html": [
       "3710"
      ],
      "text/latex": [
       "3710"
      ],
      "text/markdown": [
       "3710"
      ],
      "text/plain": [
       "[1] 3710"
      ]
     },
     "metadata": {},
     "output_type": "display_data"
    }
   ],
   "source": [
    "data <- rivers\n",
    "max(data)"
   ]
  },
  {
   "cell_type": "markdown",
   "metadata": {},
   "source": [
    "The shortest?"
   ]
  },
  {
   "cell_type": "code",
   "execution_count": 187,
   "metadata": {},
   "outputs": [
    {
     "data": {
      "text/html": [
       "135"
      ],
      "text/latex": [
       "135"
      ],
      "text/markdown": [
       "135"
      ],
      "text/plain": [
       "[1] 135"
      ]
     },
     "metadata": {},
     "output_type": "display_data"
    }
   ],
   "source": [
    "min(data)"
   ]
  },
  {
   "cell_type": "markdown",
   "metadata": {},
   "source": [
    "# 1.27 \n",
    "The data set uspop contains decade-by-decade population figures for the United States from 1790 to 1970.\n",
    "1. Use names() and seq() to add the year names to the data vector."
   ]
  },
  {
   "cell_type": "code",
   "execution_count": 192,
   "metadata": {},
   "outputs": [
    {
     "name": "stdout",
     "output_type": "stream",
     "text": [
      "Time Series:\n",
      "Start = 1790 \n",
      "End = 1970 \n",
      "Frequency = 0.1 \n",
      "  1790   1800   1810   1820   1830   1840   1850   1860   1870   1880   1890 \n",
      "  3.93   5.31   7.24   9.64  12.90  17.10  23.20  31.40  39.80  50.20  62.90 \n",
      "  1900   1910   1920   1930   1940   1950   1960   1970 \n",
      " 76.00  92.00 105.70 122.80 131.70 151.30 179.30 203.20 \n"
     ]
    }
   ],
   "source": [
    "data <- uspop\n",
    "names(data) <- seq(1790,1970,10)\n",
    "print(data)"
   ]
  },
  {
   "cell_type": "markdown",
   "metadata": {},
   "source": [
    "2. Use diff() to find the inter-decade differences."
   ]
  },
  {
   "cell_type": "code",
   "execution_count": 212,
   "metadata": {},
   "outputs": [
    {
     "name": "stdout",
     "output_type": "stream",
     "text": [
      "Time Series:\n",
      "Start = 1800 \n",
      "End = 1970 \n",
      "Frequency = 0.1 \n",
      " [1]  1.38  1.93  2.40  3.26  4.20  6.10  8.20  8.40 10.40 12.70 13.10 16.00\n",
      "[13] 13.70 17.10  8.90 19.60 28.00 23.90\n"
     ]
    }
   ],
   "source": [
    "intDec <- diff(data)\n",
    "print(intDec)"
   ]
  },
  {
   "cell_type": "markdown",
   "metadata": {},
   "source": [
    " Which decade had the greatest increase?"
   ]
  },
  {
   "cell_type": "code",
   "execution_count": 228,
   "metadata": {},
   "outputs": [
    {
     "data": {
      "text/html": [
       "<strong>1950:</strong> 151.3"
      ],
      "text/latex": [
       "\\textbf{1950:} 151.3"
      ],
      "text/markdown": [
       "**1950:** 151.3"
      ],
      "text/plain": [
       " 1950 \n",
       "151.3 "
      ]
     },
     "metadata": {},
     "output_type": "display_data"
    },
    {
     "data": {
      "text/html": [
       "<strong>1940:</strong> 131.7"
      ],
      "text/latex": [
       "\\textbf{1940:} 131.7"
      ],
      "text/markdown": [
       "**1940:** 131.7"
      ],
      "text/plain": [
       " 1940 \n",
       "131.7 "
      ]
     },
     "metadata": {},
     "output_type": "display_data"
    }
   ],
   "source": [
    "x <- data[(which.max(intDec))]\n",
    "y <- data[which.max(diff(intDec))+1]\n",
    "x\n",
    "y"
   ]
  },
  {
   "cell_type": "markdown",
   "metadata": {},
   "source": [
    "3. Explain why you could reasonably expect that the difference will always increase with each decade. Is this the case with the data?"
   ]
  },
  {
   "cell_type": "markdown",
   "metadata": {},
   "source": [
    "It can be expected that the difference will always be increasing, as shown in the data from 1790 to 1970 because of increaing global econamy, and technological advancements aimed at prolonging the global population over time."
   ]
  }
 ],
 "metadata": {
  "kernelspec": {
   "display_name": "R",
   "language": "R",
   "name": "ir"
  },
  "language_info": {
   "codemirror_mode": "r",
   "file_extension": ".r",
   "mimetype": "text/x-r-source",
   "name": "R",
   "pygments_lexer": "r",
   "version": "3.6.0"
  }
 },
 "nbformat": 4,
 "nbformat_minor": 2
}
