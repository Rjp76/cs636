{
 "cells": [
  {
   "cell_type": "markdown",
   "metadata": {},
   "source": [
    "# 1"
   ]
  },
  {
   "cell_type": "code",
   "execution_count": 2,
   "metadata": {},
   "outputs": [
    {
     "data": {
      "text/html": [
       "24001001029"
      ],
      "text/latex": [
       "24001001029"
      ],
      "text/markdown": [
       "24001001029"
      ],
      "text/plain": [
       "[1] 2.4001e+10"
      ]
     },
     "metadata": {},
     "output_type": "display_data"
    }
   ],
   "source": [
    "100^3 + 200^4 * (2+13) + 5+ 2^10"
   ]
  },
  {
   "cell_type": "code",
   "execution_count": 4,
   "metadata": {},
   "outputs": [
    {
     "data": {
      "text/html": [
       "1.09562043917079"
      ],
      "text/latex": [
       "1.09562043917079"
      ],
      "text/markdown": [
       "1.09562043917079"
      ],
      "text/plain": [
       "[1] 1.09562"
      ]
     },
     "metadata": {},
     "output_type": "display_data"
    }
   ],
   "source": [
    "(1+ ((2+3)/(2*3))^3)^(1/5)"
   ]
  },
  {
   "cell_type": "code",
   "execution_count": 8,
   "metadata": {},
   "outputs": [
    {
     "data": {
      "text/html": [
       "0.951958048966519"
      ],
      "text/latex": [
       "0.951958048966519"
      ],
      "text/markdown": [
       "0.951958048966519"
      ],
      "text/plain": [
       "[1] 0.951958"
      ]
     },
     "metadata": {},
     "output_type": "display_data"
    }
   ],
   "source": [
    "exp(1)^(log(log(2)))^3"
   ]
  },
  {
   "cell_type": "markdown",
   "metadata": {},
   "source": [
    "# 2"
   ]
  },
  {
   "cell_type": "code",
   "execution_count": 102,
   "metadata": {},
   "outputs": [
    {
     "name": "stdout",
     "output_type": "stream",
     "text": [
      "  [1] \"a\" \"a\" \"a\" \"a\" \"a\" \"a\" \"a\" \"a\" \"a\" \"a\" \"a\" \"a\" \"a\" \"a\" \"a\" \"a\" \"a\" \"a\"\n",
      " [19] \"a\" \"a\" \"a\" \"a\" \"a\" \"a\" \"a\" \"a\" \"a\" \"a\" \"a\" \"a\" \"a\" \"a\" \"a\" \"a\" \"a\" \"a\"\n",
      " [37] \"a\" \"a\" \"a\" \"a\" \"a\" \"a\" \"a\" \"a\" \"a\" \"a\" \"a\" \"a\" \"a\" \"a\" \"b\" \"b\" \"b\" \"b\"\n",
      " [55] \"b\" \"b\" \"b\" \"b\" \"b\" \"b\" \"b\" \"b\" \"b\" \"b\" \"b\" \"b\" \"b\" \"b\" \"b\" \"b\" \"b\" \"b\"\n",
      " [73] \"b\" \"b\" \"b\" \"b\" \"b\" \"b\" \"b\" \"b\" \"b\" \"b\" \"b\" \"b\" \"b\" \"b\" \"b\" \"b\" \"b\" \"b\"\n",
      " [91] \"b\" \"b\" \"b\" \"b\" \"b\" \"b\" \"b\" \"b\" \"b\" \"b\" \"b\" \"b\" \"b\" \"b\" \"b\" \"b\" \"b\" \"b\"\n",
      "[109] \"b\" \"b\" \"b\" \"b\" \"b\" \"b\" \"b\" \"b\" \"b\" \"b\" \"b\" \"b\" \"b\" \"b\" \"b\" \"b\" \"b\" \"b\"\n",
      "[127] \"b\" \"b\" \"b\" \"b\" \"b\" \"b\" \"b\" \"b\" \"b\" \"b\" \"b\" \"b\" \"b\" \"b\" \"b\" \"b\" \"b\" \"b\"\n",
      "[145] \"b\" \"b\" \"b\" \"b\" \"b\" \"b\"\n"
     ]
    }
   ],
   "source": [
    "print(c(rep(c('a','b'),c(50,100))))"
   ]
  },
  {
   "cell_type": "code",
   "execution_count": 103,
   "metadata": {},
   "outputs": [
    {
     "name": "stdout",
     "output_type": "stream",
     "text": [
      "  [1]    2    4    6    8   10   12   14   16   18   20   22   24   26   28   30\n",
      " [16]   32   34   36   38   40   42   44   46   48   50   52   54   56   58   60\n",
      " [31]   62   64   66   68   70   72   74   76   78   80   82   84   86   88   90\n",
      " [46]   92   94   96   98  100  102  104  106  108  110  112  114  116  118  120\n",
      " [61]  122  124  126  128  130  132  134  136  138  140  142  144  146  148  150\n",
      " [76]  152  154  156  158  160  162  164  166  168  170  172  174  176  178  180\n",
      " [91]  182  184  186  188  190  192  194  196  198  200  202  204  206  208  210\n",
      "[106]  212  214  216  218  220  222  224  226  228  230  232  234  236  238  240\n",
      "[121]  242  244  246  248  250  252  254  256  258  260  262  264  266  268  270\n",
      "[136]  272  274  276  278  280  282  284  286  288  290  292  294  296  298  300\n",
      "[151]  302  304  306  308  310  312  314  316  318  320  322  324  326  328  330\n",
      "[166]  332  334  336  338  340  342  344  346  348  350  352  354  356  358  360\n",
      "[181]  362  364  366  368  370  372  374  376  378  380  382  384  386  388  390\n",
      "[196]  392  394  396  398  400  402  404  406  408  410  412  414  416  418  420\n",
      "[211]  422  424  426  428  430  432  434  436  438  440  442  444  446  448  450\n",
      "[226]  452  454  456  458  460  462  464  466  468  470  472  474  476  478  480\n",
      "[241]  482  484  486  488  490  492  494  496  498  500  502  504  506  508  510\n",
      "[256]  512  514  516  518  520  522  524  526  528  530  532  534  536  538  540\n",
      "[271]  542  544  546  548  550  552  554  556  558  560  562  564  566  568  570\n",
      "[286]  572  574  576  578  580  582  584  586  588  590  592  594  596  598  600\n",
      "[301]  602  604  606  608  610  612  614  616  618  620  622  624  626  628  630\n",
      "[316]  632  634  636  638  640  642  644  646  648  650  652  654  656  658  660\n",
      "[331]  662  664  666  668  670  672  674  676  678  680  682  684  686  688  690\n",
      "[346]  692  694  696  698  700  702  704  706  708  710  712  714  716  718  720\n",
      "[361]  722  724  726  728  730  732  734  736  738  740  742  744  746  748  750\n",
      "[376]  752  754  756  758  760  762  764  766  768  770  772  774  776  778  780\n",
      "[391]  782  784  786  788  790  792  794  796  798  800  802  804  806  808  810\n",
      "[406]  812  814  816  818  820  822  824  826  828  830  832  834  836  838  840\n",
      "[421]  842  844  846  848  850  852  854  856  858  860  862  864  866  868  870\n",
      "[436]  872  874  876  878  880  882  884  886  888  890  892  894  896  898  900\n",
      "[451]  902  904  906  908  910  912  914  916  918  920  922  924  926  928  930\n",
      "[466]  932  934  936  938  940  942  944  946  948  950  952  954  956  958  960\n",
      "[481]  962  964  966  968  970  972  974  976  978  980  982  984  986  988  990\n",
      "[496]  992  994  996  998 1000\n"
     ]
    }
   ],
   "source": [
    "print(seq(2,1000,2))"
   ]
  },
  {
   "cell_type": "code",
   "execution_count": 104,
   "metadata": {},
   "outputs": [
    {
     "name": "stdout",
     "output_type": "stream",
     "text": [
      "  [1] 100 100  99  99  98  98  97  97  96  96  95  95  94  94  93  93  92  92\n",
      " [19]  91  91  90  90  89  89  88  88  87  87  86  86  85  85  84  84  83  83\n",
      " [37]  82  82  81  81  80  80  79  79  78  78  77  77  76  76  75  75  74  74\n",
      " [55]  73  73  72  72  71  71  70  70  69  69  68  68  67  67  66  66  65  65\n",
      " [73]  64  64  63  63  62  62  61  61  60  60  59  59  58  58  57  57  56  56\n",
      " [91]  55  55  54  54  53  53  52  52  51  51  50  50  49  49  48  48  47  47\n",
      "[109]  46  46  45  45  44  44  43  43  42  42  41  41  40  40  39  39  38  38\n",
      "[127]  37  37  36  36  35  35  34  34  33  33  32  32  31  31  30  30  29  29\n",
      "[145]  28  28  27  27  26  26  25  25  24  24  23  23  22  22  21  21  20  20\n",
      "[163]  19  19  18  18  17  17  16  16  15  15  14  14  13  13  12  12  11  11\n",
      "[181]  10  10   9   9   8   8   7   7   6   6   5   5   4   4   3   3   2   2\n",
      "[199]   1   1\n"
     ]
    }
   ],
   "source": [
    "print(rep(100:1, each=2))"
   ]
  },
  {
   "cell_type": "code",
   "execution_count": 105,
   "metadata": {},
   "outputs": [
    {
     "name": "stdout",
     "output_type": "stream",
     "text": [
      "  [1] 100  99  98  97  96  95  94  93  92  91  90  89  88  87  86  85  84  83\n",
      " [19]  82  81  80  79  78  77  76  75  74  73  72  71  70  69  68  67  66  65\n",
      " [37]  64  63  62  61  60  59  58  57  56  55  54  53  52  51  50  49  48  47\n",
      " [55]  46  45  44  43  42  41  40  39  38  37  36  35  34  33  32  31  30  29\n",
      " [73]  28  27  26  25  24  23  22  21  20  19  18  17  16  15  14  13  12  11\n",
      " [91]  10   9   8   7   6   5   4   3   2   1 100  99  98  97  96  95  94  93\n",
      "[109]  92  91  90  89  88  87  86  85  84  83  82  81  80  79  78  77  76  75\n",
      "[127]  74  73  72  71  70  69  68  67  66  65  64  63  62  61  60  59  58  57\n",
      "[145]  56  55  54  53  52  51  50  49  48  47  46  45  44  43  42  41  40  39\n",
      "[163]  38  37  36  35  34  33  32  31  30  29  28  27  26  25  24  23  22  21\n",
      "[181]  20  19  18  17  16  15  14  13  12  11  10   9   8   7   6   5   4   3\n",
      "[199]   2   1\n"
     ]
    }
   ],
   "source": [
    "print(rep(100:1, times=2))"
   ]
  },
  {
   "cell_type": "markdown",
   "metadata": {},
   "source": [
    "# 3"
   ]
  },
  {
   "cell_type": "code",
   "execution_count": 43,
   "metadata": {},
   "outputs": [],
   "source": [
    "x <- c(0.2, 11.7, 2.8, 1.0, 1.2, 11.7, 5.8, 9.1, 4.5)"
   ]
  },
  {
   "cell_type": "code",
   "execution_count": 44,
   "metadata": {},
   "outputs": [
    {
     "data": {
      "text/html": [
       "0.2"
      ],
      "text/latex": [
       "0.2"
      ],
      "text/markdown": [
       "0.2"
      ],
      "text/plain": [
       "[1] 0.2"
      ]
     },
     "metadata": {},
     "output_type": "display_data"
    }
   ],
   "source": [
    "min(x)"
   ]
  },
  {
   "cell_type": "code",
   "execution_count": 45,
   "metadata": {},
   "outputs": [
    {
     "data": {
      "text/html": [
       "11.7"
      ],
      "text/latex": [
       "11.7"
      ],
      "text/markdown": [
       "11.7"
      ],
      "text/plain": [
       "[1] 11.7"
      ]
     },
     "metadata": {},
     "output_type": "display_data"
    }
   ],
   "source": [
    "max(x)"
   ]
  },
  {
   "cell_type": "code",
   "execution_count": 46,
   "metadata": {},
   "outputs": [
    {
     "data": {
      "text/html": [
       "<style>\n",
       ".list-inline {list-style: none; margin:0; padding: 0}\n",
       ".list-inline>li {display: inline-block}\n",
       ".list-inline>li:not(:last-child)::after {content: \"\\00b7\"; padding: 0 .5ex}\n",
       "</style>\n",
       "<ol class=list-inline><li>-5.8</li><li>5.7</li><li>-3.2</li><li>-5</li><li>-4.8</li><li>5.7</li><li>-0.2</li><li>3.1</li><li>-1.5</li></ol>\n"
      ],
      "text/latex": [
       "\\begin{enumerate*}\n",
       "\\item -5.8\n",
       "\\item 5.7\n",
       "\\item -3.2\n",
       "\\item -5\n",
       "\\item -4.8\n",
       "\\item 5.7\n",
       "\\item -0.2\n",
       "\\item 3.1\n",
       "\\item -1.5\n",
       "\\end{enumerate*}\n"
      ],
      "text/markdown": [
       "1. -5.8\n",
       "2. 5.7\n",
       "3. -3.2\n",
       "4. -5\n",
       "5. -4.8\n",
       "6. 5.7\n",
       "7. -0.2\n",
       "8. 3.1\n",
       "9. -1.5\n",
       "\n",
       "\n"
      ],
      "text/plain": [
       "[1] -5.8  5.7 -3.2 -5.0 -4.8  5.7 -0.2  3.1 -1.5"
      ]
     },
     "metadata": {},
     "output_type": "display_data"
    }
   ],
   "source": [
    "x - 6"
   ]
  },
  {
   "cell_type": "code",
   "execution_count": 48,
   "metadata": {},
   "outputs": [
    {
     "data": {
      "text/html": [
       "5.33333333333333"
      ],
      "text/latex": [
       "5.33333333333333"
      ],
      "text/markdown": [
       "5.33333333333333"
      ],
      "text/plain": [
       "[1] 5.333333"
      ]
     },
     "metadata": {},
     "output_type": "display_data"
    }
   ],
   "source": [
    "mean(x)"
   ]
  },
  {
   "cell_type": "code",
   "execution_count": 49,
   "metadata": {},
   "outputs": [
    {
     "data": {
      "text/html": [
       "48"
      ],
      "text/latex": [
       "48"
      ],
      "text/markdown": [
       "48"
      ],
      "text/plain": [
       "[1] 48"
      ]
     },
     "metadata": {},
     "output_type": "display_data"
    }
   ],
   "source": [
    "sum(x)"
   ]
  },
  {
   "cell_type": "code",
   "execution_count": 54,
   "metadata": {},
   "outputs": [
    {
     "data": {
      "text/html": [
       "4.5"
      ],
      "text/latex": [
       "4.5"
      ],
      "text/markdown": [
       "4.5"
      ],
      "text/plain": [
       "[1] 4.5"
      ]
     },
     "metadata": {},
     "output_type": "display_data"
    }
   ],
   "source": [
    "x[length(x)]"
   ]
  },
  {
   "cell_type": "code",
   "execution_count": 55,
   "metadata": {},
   "outputs": [
    {
     "data": {
      "text/html": [
       "11.5"
      ],
      "text/latex": [
       "11.5"
      ],
      "text/markdown": [
       "11.5"
      ],
      "text/plain": [
       "[1] 11.5"
      ]
     },
     "metadata": {},
     "output_type": "display_data"
    }
   ],
   "source": [
    "max(x) - min(x)"
   ]
  },
  {
   "cell_type": "code",
   "execution_count": 57,
   "metadata": {},
   "outputs": [
    {
     "data": {
      "text/html": [
       "<style>\n",
       ".list-inline {list-style: none; margin:0; padding: 0}\n",
       ".list-inline>li {display: inline-block}\n",
       ".list-inline>li:not(:last-child)::after {content: \"\\00b7\"; padding: 0 .5ex}\n",
       "</style>\n",
       "<ol class=list-inline><li>4.5</li><li>9.1</li><li>5.8</li><li>11.7</li><li>1.2</li><li>1</li><li>2.8</li><li>11.7</li><li>0.2</li></ol>\n"
      ],
      "text/latex": [
       "\\begin{enumerate*}\n",
       "\\item 4.5\n",
       "\\item 9.1\n",
       "\\item 5.8\n",
       "\\item 11.7\n",
       "\\item 1.2\n",
       "\\item 1\n",
       "\\item 2.8\n",
       "\\item 11.7\n",
       "\\item 0.2\n",
       "\\end{enumerate*}\n"
      ],
      "text/markdown": [
       "1. 4.5\n",
       "2. 9.1\n",
       "3. 5.8\n",
       "4. 11.7\n",
       "5. 1.2\n",
       "6. 1\n",
       "7. 2.8\n",
       "8. 11.7\n",
       "9. 0.2\n",
       "\n",
       "\n"
      ],
      "text/plain": [
       "[1]  4.5  9.1  5.8 11.7  1.2  1.0  2.8 11.7  0.2"
      ]
     },
     "metadata": {},
     "output_type": "display_data"
    }
   ],
   "source": [
    "x[length(x):0]"
   ]
  },
  {
   "cell_type": "code",
   "execution_count": 58,
   "metadata": {},
   "outputs": [
    {
     "data": {
      "text/html": [
       "<style>\n",
       ".list-inline {list-style: none; margin:0; padding: 0}\n",
       ".list-inline>li {display: inline-block}\n",
       ".list-inline>li:not(:last-child)::after {content: \"\\00b7\"; padding: 0 .5ex}\n",
       "</style>\n",
       "<ol class=list-inline><li>0.04</li><li>136.89</li><li>7.84</li></ol>\n"
      ],
      "text/latex": [
       "\\begin{enumerate*}\n",
       "\\item 0.04\n",
       "\\item 136.89\n",
       "\\item 7.84\n",
       "\\end{enumerate*}\n"
      ],
      "text/markdown": [
       "1. 0.04\n",
       "2. 136.89\n",
       "3. 7.84\n",
       "\n",
       "\n"
      ],
      "text/plain": [
       "[1]   0.04 136.89   7.84"
      ]
     },
     "metadata": {},
     "output_type": "display_data"
    }
   ],
   "source": [
    "x[1:3]^2"
   ]
  },
  {
   "cell_type": "code",
   "execution_count": 64,
   "metadata": {},
   "outputs": [
    {
     "data": {
      "text/html": [
       "<style>\n",
       ".list-inline {list-style: none; margin:0; padding: 0}\n",
       ".list-inline>li {display: inline-block}\n",
       ".list-inline>li:not(:last-child)::after {content: \"\\00b7\"; padding: 0 .5ex}\n",
       "</style>\n",
       "<ol class=list-inline><li>11.7</li><li>11.7</li><li>5.8</li><li>9.1</li><li>4.5</li></ol>\n"
      ],
      "text/latex": [
       "\\begin{enumerate*}\n",
       "\\item 11.7\n",
       "\\item 11.7\n",
       "\\item 5.8\n",
       "\\item 9.1\n",
       "\\item 4.5\n",
       "\\end{enumerate*}\n"
      ],
      "text/markdown": [
       "1. 11.7\n",
       "2. 11.7\n",
       "3. 5.8\n",
       "4. 9.1\n",
       "5. 4.5\n",
       "\n",
       "\n"
      ],
      "text/plain": [
       "[1] 11.7 11.7  5.8  9.1  4.5"
      ]
     },
     "metadata": {},
     "output_type": "display_data"
    },
    {
     "data": {
      "text/html": [
       "<style>\n",
       ".list-inline {list-style: none; margin:0; padding: 0}\n",
       ".list-inline>li {display: inline-block}\n",
       ".list-inline>li:not(:last-child)::after {content: \"\\00b7\"; padding: 0 .5ex}\n",
       "</style>\n",
       "<ol class=list-inline><li>TRUE</li><li>TRUE</li><li>TRUE</li><li>TRUE</li><li>FALSE</li></ol>\n"
      ],
      "text/latex": [
       "\\begin{enumerate*}\n",
       "\\item TRUE\n",
       "\\item TRUE\n",
       "\\item TRUE\n",
       "\\item TRUE\n",
       "\\item FALSE\n",
       "\\end{enumerate*}\n"
      ],
      "text/markdown": [
       "1. TRUE\n",
       "2. TRUE\n",
       "3. TRUE\n",
       "4. TRUE\n",
       "5. FALSE\n",
       "\n",
       "\n"
      ],
      "text/plain": [
       "[1]  TRUE  TRUE  TRUE  TRUE FALSE"
      ]
     },
     "metadata": {},
     "output_type": "display_data"
    }
   ],
   "source": [
    "x[x>3]\n",
    "x[x>3] > 5"
   ]
  },
  {
   "cell_type": "code",
   "execution_count": 74,
   "metadata": {},
   "outputs": [
    {
     "data": {
      "text/html": [
       "<style>\n",
       ".list-inline {list-style: none; margin:0; padding: 0}\n",
       ".list-inline>li {display: inline-block}\n",
       ".list-inline>li:not(:last-child)::after {content: \"\\00b7\"; padding: 0 .5ex}\n",
       "</style>\n",
       "<ol class=list-inline><li>0</li><li>4</li></ol>\n"
      ],
      "text/latex": [
       "\\begin{enumerate*}\n",
       "\\item 0\n",
       "\\item 4\n",
       "\\end{enumerate*}\n"
      ],
      "text/markdown": [
       "1. 0\n",
       "2. 4\n",
       "\n",
       "\n"
      ],
      "text/plain": [
       "[1] 0 4"
      ]
     },
     "metadata": {},
     "output_type": "display_data"
    }
   ],
   "source": [
    "which(x[-1]>10)-1"
   ]
  },
  {
   "cell_type": "markdown",
   "metadata": {},
   "source": [
    "# 4"
   ]
  },
  {
   "cell_type": "code",
   "execution_count": 75,
   "metadata": {},
   "outputs": [],
   "source": [
    "x=c(2,4,6,8,9)\n",
    "y=c(2,3,5,7,13)"
   ]
  },
  {
   "cell_type": "code",
   "execution_count": 81,
   "metadata": {},
   "outputs": [
    {
     "data": {
      "text/html": [
       "512"
      ],
      "text/latex": [
       "512"
      ],
      "text/markdown": [
       "512"
      ],
      "text/plain": [
       "[1] 512"
      ]
     },
     "metadata": {},
     "output_type": "display_data"
    },
    {
     "data": {
      "text/html": [
       "512"
      ],
      "text/latex": [
       "512"
      ],
      "text/markdown": [
       "512"
      ],
      "text/plain": [
       "[1] 512"
      ]
     },
     "metadata": {},
     "output_type": "display_data"
    }
   ],
   "source": [
    "x[1]^(x[3]/2)^x[1]\n",
    "\n",
    "2^(6/2)^2"
   ]
  },
  {
   "cell_type": "code",
   "execution_count": 82,
   "metadata": {},
   "outputs": [
    {
     "data": {
      "text/html": [
       "<style>\n",
       ".list-inline {list-style: none; margin:0; padding: 0}\n",
       ".list-inline>li {display: inline-block}\n",
       ".list-inline>li:not(:last-child)::after {content: \"\\00b7\"; padding: 0 .5ex}\n",
       "</style>\n",
       "<ol class=list-inline><li>2</li><li>13</li><li>31</li><li>57</li><li>68</li></ol>\n"
      ],
      "text/latex": [
       "\\begin{enumerate*}\n",
       "\\item 2\n",
       "\\item 13\n",
       "\\item 31\n",
       "\\item 57\n",
       "\\item 68\n",
       "\\end{enumerate*}\n"
      ],
      "text/markdown": [
       "1. 2\n",
       "2. 13\n",
       "3. 31\n",
       "4. 57\n",
       "5. 68\n",
       "\n",
       "\n"
      ],
      "text/plain": [
       "[1]  2 13 31 57 68"
      ]
     },
     "metadata": {},
     "output_type": "display_data"
    }
   ],
   "source": [
    "x^2-y"
   ]
  },
  {
   "cell_type": "code",
   "execution_count": 86,
   "metadata": {},
   "outputs": [
    {
     "data": {
      "text/html": [
       "<style>\n",
       ".list-inline {list-style: none; margin:0; padding: 0}\n",
       ".list-inline>li {display: inline-block}\n",
       ".list-inline>li:not(:last-child)::after {content: \"\\00b7\"; padding: 0 .5ex}\n",
       "</style>\n",
       "<ol class=list-inline><li>3</li><li>7</li><li>&lt;NA&gt;</li><li>&lt;NA&gt;</li><li>&lt;NA&gt;</li></ol>\n"
      ],
      "text/latex": [
       "\\begin{enumerate*}\n",
       "\\item 3\n",
       "\\item 7\n",
       "\\item <NA>\n",
       "\\item <NA>\n",
       "\\item <NA>\n",
       "\\end{enumerate*}\n"
      ],
      "text/markdown": [
       "1. 3\n",
       "2. 7\n",
       "3. &lt;NA&gt;\n",
       "4. &lt;NA&gt;\n",
       "5. &lt;NA&gt;\n",
       "\n",
       "\n"
      ],
      "text/plain": [
       "[1]  3  7 NA NA NA"
      ]
     },
     "metadata": {},
     "output_type": "display_data"
    },
    {
     "data": {
      "text/html": [
       "<style>\n",
       ".list-inline {list-style: none; margin:0; padding: 0}\n",
       ".list-inline>li {display: inline-block}\n",
       ".list-inline>li:not(:last-child)::after {content: \"\\00b7\"; padding: 0 .5ex}\n",
       "</style>\n",
       "<ol class=list-inline><li>5</li><li>11</li><li>&lt;NA&gt;</li><li>&lt;NA&gt;</li><li>&lt;NA&gt;</li></ol>\n"
      ],
      "text/latex": [
       "\\begin{enumerate*}\n",
       "\\item 5\n",
       "\\item 11\n",
       "\\item <NA>\n",
       "\\item <NA>\n",
       "\\item <NA>\n",
       "\\end{enumerate*}\n"
      ],
      "text/markdown": [
       "1. 5\n",
       "2. 11\n",
       "3. &lt;NA&gt;\n",
       "4. &lt;NA&gt;\n",
       "5. &lt;NA&gt;\n",
       "\n",
       "\n"
      ],
      "text/plain": [
       "[1]  5 11 NA NA NA"
      ]
     },
     "metadata": {},
     "output_type": "display_data"
    }
   ],
   "source": [
    "y[x]\n",
    "y[x] + x"
   ]
  },
  {
   "cell_type": "code",
   "execution_count": 90,
   "metadata": {},
   "outputs": [
    {
     "data": {
      "text/html": [
       "<style>\n",
       ".list-inline {list-style: none; margin:0; padding: 0}\n",
       ".list-inline>li {display: inline-block}\n",
       ".list-inline>li:not(:last-child)::after {content: \"\\00b7\"; padding: 0 .5ex}\n",
       "</style>\n",
       "<ol class=list-inline><li>TRUE</li><li>TRUE</li><li>FALSE</li><li>FALSE</li><li>FALSE</li></ol>\n"
      ],
      "text/latex": [
       "\\begin{enumerate*}\n",
       "\\item TRUE\n",
       "\\item TRUE\n",
       "\\item FALSE\n",
       "\\item FALSE\n",
       "\\item FALSE\n",
       "\\end{enumerate*}\n"
      ],
      "text/markdown": [
       "1. TRUE\n",
       "2. TRUE\n",
       "3. FALSE\n",
       "4. FALSE\n",
       "5. FALSE\n",
       "\n",
       "\n"
      ],
      "text/plain": [
       "[1]  TRUE  TRUE FALSE FALSE FALSE"
      ]
     },
     "metadata": {},
     "output_type": "display_data"
    },
    {
     "data": {
      "text/html": [
       "<style>\n",
       ".list-inline {list-style: none; margin:0; padding: 0}\n",
       ".list-inline>li {display: inline-block}\n",
       ".list-inline>li:not(:last-child)::after {content: \"\\00b7\"; padding: 0 .5ex}\n",
       "</style>\n",
       "<ol class=list-inline><li>FALSE</li><li>TRUE</li><li>TRUE</li><li>TRUE</li><li>TRUE</li></ol>\n"
      ],
      "text/latex": [
       "\\begin{enumerate*}\n",
       "\\item FALSE\n",
       "\\item TRUE\n",
       "\\item TRUE\n",
       "\\item TRUE\n",
       "\\item TRUE\n",
       "\\end{enumerate*}\n"
      ],
      "text/markdown": [
       "1. FALSE\n",
       "2. TRUE\n",
       "3. TRUE\n",
       "4. TRUE\n",
       "5. TRUE\n",
       "\n",
       "\n"
      ],
      "text/plain": [
       "[1] FALSE  TRUE  TRUE  TRUE  TRUE"
      ]
     },
     "metadata": {},
     "output_type": "display_data"
    },
    {
     "data": {
      "text/html": [
       "5"
      ],
      "text/latex": [
       "5"
      ],
      "text/markdown": [
       "5"
      ],
      "text/plain": [
       "[1] 5"
      ]
     },
     "metadata": {},
     "output_type": "display_data"
    }
   ],
   "source": [
    "x<5\n",
    "x>2\n",
    "sum(x<5 | x>2)"
   ]
  },
  {
   "cell_type": "code",
   "execution_count": 95,
   "metadata": {},
   "outputs": [
    {
     "data": {
      "text/html": [
       "<style>\n",
       ".list-inline {list-style: none; margin:0; padding: 0}\n",
       ".list-inline>li {display: inline-block}\n",
       ".list-inline>li:not(:last-child)::after {content: \"\\00b7\"; padding: 0 .5ex}\n",
       "</style>\n",
       "<ol class=list-inline><li>FALSE</li><li>FALSE</li><li>TRUE</li><li>TRUE</li><li>TRUE</li></ol>\n"
      ],
      "text/latex": [
       "\\begin{enumerate*}\n",
       "\\item FALSE\n",
       "\\item FALSE\n",
       "\\item TRUE\n",
       "\\item TRUE\n",
       "\\item TRUE\n",
       "\\end{enumerate*}\n"
      ],
      "text/markdown": [
       "1. FALSE\n",
       "2. FALSE\n",
       "3. TRUE\n",
       "4. TRUE\n",
       "5. TRUE\n",
       "\n",
       "\n"
      ],
      "text/plain": [
       "[1] FALSE FALSE  TRUE  TRUE  TRUE"
      ]
     },
     "metadata": {},
     "output_type": "display_data"
    },
    {
     "data": {
      "text/html": [
       "<style>\n",
       ".list-inline {list-style: none; margin:0; padding: 0}\n",
       ".list-inline>li {display: inline-block}\n",
       ".list-inline>li:not(:last-child)::after {content: \"\\00b7\"; padding: 0 .5ex}\n",
       "</style>\n",
       "<ol class=list-inline><li>6</li><li>8</li><li>9</li></ol>\n"
      ],
      "text/latex": [
       "\\begin{enumerate*}\n",
       "\\item 6\n",
       "\\item 8\n",
       "\\item 9\n",
       "\\end{enumerate*}\n"
      ],
      "text/markdown": [
       "1. 6\n",
       "2. 8\n",
       "3. 9\n",
       "\n",
       "\n"
      ],
      "text/plain": [
       "[1] 6 8 9"
      ]
     },
     "metadata": {},
     "output_type": "display_data"
    },
    {
     "data": {
      "text/html": [
       "23"
      ],
      "text/latex": [
       "23"
      ],
      "text/markdown": [
       "23"
      ],
      "text/plain": [
       "[1] 23"
      ]
     },
     "metadata": {},
     "output_type": "display_data"
    }
   ],
   "source": [
    "x>5\n",
    "x[x>5]\n",
    "sum(x[x>5])"
   ]
  },
  {
   "cell_type": "markdown",
   "metadata": {},
   "source": [
    "# 5"
   ]
  },
  {
   "cell_type": "code",
   "execution_count": 96,
   "metadata": {},
   "outputs": [],
   "source": [
    "zz=matrix( c( c(1,2,NA), seq(7, 4), rep(4, 5) ), 4, 3 )"
   ]
  },
  {
   "cell_type": "code",
   "execution_count": 97,
   "metadata": {},
   "outputs": [
    {
     "data": {
      "text/html": [
       "<table>\n",
       "<caption>A matrix: 4 × 3 of type dbl</caption>\n",
       "<tbody>\n",
       "\t<tr><td> 1</td><td>6</td><td>4</td></tr>\n",
       "\t<tr><td> 2</td><td>5</td><td>4</td></tr>\n",
       "\t<tr><td>NA</td><td>4</td><td>4</td></tr>\n",
       "\t<tr><td> 7</td><td>4</td><td>4</td></tr>\n",
       "</tbody>\n",
       "</table>\n"
      ],
      "text/latex": [
       "A matrix: 4 × 3 of type dbl\n",
       "\\begin{tabular}{lll}\n",
       "\t  1 & 6 & 4\\\\\n",
       "\t  2 & 5 & 4\\\\\n",
       "\t NA & 4 & 4\\\\\n",
       "\t  7 & 4 & 4\\\\\n",
       "\\end{tabular}\n"
      ],
      "text/markdown": [
       "\n",
       "A matrix: 4 × 3 of type dbl\n",
       "\n",
       "|  1 | 6 | 4 |\n",
       "|  2 | 5 | 4 |\n",
       "| NA | 4 | 4 |\n",
       "|  7 | 4 | 4 |\n",
       "\n"
      ],
      "text/plain": [
       "     [,1] [,2] [,3]\n",
       "[1,]  1   6    4   \n",
       "[2,]  2   5    4   \n",
       "[3,] NA   4    4   \n",
       "[4,]  7   4    4   "
      ]
     },
     "metadata": {},
     "output_type": "display_data"
    }
   ],
   "source": [
    "zz"
   ]
  },
  {
   "cell_type": "code",
   "execution_count": 100,
   "metadata": {},
   "outputs": [
    {
     "data": {
      "text/html": [
       "<table>\n",
       "<caption>A matrix: 2 × 3 of type dbl</caption>\n",
       "<tbody>\n",
       "\t<tr><td>NA</td><td>4</td><td>4</td></tr>\n",
       "\t<tr><td> 7</td><td>4</td><td>4</td></tr>\n",
       "</tbody>\n",
       "</table>\n"
      ],
      "text/latex": [
       "A matrix: 2 × 3 of type dbl\n",
       "\\begin{tabular}{lll}\n",
       "\t NA & 4 & 4\\\\\n",
       "\t  7 & 4 & 4\\\\\n",
       "\\end{tabular}\n"
      ],
      "text/markdown": [
       "\n",
       "A matrix: 2 × 3 of type dbl\n",
       "\n",
       "| NA | 4 | 4 |\n",
       "|  7 | 4 | 4 |\n",
       "\n"
      ],
      "text/plain": [
       "     [,1] [,2] [,3]\n",
       "[1,] NA   4    4   \n",
       "[2,]  7   4    4   "
      ]
     },
     "metadata": {},
     "output_type": "display_data"
    }
   ],
   "source": [
    "zz[zz[,2]<5,]"
   ]
  },
  {
   "cell_type": "code",
   "execution_count": 101,
   "metadata": {},
   "outputs": [
    {
     "name": "stdout",
     "output_type": "stream",
     "text": [
      "[1]  2  5  4 NA  4  4  7  4  4\n"
     ]
    }
   ],
   "source": [
    "vec <- c(zz[2,],zz[3,], zz[4,]); print(vec)"
   ]
  }
 ],
 "metadata": {
  "kernelspec": {
   "display_name": "R",
   "language": "R",
   "name": "ir"
  },
  "language_info": {
   "codemirror_mode": "r",
   "file_extension": ".r",
   "mimetype": "text/x-r-source",
   "name": "R",
   "pygments_lexer": "r",
   "version": "3.6.0"
  }
 },
 "nbformat": 4,
 "nbformat_minor": 2
}
